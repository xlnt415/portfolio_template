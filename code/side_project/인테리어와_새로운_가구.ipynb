{
  "cells": [
    {
      "cell_type": "markdown",
      "metadata": {
        "id": "tM2xuMle2XI3"
      },
      "source": [
        "# 라이브러리"
      ]
    },
    {
      "cell_type": "code",
      "execution_count": 5,
      "metadata": {
        "id": "rRZe9YgaQ-RR"
      },
      "outputs": [],
      "source": [
        "# 라이브러리 불러오기\n",
        "import json\n",
        "import operator\n",
        "import pandas as pd\n",
        "from datetime import datetime, timedelta\n",
        "import re\n",
        "from collections import Counter\n",
        "import seaborn as sns\n",
        "from matplotlib.dates import DateFormatter\n",
        "import numpy as np"
      ]
    },
    {
      "cell_type": "code",
      "execution_count": 6,
      "metadata": {
        "id": "hJ0MF_8sRDu2"
      },
      "outputs": [],
      "source": [
        "# 한글 폰트 설정\n",
        "import matplotlib.pyplot as plt\n",
        "import koreanize_matplotlib\n",
        "import matplotlib.patches as mpatches"
      ]
    },
    {
      "cell_type": "code",
      "execution_count": 7,
      "metadata": {},
      "outputs": [],
      "source": [
        "import os\n",
        "\n",
        "# os.chdir('/content/drive/MyDrive/취업준비/오늘의집/원본데이터')\n",
        "os.chdir(r'G:\\내 드라이브\\취업준비\\오늘의집\\원본데이터')"
      ]
    },
    {
      "cell_type": "markdown",
      "metadata": {
        "id": "H2YSY9XmRQoc"
      },
      "source": [
        "# 1. 인테리어 산업 현황"
      ]
    },
    {
      "cell_type": "markdown",
      "metadata": {
        "id": "stCjTFipVoIi"
      },
      "source": [
        "##  1) 인테리어 산업 매출"
      ]
    },
    {
      "cell_type": "code",
      "execution_count": 8,
      "metadata": {
        "id": "_lpEwYODVtLK"
      },
      "outputs": [],
      "source": [
        "interior_sales = pd.read_excel('인테리어업체매출액.xlsx')"
      ]
    },
    {
      "cell_type": "code",
      "execution_count": 9,
      "metadata": {
        "id": "cA8djJYvuEHH"
      },
      "outputs": [
        {
          "data": {
            "text/html": [
              "<div>\n",
              "<style scoped>\n",
              "    .dataframe tbody tr th:only-of-type {\n",
              "        vertical-align: middle;\n",
              "    }\n",
              "\n",
              "    .dataframe tbody tr th {\n",
              "        vertical-align: top;\n",
              "    }\n",
              "\n",
              "    .dataframe thead th {\n",
              "        text-align: right;\n",
              "    }\n",
              "</style>\n",
              "<table border=\"1\" class=\"dataframe\">\n",
              "  <thead>\n",
              "    <tr style=\"text-align: right;\">\n",
              "      <th></th>\n",
              "      <th>시점</th>\n",
              "      <th>매출액평균</th>\n",
              "    </tr>\n",
              "  </thead>\n",
              "  <tbody>\n",
              "    <tr>\n",
              "      <th>0</th>\n",
              "      <td>2018</td>\n",
              "      <td>25233.91</td>\n",
              "    </tr>\n",
              "    <tr>\n",
              "      <th>1</th>\n",
              "      <td>2019</td>\n",
              "      <td>14341.49</td>\n",
              "    </tr>\n",
              "    <tr>\n",
              "      <th>2</th>\n",
              "      <td>2020</td>\n",
              "      <td>12154.99</td>\n",
              "    </tr>\n",
              "    <tr>\n",
              "      <th>3</th>\n",
              "      <td>2021</td>\n",
              "      <td>7696.10</td>\n",
              "    </tr>\n",
              "  </tbody>\n",
              "</table>\n",
              "</div>"
            ],
            "text/plain": [
              "     시점     매출액평균\n",
              "0  2018  25233.91\n",
              "1  2019  14341.49\n",
              "2  2020  12154.99\n",
              "3  2021   7696.10"
            ]
          },
          "execution_count": 9,
          "metadata": {},
          "output_type": "execute_result"
        }
      ],
      "source": [
        "interior_sales"
      ]
    },
    {
      "cell_type": "code",
      "execution_count": 10,
      "metadata": {
        "id": "Z9I_tyuaWHK1"
      },
      "outputs": [
        {
          "data": {
            "text/plain": [
              "<Axes: xlabel='시점'>"
            ]
          },
          "execution_count": 10,
          "metadata": {},
          "output_type": "execute_result"
        },
        {
          "data": {
            "image/png": "[encoded data removed]",
            "text/plain": [
              "<Figure size 640x480 with 1 Axes>"
            ]
          },
          "metadata": {},
          "output_type": "display_data"
        }
      ],
      "source": [
        "interior_sales.plot(x = '시점', y = '매출액평균') # 출처 : 국가통계 포털"
      ]
    },
    {
      "cell_type": "markdown",
      "metadata": {
        "id": "I_vMtuzCcL6O"
      },
      "source": [
        "# 2. 가구형태 분석"
      ]
    },
    {
      "cell_type": "markdown",
      "metadata": {
        "id": "7LPWOGC62STd"
      },
      "source": [
        "## 1) 가구원수 변화"
      ]
    },
    {
      "cell_type": "code",
      "execution_count": 11,
      "metadata": {
        "id": "vbEXn7ZUcL6O"
      },
      "outputs": [],
      "source": [
        "type_furniture = pd.read_excel('가구원수별.xlsx')"
      ]
    },
    {
      "cell_type": "code",
      "execution_count": 12,
      "metadata": {
        "id": "aawwBhK-cL6O"
      },
      "outputs": [
        {
          "data": {
            "text/html": [
              "<div>\n",
              "<style scoped>\n",
              "    .dataframe tbody tr th:only-of-type {\n",
              "        vertical-align: middle;\n",
              "    }\n",
              "\n",
              "    .dataframe tbody tr th {\n",
              "        vertical-align: top;\n",
              "    }\n",
              "\n",
              "    .dataframe thead th {\n",
              "        text-align: right;\n",
              "    }\n",
              "</style>\n",
              "<table border=\"1\" class=\"dataframe\">\n",
              "  <thead>\n",
              "    <tr style=\"text-align: right;\">\n",
              "      <th></th>\n",
              "      <th>시점</th>\n",
              "      <th>행정구역별(읍면동)</th>\n",
              "      <th>1인</th>\n",
              "      <th>2인</th>\n",
              "      <th>3인</th>\n",
              "      <th>4인</th>\n",
              "      <th>5인이상</th>\n",
              "    </tr>\n",
              "  </thead>\n",
              "  <tbody>\n",
              "    <tr>\n",
              "      <th>0</th>\n",
              "      <td>2018</td>\n",
              "      <td>전국</td>\n",
              "      <td>5848594</td>\n",
              "      <td>5445691</td>\n",
              "      <td>4203792</td>\n",
              "      <td>3396320</td>\n",
              "      <td>1084791</td>\n",
              "    </tr>\n",
              "    <tr>\n",
              "      <th>1</th>\n",
              "      <td>2018</td>\n",
              "      <td>수원시</td>\n",
              "      <td>129612</td>\n",
              "      <td>102460</td>\n",
              "      <td>99659</td>\n",
              "      <td>93215</td>\n",
              "      <td>25873</td>\n",
              "    </tr>\n",
              "    <tr>\n",
              "      <th>2</th>\n",
              "      <td>2018</td>\n",
              "      <td>성남시</td>\n",
              "      <td>102895</td>\n",
              "      <td>89725</td>\n",
              "      <td>80343</td>\n",
              "      <td>66930</td>\n",
              "      <td>19429</td>\n",
              "    </tr>\n",
              "    <tr>\n",
              "      <th>3</th>\n",
              "      <td>2018</td>\n",
              "      <td>고양시</td>\n",
              "      <td>84595</td>\n",
              "      <td>95810</td>\n",
              "      <td>90501</td>\n",
              "      <td>76881</td>\n",
              "      <td>22321</td>\n",
              "    </tr>\n",
              "    <tr>\n",
              "      <th>4</th>\n",
              "      <td>2018</td>\n",
              "      <td>용인시</td>\n",
              "      <td>75360</td>\n",
              "      <td>87774</td>\n",
              "      <td>86908</td>\n",
              "      <td>81154</td>\n",
              "      <td>24771</td>\n",
              "    </tr>\n",
              "  </tbody>\n",
              "</table>\n",
              "</div>"
            ],
            "text/plain": [
              "     시점 행정구역별(읍면동)       1인       2인       3인       4인     5인이상\n",
              "0  2018         전국  5848594  5445691  4203792  3396320  1084791\n",
              "1  2018     　　　수원시   129612   102460    99659    93215    25873\n",
              "2  2018     　　　성남시   102895    89725    80343    66930    19429\n",
              "3  2018     　　　고양시    84595    95810    90501    76881    22321\n",
              "4  2018     　　　용인시    75360    87774    86908    81154    24771"
            ]
          },
          "execution_count": 12,
          "metadata": {},
          "output_type": "execute_result"
        }
      ],
      "source": [
        "type_furniture.head()"
      ]
    },
    {
      "cell_type": "code",
      "execution_count": 13,
      "metadata": {
        "id": "A-LN4xiwv9GU"
      },
      "outputs": [
        {
          "data": {
            "text/html": [
              "<div>\n",
              "<style scoped>\n",
              "    .dataframe tbody tr th:only-of-type {\n",
              "        vertical-align: middle;\n",
              "    }\n",
              "\n",
              "    .dataframe tbody tr th {\n",
              "        vertical-align: top;\n",
              "    }\n",
              "\n",
              "    .dataframe thead th {\n",
              "        text-align: right;\n",
              "    }\n",
              "</style>\n",
              "<table border=\"1\" class=\"dataframe\">\n",
              "  <thead>\n",
              "    <tr style=\"text-align: right;\">\n",
              "      <th></th>\n",
              "      <th>시점</th>\n",
              "      <th>행정구역별(읍면동)</th>\n",
              "      <th>가구원수</th>\n",
              "      <th>가구수</th>\n",
              "    </tr>\n",
              "  </thead>\n",
              "  <tbody>\n",
              "    <tr>\n",
              "      <th>0</th>\n",
              "      <td>2018</td>\n",
              "      <td>전국</td>\n",
              "      <td>1인</td>\n",
              "      <td>5848594</td>\n",
              "    </tr>\n",
              "    <tr>\n",
              "      <th>1</th>\n",
              "      <td>2018</td>\n",
              "      <td>수원시</td>\n",
              "      <td>1인</td>\n",
              "      <td>129612</td>\n",
              "    </tr>\n",
              "    <tr>\n",
              "      <th>2</th>\n",
              "      <td>2018</td>\n",
              "      <td>성남시</td>\n",
              "      <td>1인</td>\n",
              "      <td>102895</td>\n",
              "    </tr>\n",
              "    <tr>\n",
              "      <th>3</th>\n",
              "      <td>2018</td>\n",
              "      <td>고양시</td>\n",
              "      <td>1인</td>\n",
              "      <td>84595</td>\n",
              "    </tr>\n",
              "    <tr>\n",
              "      <th>4</th>\n",
              "      <td>2018</td>\n",
              "      <td>용인시</td>\n",
              "      <td>1인</td>\n",
              "      <td>75360</td>\n",
              "    </tr>\n",
              "  </tbody>\n",
              "</table>\n",
              "</div>"
            ],
            "text/plain": [
              "     시점 행정구역별(읍면동) 가구원수      가구수\n",
              "0  2018         전국   1인  5848594\n",
              "1  2018     　　　수원시   1인   129612\n",
              "2  2018     　　　성남시   1인   102895\n",
              "3  2018     　　　고양시   1인    84595\n",
              "4  2018     　　　용인시   1인    75360"
            ]
          },
          "execution_count": 13,
          "metadata": {},
          "output_type": "execute_result"
        }
      ],
      "source": [
        "grouped_data = type_furniture.melt(id_vars = ['시점', '행정구역별(읍면동)'], var_name = '가구원수', value_name = '가구수')\n",
        "grouped_data.head()"
      ]
    },
    {
      "cell_type": "code",
      "execution_count": 14,
      "metadata": {
        "id": "FEsyaT2Fsy3u"
      },
      "outputs": [
        {
          "data": {
            "text/html": [
              "<div>\n",
              "<style scoped>\n",
              "    .dataframe tbody tr th:only-of-type {\n",
              "        vertical-align: middle;\n",
              "    }\n",
              "\n",
              "    .dataframe tbody tr th {\n",
              "        vertical-align: top;\n",
              "    }\n",
              "\n",
              "    .dataframe thead th {\n",
              "        text-align: right;\n",
              "    }\n",
              "</style>\n",
              "<table border=\"1\" class=\"dataframe\">\n",
              "  <thead>\n",
              "    <tr style=\"text-align: right;\">\n",
              "      <th></th>\n",
              "      <th>시점</th>\n",
              "      <th>행정구역별(읍면동)</th>\n",
              "      <th>가구원수</th>\n",
              "      <th>가구수</th>\n",
              "    </tr>\n",
              "  </thead>\n",
              "  <tbody>\n",
              "    <tr>\n",
              "      <th>0</th>\n",
              "      <td>2018</td>\n",
              "      <td>전국</td>\n",
              "      <td>1인</td>\n",
              "      <td>5848594</td>\n",
              "    </tr>\n",
              "    <tr>\n",
              "      <th>6</th>\n",
              "      <td>2019</td>\n",
              "      <td>전국</td>\n",
              "      <td>1인</td>\n",
              "      <td>6147516</td>\n",
              "    </tr>\n",
              "    <tr>\n",
              "      <th>12</th>\n",
              "      <td>2020</td>\n",
              "      <td>전국</td>\n",
              "      <td>1인</td>\n",
              "      <td>6643354</td>\n",
              "    </tr>\n",
              "    <tr>\n",
              "      <th>18</th>\n",
              "      <td>2021</td>\n",
              "      <td>전국</td>\n",
              "      <td>1인</td>\n",
              "      <td>7165788</td>\n",
              "    </tr>\n",
              "    <tr>\n",
              "      <th>24</th>\n",
              "      <td>2022</td>\n",
              "      <td>전국</td>\n",
              "      <td>1인</td>\n",
              "      <td>7502350</td>\n",
              "    </tr>\n",
              "  </tbody>\n",
              "</table>\n",
              "</div>"
            ],
            "text/plain": [
              "      시점 행정구역별(읍면동) 가구원수      가구수\n",
              "0   2018         전국   1인  5848594\n",
              "6   2019         전국   1인  6147516\n",
              "12  2020         전국   1인  6643354\n",
              "18  2021         전국   1인  7165788\n",
              "24  2022         전국   1인  7502350"
            ]
          },
          "execution_count": 14,
          "metadata": {},
          "output_type": "execute_result"
        }
      ],
      "source": [
        "grouped_data_nation = grouped_data[grouped_data['행정구역별(읍면동)'] == '전국']\n",
        "grouped_data_nation.head()"
      ]
    },
    {
      "cell_type": "code",
      "execution_count": 15,
      "metadata": {
        "id": "GAiMu8pwtKwC"
      },
      "outputs": [
        {
          "name": "stderr",
          "output_type": "stream",
          "text": [
            "C:\\Users\\xlnt\\AppData\\Local\\Temp\\ipykernel_45904\\740802997.py:1: FutureWarning: The provided callable <function mean at 0x0000024DAEF3D8B0> is currently using DataFrameGroupBy.mean. In a future version of pandas, the provided callable will be used directly. To keep current behavior pass the string \"mean\" instead.\n",
            "  grouped_data_nation.pivot_table(index = '시점', columns='가구원수', values='가구수', aggfunc = np.mean)\n"
          ]
        },
        {
          "data": {
            "text/html": [
              "<div>\n",
              "<style scoped>\n",
              "    .dataframe tbody tr th:only-of-type {\n",
              "        vertical-align: middle;\n",
              "    }\n",
              "\n",
              "    .dataframe tbody tr th {\n",
              "        vertical-align: top;\n",
              "    }\n",
              "\n",
              "    .dataframe thead th {\n",
              "        text-align: right;\n",
              "    }\n",
              "</style>\n",
              "<table border=\"1\" class=\"dataframe\">\n",
              "  <thead>\n",
              "    <tr style=\"text-align: right;\">\n",
              "      <th>가구원수</th>\n",
              "      <th>1인</th>\n",
              "      <th>2인</th>\n",
              "      <th>3인</th>\n",
              "      <th>4인</th>\n",
              "      <th>5인이상</th>\n",
              "    </tr>\n",
              "    <tr>\n",
              "      <th>시점</th>\n",
              "      <th></th>\n",
              "      <th></th>\n",
              "      <th></th>\n",
              "      <th></th>\n",
              "      <th></th>\n",
              "    </tr>\n",
              "  </thead>\n",
              "  <tbody>\n",
              "    <tr>\n",
              "      <th>2018</th>\n",
              "      <td>5848594.0</td>\n",
              "      <td>5445691.0</td>\n",
              "      <td>4203792.0</td>\n",
              "      <td>3396320.0</td>\n",
              "      <td>1084791.0</td>\n",
              "    </tr>\n",
              "    <tr>\n",
              "      <th>2019</th>\n",
              "      <td>6147516.0</td>\n",
              "      <td>5663330.0</td>\n",
              "      <td>4217736.0</td>\n",
              "      <td>3300114.0</td>\n",
              "      <td>1014492.0</td>\n",
              "    </tr>\n",
              "    <tr>\n",
              "      <th>2020</th>\n",
              "      <td>6643354.0</td>\n",
              "      <td>5864525.0</td>\n",
              "      <td>4200629.0</td>\n",
              "      <td>3271315.0</td>\n",
              "      <td>946887.0</td>\n",
              "    </tr>\n",
              "    <tr>\n",
              "      <th>2021</th>\n",
              "      <td>7165788.0</td>\n",
              "      <td>6076549.0</td>\n",
              "      <td>4169956.0</td>\n",
              "      <td>3154286.0</td>\n",
              "      <td>881884.0</td>\n",
              "    </tr>\n",
              "    <tr>\n",
              "      <th>2022</th>\n",
              "      <td>7502350.0</td>\n",
              "      <td>6260692.0</td>\n",
              "      <td>4184540.0</td>\n",
              "      <td>3010697.0</td>\n",
              "      <td>815228.0</td>\n",
              "    </tr>\n",
              "  </tbody>\n",
              "</table>\n",
              "</div>"
            ],
            "text/plain": [
              "가구원수         1인         2인         3인         4인       5인이상\n",
              "시점                                                         \n",
              "2018  5848594.0  5445691.0  4203792.0  3396320.0  1084791.0\n",
              "2019  6147516.0  5663330.0  4217736.0  3300114.0  1014492.0\n",
              "2020  6643354.0  5864525.0  4200629.0  3271315.0   946887.0\n",
              "2021  7165788.0  6076549.0  4169956.0  3154286.0   881884.0\n",
              "2022  7502350.0  6260692.0  4184540.0  3010697.0   815228.0"
            ]
          },
          "execution_count": 15,
          "metadata": {},
          "output_type": "execute_result"
        }
      ],
      "source": [
        "grouped_data_nation.pivot_table(index = '시점', columns='가구원수', values='가구수', aggfunc = np.mean)"
      ]
    },
    {
      "cell_type": "code",
      "execution_count": 16,
      "metadata": {
        "id": "MyxS_rjHtilt"
      },
      "outputs": [
        {
          "data": {
            "text/html": [
              "<div>\n",
              "<style scoped>\n",
              "    .dataframe tbody tr th:only-of-type {\n",
              "        vertical-align: middle;\n",
              "    }\n",
              "\n",
              "    .dataframe tbody tr th {\n",
              "        vertical-align: top;\n",
              "    }\n",
              "\n",
              "    .dataframe thead th {\n",
              "        text-align: right;\n",
              "    }\n",
              "</style>\n",
              "<table border=\"1\" class=\"dataframe\">\n",
              "  <thead>\n",
              "    <tr style=\"text-align: right;\">\n",
              "      <th></th>\n",
              "      <th>시점</th>\n",
              "      <th>1인</th>\n",
              "      <th>2인</th>\n",
              "      <th>3인</th>\n",
              "      <th>4인</th>\n",
              "      <th>5인이상</th>\n",
              "    </tr>\n",
              "  </thead>\n",
              "  <tbody>\n",
              "    <tr>\n",
              "      <th>0</th>\n",
              "      <td>2018</td>\n",
              "      <td>4.1</td>\n",
              "      <td>3.5</td>\n",
              "      <td>0.6</td>\n",
              "      <td>-2.2</td>\n",
              "      <td>-21.2</td>\n",
              "    </tr>\n",
              "    <tr>\n",
              "      <th>1</th>\n",
              "      <td>2019</td>\n",
              "      <td>9.4</td>\n",
              "      <td>7.7</td>\n",
              "      <td>0.9</td>\n",
              "      <td>-5.0</td>\n",
              "      <td>-45.3</td>\n",
              "    </tr>\n",
              "    <tr>\n",
              "      <th>2</th>\n",
              "      <td>2020</td>\n",
              "      <td>18.2</td>\n",
              "      <td>11.5</td>\n",
              "      <td>0.5</td>\n",
              "      <td>-5.8</td>\n",
              "      <td>-73.9</td>\n",
              "    </tr>\n",
              "    <tr>\n",
              "      <th>3</th>\n",
              "      <td>2021</td>\n",
              "      <td>27.5</td>\n",
              "      <td>15.5</td>\n",
              "      <td>-0.2</td>\n",
              "      <td>-9.2</td>\n",
              "      <td>-95.0</td>\n",
              "    </tr>\n",
              "    <tr>\n",
              "      <th>4</th>\n",
              "      <td>2022</td>\n",
              "      <td>33.5</td>\n",
              "      <td>19.0</td>\n",
              "      <td>0.1</td>\n",
              "      <td>-13.3</td>\n",
              "      <td>-112.8</td>\n",
              "    </tr>\n",
              "  </tbody>\n",
              "</table>\n",
              "</div>"
            ],
            "text/plain": [
              "     시점    1인    2인   3인    4인   5인이상\n",
              "0  2018   4.1   3.5  0.6  -2.2  -21.2\n",
              "1  2019   9.4   7.7  0.9  -5.0  -45.3\n",
              "2  2020  18.2  11.5  0.5  -5.8  -73.9\n",
              "3  2021  27.5  15.5 -0.2  -9.2  -95.0\n",
              "4  2022  33.5  19.0  0.1 -13.3 -112.8"
            ]
          },
          "execution_count": 16,
          "metadata": {},
          "output_type": "execute_result"
        }
      ],
      "source": [
        "# 2017년 대비 증감률\n",
        "grouped_data_nation_inde = pd.read_excel('가구형태/가구원수별_2017_대비_증감률.xlsx')\n",
        "grouped_data_nation_inde"
      ]
    },
    {
      "cell_type": "markdown",
      "metadata": {
        "id": "Yj3mjX5QoKOe"
      },
      "source": [
        "- 1인가구와 2인가구의 상승"
      ]
    },
    {
      "cell_type": "markdown",
      "metadata": {
        "id": "3TqpJDON2gtw"
      },
      "source": [
        "## 2) 가구형태 변화"
      ]
    },
    {
      "cell_type": "code",
      "execution_count": 17,
      "metadata": {
        "id": "C-XbR2GS2mMV"
      },
      "outputs": [],
      "source": [
        "Age_Household_Type = pd.read_excel('가구형태/가구주의_성__연령_및_세대구성별_가구_일반가구.xlsx')"
      ]
    },
    {
      "cell_type": "code",
      "execution_count": 18,
      "metadata": {
        "id": "ltsJWUL22l9l"
      },
      "outputs": [
        {
          "name": "stdout",
          "output_type": "stream",
          "text": [
            "<class 'pandas.core.frame.DataFrame'>\n",
            "RangeIndex: 80 entries, 0 to 79\n",
            "Data columns (total 28 columns):\n",
            " #   Column                  Non-Null Count  Dtype  \n",
            "---  ------                  --------------  -----  \n",
            " 0   시점                      80 non-null     int64  \n",
            " 1   가구주의 연령별                80 non-null     object \n",
            " 2   일반가구                    80 non-null     int64  \n",
            " 3   1세대가구-계                 80 non-null     int64  \n",
            " 4   1세대가구-부부                75 non-null     float64\n",
            " 5   1세대가구-부부+미혼형제자매         70 non-null     float64\n",
            " 6   1세대가구-부부+기타친인척          66 non-null     float64\n",
            " 7   1세대가구-가구주+미혼형제자매        80 non-null     int64  \n",
            " 8   1세대가구-가구주+기타친인척         75 non-null     float64\n",
            " 9   1세대가구-기타                75 non-null     float64\n",
            " 10  2세대가구-계                 76 non-null     float64\n",
            " 11  2세대가구-부부+미혼자녀           75 non-null     float64\n",
            " 12  2세대가구-부+미혼자녀            75 non-null     float64\n",
            " 13  2세대가구-모+미혼자녀            75 non-null     float64\n",
            " 14  2세대가구-부부+양친             69 non-null     float64\n",
            " 15  2세대가구-부부+한부모            70 non-null     float64\n",
            " 16  2세대가구-부부+미혼자녀+부부미혼형제자매  70 non-null     float64\n",
            " 17  2세대가구-조부모+미혼손자녀         70 non-null     float64\n",
            " 18  2세대가구-조부 또는 조모+미혼손자녀    75 non-null     float64\n",
            " 19  2세대가구-기타                76 non-null     float64\n",
            " 20  3세대가구-계                 70 non-null     float64\n",
            " 21  3세대가구-부부+미혼자녀+양친        70 non-null     float64\n",
            " 22  3세대가구-부부+미혼자녀+부친        70 non-null     float64\n",
            " 23  3세대가구-부부+미혼자녀+모친        70 non-null     float64\n",
            " 24  3세대가구-기타                70 non-null     float64\n",
            " 25  4세대이상 가구                70 non-null     float64\n",
            " 26  1인가구                    80 non-null     int64  \n",
            " 27  비친족가구                   80 non-null     int64  \n",
            "dtypes: float64(21), int64(6), object(1)\n",
            "memory usage: 17.6+ KB\n"
          ]
        }
      ],
      "source": [
        "# 친인척, 1인가구, 비친인척 나누기\n",
        "Age_Household_Type.info()"
      ]
    },
    {
      "cell_type": "code",
      "execution_count": 19,
      "metadata": {
        "id": "tlIexfqy2l65"
      },
      "outputs": [],
      "source": [
        "Age_Household_Type.drop(columns='일반가구', axis = 1, inplace=True)"
      ]
    },
    {
      "cell_type": "code",
      "execution_count": 20,
      "metadata": {
        "id": "qj_CLVSp34fy"
      },
      "outputs": [],
      "source": [
        "# Select columns to concatenate horizontally\n",
        "columns_to_concat = Age_Household_Type.iloc[:, [2, 9, 19, 24]]\n",
        "\n",
        "# Sum along the columns (axis=1 for horizontal sum)\n",
        "result = columns_to_concat.sum(axis=1)\n",
        "\n",
        "# Assign the result to a new column '가족' in Age_Household_Type DataFrame\n",
        "Age_Household_Type['가족'] = result"
      ]
    },
    {
      "cell_type": "code",
      "execution_count": 21,
      "metadata": {
        "id": "oEa3C0Wq7nwj"
      },
      "outputs": [
        {
          "data": {
            "text/html": [
              "<div>\n",
              "<style scoped>\n",
              "    .dataframe tbody tr th:only-of-type {\n",
              "        vertical-align: middle;\n",
              "    }\n",
              "\n",
              "    .dataframe tbody tr th {\n",
              "        vertical-align: top;\n",
              "    }\n",
              "\n",
              "    .dataframe thead th {\n",
              "        text-align: right;\n",
              "    }\n",
              "</style>\n",
              "<table border=\"1\" class=\"dataframe\">\n",
              "  <thead>\n",
              "    <tr style=\"text-align: right;\">\n",
              "      <th></th>\n",
              "      <th>시점</th>\n",
              "      <th>가구주의 연령별</th>\n",
              "      <th>가구형태</th>\n",
              "      <th>가구수</th>\n",
              "    </tr>\n",
              "  </thead>\n",
              "  <tbody>\n",
              "    <tr>\n",
              "      <th>0</th>\n",
              "      <td>2018</td>\n",
              "      <td>15세미만</td>\n",
              "      <td>비친족가구</td>\n",
              "      <td>30.0</td>\n",
              "    </tr>\n",
              "    <tr>\n",
              "      <th>1</th>\n",
              "      <td>2018</td>\n",
              "      <td>15~19세</td>\n",
              "      <td>비친족가구</td>\n",
              "      <td>624.0</td>\n",
              "    </tr>\n",
              "    <tr>\n",
              "      <th>2</th>\n",
              "      <td>2018</td>\n",
              "      <td>20~24세</td>\n",
              "      <td>비친족가구</td>\n",
              "      <td>15014.0</td>\n",
              "    </tr>\n",
              "    <tr>\n",
              "      <th>3</th>\n",
              "      <td>2018</td>\n",
              "      <td>25~29세</td>\n",
              "      <td>비친족가구</td>\n",
              "      <td>44425.0</td>\n",
              "    </tr>\n",
              "    <tr>\n",
              "      <th>4</th>\n",
              "      <td>2018</td>\n",
              "      <td>30~34세</td>\n",
              "      <td>비친족가구</td>\n",
              "      <td>42596.0</td>\n",
              "    </tr>\n",
              "    <tr>\n",
              "      <th>...</th>\n",
              "      <td>...</td>\n",
              "      <td>...</td>\n",
              "      <td>...</td>\n",
              "      <td>...</td>\n",
              "    </tr>\n",
              "    <tr>\n",
              "      <th>155</th>\n",
              "      <td>2022</td>\n",
              "      <td>65~69세</td>\n",
              "      <td>가족</td>\n",
              "      <td>1211917.0</td>\n",
              "    </tr>\n",
              "    <tr>\n",
              "      <th>156</th>\n",
              "      <td>2022</td>\n",
              "      <td>70~74세</td>\n",
              "      <td>가족</td>\n",
              "      <td>848984.0</td>\n",
              "    </tr>\n",
              "    <tr>\n",
              "      <th>157</th>\n",
              "      <td>2022</td>\n",
              "      <td>75~79세</td>\n",
              "      <td>가족</td>\n",
              "      <td>602331.0</td>\n",
              "    </tr>\n",
              "    <tr>\n",
              "      <th>158</th>\n",
              "      <td>2022</td>\n",
              "      <td>80~84세</td>\n",
              "      <td>가족</td>\n",
              "      <td>423931.0</td>\n",
              "    </tr>\n",
              "    <tr>\n",
              "      <th>159</th>\n",
              "      <td>2022</td>\n",
              "      <td>85세 이상</td>\n",
              "      <td>가족</td>\n",
              "      <td>210953.0</td>\n",
              "    </tr>\n",
              "  </tbody>\n",
              "</table>\n",
              "<p>160 rows × 4 columns</p>\n",
              "</div>"
            ],
            "text/plain": [
              "       시점 가구주의 연령별   가구형태        가구수\n",
              "0    2018    15세미만  비친족가구       30.0\n",
              "1    2018   15~19세  비친족가구      624.0\n",
              "2    2018   20~24세  비친족가구    15014.0\n",
              "3    2018   25~29세  비친족가구    44425.0\n",
              "4    2018   30~34세  비친족가구    42596.0\n",
              "..    ...      ...    ...        ...\n",
              "155  2022   65~69세     가족  1211917.0\n",
              "156  2022   70~74세     가족   848984.0\n",
              "157  2022   75~79세     가족   602331.0\n",
              "158  2022   80~84세     가족   423931.0\n",
              "159  2022   85세 이상     가족   210953.0\n",
              "\n",
              "[160 rows x 4 columns]"
            ]
          },
          "execution_count": 21,
          "metadata": {},
          "output_type": "execute_result"
        }
      ],
      "source": [
        "Age_Household_Type_melt = Age_Household_Type.iloc[:, [0, 1, 25, 26, 27]].melt(id_vars = ['시점', '가구주의 연령별'], value_vars=['비친족가구', '가족'], var_name='가구형태', value_name='가구수')\n",
        "Age_Household_Type_melt"
      ]
    },
    {
      "cell_type": "code",
      "execution_count": 22,
      "metadata": {
        "id": "ip078LYYv9GV"
      },
      "outputs": [
        {
          "name": "stderr",
          "output_type": "stream",
          "text": [
            "C:\\Users\\xlnt\\AppData\\Local\\Temp\\ipykernel_45904\\2796142671.py:1: FutureWarning: The provided callable <function sum at 0x0000024DAEF37940> is currently using DataFrameGroupBy.sum. In a future version of pandas, the provided callable will be used directly. To keep current behavior pass the string \"sum\" instead.\n",
            "  Age_Household_Type_melt_pivot = Age_Household_Type_melt.pivot_table(index = '시점', columns = '가구형태', values='가구수', aggfunc = np.sum)\n"
          ]
        },
        {
          "data": {
            "text/html": [
              "<div>\n",
              "<style scoped>\n",
              "    .dataframe tbody tr th:only-of-type {\n",
              "        vertical-align: middle;\n",
              "    }\n",
              "\n",
              "    .dataframe tbody tr th {\n",
              "        vertical-align: top;\n",
              "    }\n",
              "\n",
              "    .dataframe thead th {\n",
              "        text-align: right;\n",
              "    }\n",
              "</style>\n",
              "<table border=\"1\" class=\"dataframe\">\n",
              "  <thead>\n",
              "    <tr style=\"text-align: right;\">\n",
              "      <th>가구형태</th>\n",
              "      <th>가족</th>\n",
              "      <th>비친족가구</th>\n",
              "    </tr>\n",
              "    <tr>\n",
              "      <th>시점</th>\n",
              "      <th></th>\n",
              "      <th></th>\n",
              "    </tr>\n",
              "  </thead>\n",
              "  <tbody>\n",
              "    <tr>\n",
              "      <th>2018</th>\n",
              "      <td>13790227.0</td>\n",
              "      <td>340367.0</td>\n",
              "    </tr>\n",
              "    <tr>\n",
              "      <th>2019</th>\n",
              "      <td>13808704.0</td>\n",
              "      <td>386968.0</td>\n",
              "    </tr>\n",
              "    <tr>\n",
              "      <th>2020</th>\n",
              "      <td>13859896.0</td>\n",
              "      <td>423459.0</td>\n",
              "    </tr>\n",
              "    <tr>\n",
              "      <th>2021</th>\n",
              "      <td>13810014.0</td>\n",
              "      <td>472660.0</td>\n",
              "    </tr>\n",
              "    <tr>\n",
              "      <th>2022</th>\n",
              "      <td>13757267.0</td>\n",
              "      <td>513889.0</td>\n",
              "    </tr>\n",
              "  </tbody>\n",
              "</table>\n",
              "</div>"
            ],
            "text/plain": [
              "가구형태          가족     비친족가구\n",
              "시점                        \n",
              "2018  13790227.0  340367.0\n",
              "2019  13808704.0  386968.0\n",
              "2020  13859896.0  423459.0\n",
              "2021  13810014.0  472660.0\n",
              "2022  13757267.0  513889.0"
            ]
          },
          "execution_count": 22,
          "metadata": {},
          "output_type": "execute_result"
        }
      ],
      "source": [
        "Age_Household_Type_melt_pivot = Age_Household_Type_melt.pivot_table(index = '시점', columns = '가구형태', values='가구수', aggfunc = np.sum)\n",
        "Age_Household_Type_melt_pivot"
      ]
    },
    {
      "cell_type": "code",
      "execution_count": 23,
      "metadata": {
        "id": "I-K--Scvv9GV"
      },
      "outputs": [],
      "source": [
        "Age_Household_Type_melt_pivot['가족_비율'] = ((Age_Household_Type_melt_pivot['가족'] - Age_Household_Type_melt_pivot['가족'].iloc[0]) / Age_Household_Type_melt_pivot['가족'].iloc[0]) * 100\n",
        "Age_Household_Type_melt_pivot['비친족가구_비율'] = ((Age_Household_Type_melt_pivot['비친족가구'] - Age_Household_Type_melt_pivot['비친족가구'].iloc[0]) / Age_Household_Type_melt_pivot['비친족가구'].iloc[0]) * 100"
      ]
    },
    {
      "cell_type": "code",
      "execution_count": 24,
      "metadata": {
        "id": "URur-srWv9GV"
      },
      "outputs": [
        {
          "data": {
            "text/html": [
              "<div>\n",
              "<style scoped>\n",
              "    .dataframe tbody tr th:only-of-type {\n",
              "        vertical-align: middle;\n",
              "    }\n",
              "\n",
              "    .dataframe tbody tr th {\n",
              "        vertical-align: top;\n",
              "    }\n",
              "\n",
              "    .dataframe thead th {\n",
              "        text-align: right;\n",
              "    }\n",
              "</style>\n",
              "<table border=\"1\" class=\"dataframe\">\n",
              "  <thead>\n",
              "    <tr style=\"text-align: right;\">\n",
              "      <th>가구형태</th>\n",
              "      <th>가족_비율</th>\n",
              "      <th>비친족가구_비율</th>\n",
              "    </tr>\n",
              "    <tr>\n",
              "      <th>시점</th>\n",
              "      <th></th>\n",
              "      <th></th>\n",
              "    </tr>\n",
              "  </thead>\n",
              "  <tbody>\n",
              "    <tr>\n",
              "      <th>2019</th>\n",
              "      <td>0.133986</td>\n",
              "      <td>13.691398</td>\n",
              "    </tr>\n",
              "    <tr>\n",
              "      <th>2020</th>\n",
              "      <td>0.505206</td>\n",
              "      <td>24.412472</td>\n",
              "    </tr>\n",
              "    <tr>\n",
              "      <th>2021</th>\n",
              "      <td>0.143486</td>\n",
              "      <td>38.867752</td>\n",
              "    </tr>\n",
              "    <tr>\n",
              "      <th>2022</th>\n",
              "      <td>-0.239010</td>\n",
              "      <td>50.980853</td>\n",
              "    </tr>\n",
              "  </tbody>\n",
              "</table>\n",
              "</div>"
            ],
            "text/plain": [
              "가구형태     가족_비율   비친족가구_비율\n",
              "시점                       \n",
              "2019  0.133986  13.691398\n",
              "2020  0.505206  24.412472\n",
              "2021  0.143486  38.867752\n",
              "2022 -0.239010  50.980853"
            ]
          },
          "execution_count": 24,
          "metadata": {},
          "output_type": "execute_result"
        }
      ],
      "source": [
        "# 2018년 대비 증감률\n",
        "Age_Household_Type_melt_pivot.iloc[1:, 2:]"
      ]
    },
    {
      "cell_type": "code",
      "execution_count": 25,
      "metadata": {
        "id": "6sQYchCN2l4c"
      },
      "outputs": [],
      "source": [
        "# 2017년 대비 증감률\n",
        "Age_Household_Type_inde = pd.read_excel('가구형태/가구주의_성__연령_및_세대구성별_가구_일반가구_2017_대비_증감률.xlsx')"
      ]
    },
    {
      "cell_type": "code",
      "execution_count": 26,
      "metadata": {
        "id": "QpTMaxKk2lv5"
      },
      "outputs": [
        {
          "name": "stdout",
          "output_type": "stream",
          "text": [
            "<class 'pandas.core.frame.DataFrame'>\n",
            "RangeIndex: 80 entries, 0 to 79\n",
            "Data columns (total 28 columns):\n",
            " #   Column                 Non-Null Count  Dtype  \n",
            "---  ------                 --------------  -----  \n",
            " 0   시점                     80 non-null     int64  \n",
            " 1   가구주의 연령별               80 non-null     object \n",
            " 2   일반가구                   80 non-null     float64\n",
            " 3   1세대가구계                 80 non-null     float64\n",
            " 4   1세대가구부부                75 non-null     float64\n",
            " 5   1세대가구부부+미혼형제자매         70 non-null     float64\n",
            " 6   1세대가구부부+기타친인척          66 non-null     float64\n",
            " 7   1세대가구가구주+미혼형제자매        80 non-null     float64\n",
            " 8   1세대가구가구주+기타친인척         75 non-null     float64\n",
            " 9   1세대가구기타                75 non-null     float64\n",
            " 10  2세대가구계                 75 non-null     float64\n",
            " 11  2세대가구부부+미혼자녀           75 non-null     float64\n",
            " 12  2세대가구부+미혼자녀            75 non-null     float64\n",
            " 13  2세대가구모+미혼자녀            75 non-null     float64\n",
            " 14  2세대가구부부+양친             69 non-null     float64\n",
            " 15  2세대가구부부+한부모            70 non-null     float64\n",
            " 16  2세대가구부부+미혼자녀+부부미혼형제자매  70 non-null     float64\n",
            " 17  2세대가구조부모+미혼손자녀         70 non-null     float64\n",
            " 18  2세대가구조부 또는 조모+미혼손자녀    70 non-null     float64\n",
            " 19  2세대가구기타                75 non-null     float64\n",
            " 20  3세대가구계                 70 non-null     float64\n",
            " 21  3세대가구부부+미혼자녀+양친        70 non-null     float64\n",
            " 22  3세대가구부부+미혼자녀+부친        70 non-null     float64\n",
            " 23  3세대가구부부+미혼자녀+모친        70 non-null     float64\n",
            " 24  3세대가구기타                70 non-null     float64\n",
            " 25  4세대이상 가구               70 non-null     float64\n",
            " 26  1인가구                   80 non-null     float64\n",
            " 27  비친족가구                  80 non-null     float64\n",
            "dtypes: float64(26), int64(1), object(1)\n",
            "memory usage: 17.6+ KB\n"
          ]
        }
      ],
      "source": [
        "Age_Household_Type_inde.info()"
      ]
    },
    {
      "cell_type": "code",
      "execution_count": 27,
      "metadata": {
        "id": "f503clfSkaDe"
      },
      "outputs": [],
      "source": [
        "Age_Household_Type_inde.drop(columns='일반가구', axis = 1, inplace=True)"
      ]
    },
    {
      "cell_type": "code",
      "execution_count": 28,
      "metadata": {
        "id": "yRtVriizhw9X"
      },
      "outputs": [],
      "source": [
        "# Select columns to concatenate horizontally\n",
        "columns_to_concat = Age_Household_Type_inde.iloc[:, [2, 9, 19, 24]]\n",
        "\n",
        "# Sum along the columns (axis=1 for horizontal sum)\n",
        "result = columns_to_concat.sum(axis=1)\n",
        "\n",
        "# Assign the result to a new column '가족' in Age_Household_Type DataFrame\n",
        "Age_Household_Type_inde['가족'] = result"
      ]
    },
    {
      "cell_type": "code",
      "execution_count": 29,
      "metadata": {
        "id": "phFrihgNk_oG"
      },
      "outputs": [
        {
          "data": {
            "text/html": [
              "<div>\n",
              "<style scoped>\n",
              "    .dataframe tbody tr th:only-of-type {\n",
              "        vertical-align: middle;\n",
              "    }\n",
              "\n",
              "    .dataframe tbody tr th {\n",
              "        vertical-align: top;\n",
              "    }\n",
              "\n",
              "    .dataframe thead th {\n",
              "        text-align: right;\n",
              "    }\n",
              "</style>\n",
              "<table border=\"1\" class=\"dataframe\">\n",
              "  <thead>\n",
              "    <tr style=\"text-align: right;\">\n",
              "      <th></th>\n",
              "      <th>시점</th>\n",
              "      <th>가구주의 연령별</th>\n",
              "      <th>가구형태</th>\n",
              "      <th>증감률</th>\n",
              "    </tr>\n",
              "  </thead>\n",
              "  <tbody>\n",
              "    <tr>\n",
              "      <th>0</th>\n",
              "      <td>2018</td>\n",
              "      <td>15세미만</td>\n",
              "      <td>비친족가구</td>\n",
              "      <td>200.0</td>\n",
              "    </tr>\n",
              "    <tr>\n",
              "      <th>1</th>\n",
              "      <td>2018</td>\n",
              "      <td>15~19세</td>\n",
              "      <td>비친족가구</td>\n",
              "      <td>13.5</td>\n",
              "    </tr>\n",
              "    <tr>\n",
              "      <th>2</th>\n",
              "      <td>2018</td>\n",
              "      <td>20~24세</td>\n",
              "      <td>비친족가구</td>\n",
              "      <td>3.1</td>\n",
              "    </tr>\n",
              "    <tr>\n",
              "      <th>3</th>\n",
              "      <td>2018</td>\n",
              "      <td>25~29세</td>\n",
              "      <td>비친족가구</td>\n",
              "      <td>12.7</td>\n",
              "    </tr>\n",
              "    <tr>\n",
              "      <th>4</th>\n",
              "      <td>2018</td>\n",
              "      <td>30~34세</td>\n",
              "      <td>비친족가구</td>\n",
              "      <td>8.2</td>\n",
              "    </tr>\n",
              "    <tr>\n",
              "      <th>...</th>\n",
              "      <td>...</td>\n",
              "      <td>...</td>\n",
              "      <td>...</td>\n",
              "      <td>...</td>\n",
              "    </tr>\n",
              "    <tr>\n",
              "      <th>155</th>\n",
              "      <td>2022</td>\n",
              "      <td>65~69세</td>\n",
              "      <td>가족</td>\n",
              "      <td>136.7</td>\n",
              "    </tr>\n",
              "    <tr>\n",
              "      <th>156</th>\n",
              "      <td>2022</td>\n",
              "      <td>70~74세</td>\n",
              "      <td>가족</td>\n",
              "      <td>124.0</td>\n",
              "    </tr>\n",
              "    <tr>\n",
              "      <th>157</th>\n",
              "      <td>2022</td>\n",
              "      <td>75~79세</td>\n",
              "      <td>가족</td>\n",
              "      <td>114.1</td>\n",
              "    </tr>\n",
              "    <tr>\n",
              "      <th>158</th>\n",
              "      <td>2022</td>\n",
              "      <td>80~84세</td>\n",
              "      <td>가족</td>\n",
              "      <td>165.5</td>\n",
              "    </tr>\n",
              "    <tr>\n",
              "      <th>159</th>\n",
              "      <td>2022</td>\n",
              "      <td>85세 이상</td>\n",
              "      <td>가족</td>\n",
              "      <td>205.4</td>\n",
              "    </tr>\n",
              "  </tbody>\n",
              "</table>\n",
              "<p>160 rows × 4 columns</p>\n",
              "</div>"
            ],
            "text/plain": [
              "       시점 가구주의 연령별   가구형태    증감률\n",
              "0    2018    15세미만  비친족가구  200.0\n",
              "1    2018   15~19세  비친족가구   13.5\n",
              "2    2018   20~24세  비친족가구    3.1\n",
              "3    2018   25~29세  비친족가구   12.7\n",
              "4    2018   30~34세  비친족가구    8.2\n",
              "..    ...      ...    ...    ...\n",
              "155  2022   65~69세     가족  136.7\n",
              "156  2022   70~74세     가족  124.0\n",
              "157  2022   75~79세     가족  114.1\n",
              "158  2022   80~84세     가족  165.5\n",
              "159  2022   85세 이상     가족  205.4\n",
              "\n",
              "[160 rows x 4 columns]"
            ]
          },
          "execution_count": 29,
          "metadata": {},
          "output_type": "execute_result"
        }
      ],
      "source": [
        "Age_Household_Type_inde_melt = Age_Household_Type_inde.iloc[:, [0, 1, 25, 26, 27]].melt(id_vars = ['시점', '가구주의 연령별'], value_vars=['비친족가구', '가족'], var_name='가구형태', value_name='증감률')\n",
        "Age_Household_Type_inde_melt"
      ]
    },
    {
      "cell_type": "code",
      "execution_count": 30,
      "metadata": {
        "id": "aWYvk03Rk_lv"
      },
      "outputs": [
        {
          "name": "stderr",
          "output_type": "stream",
          "text": [
            "C:\\Users\\xlnt\\AppData\\Local\\Temp\\ipykernel_45904\\1559849141.py:1: FutureWarning: The provided callable <function mean at 0x0000024DAEF3D8B0> is currently using DataFrameGroupBy.mean. In a future version of pandas, the provided callable will be used directly. To keep current behavior pass the string \"mean\" instead.\n",
            "  Age_Household_Type_inde_melt.pivot_table(index = '시점', columns = '가구형태', values='증감률', aggfunc = np.mean)\n"
          ]
        },
        {
          "data": {
            "text/html": [
              "<div>\n",
              "<style scoped>\n",
              "    .dataframe tbody tr th:only-of-type {\n",
              "        vertical-align: middle;\n",
              "    }\n",
              "\n",
              "    .dataframe tbody tr th {\n",
              "        vertical-align: top;\n",
              "    }\n",
              "\n",
              "    .dataframe thead th {\n",
              "        text-align: right;\n",
              "    }\n",
              "</style>\n",
              "<table border=\"1\" class=\"dataframe\">\n",
              "  <thead>\n",
              "    <tr style=\"text-align: right;\">\n",
              "      <th>가구형태</th>\n",
              "      <th>가족</th>\n",
              "      <th>비친족가구</th>\n",
              "    </tr>\n",
              "    <tr>\n",
              "      <th>시점</th>\n",
              "      <th></th>\n",
              "      <th></th>\n",
              "    </tr>\n",
              "  </thead>\n",
              "  <tbody>\n",
              "    <tr>\n",
              "      <th>2018</th>\n",
              "      <td>25.69375</td>\n",
              "      <td>23.08125</td>\n",
              "    </tr>\n",
              "    <tr>\n",
              "      <th>2019</th>\n",
              "      <td>50.45625</td>\n",
              "      <td>43.05625</td>\n",
              "    </tr>\n",
              "    <tr>\n",
              "      <th>2020</th>\n",
              "      <td>79.33750</td>\n",
              "      <td>58.68125</td>\n",
              "    </tr>\n",
              "    <tr>\n",
              "      <th>2021</th>\n",
              "      <td>103.83125</td>\n",
              "      <td>77.47500</td>\n",
              "    </tr>\n",
              "    <tr>\n",
              "      <th>2022</th>\n",
              "      <td>125.73125</td>\n",
              "      <td>86.64375</td>\n",
              "    </tr>\n",
              "  </tbody>\n",
              "</table>\n",
              "</div>"
            ],
            "text/plain": [
              "가구형태         가족     비친족가구\n",
              "시점                       \n",
              "2018   25.69375  23.08125\n",
              "2019   50.45625  43.05625\n",
              "2020   79.33750  58.68125\n",
              "2021  103.83125  77.47500\n",
              "2022  125.73125  86.64375"
            ]
          },
          "execution_count": 30,
          "metadata": {},
          "output_type": "execute_result"
        }
      ],
      "source": [
        "Age_Household_Type_inde_melt.pivot_table(index = '시점', columns = '가구형태', values='증감률', aggfunc = np.mean)"
      ]
    },
    {
      "cell_type": "markdown",
      "metadata": {
        "id": "DoapayDsrGP3"
      },
      "source": [
        "- 위 결과 비친족, 2인 가구가 상승하고 있음을 알 수 있음."
      ]
    },
    {
      "cell_type": "markdown",
      "metadata": {
        "id": "6o_aWiCunhPP"
      },
      "source": [
        "## 3) 비친족가구 분석"
      ]
    },
    {
      "cell_type": "code",
      "execution_count": 31,
      "metadata": {
        "id": "_7ruukw1ng2h"
      },
      "outputs": [
        {
          "data": {
            "text/html": [
              "<div>\n",
              "<style scoped>\n",
              "    .dataframe tbody tr th:only-of-type {\n",
              "        vertical-align: middle;\n",
              "    }\n",
              "\n",
              "    .dataframe tbody tr th {\n",
              "        vertical-align: top;\n",
              "    }\n",
              "\n",
              "    .dataframe thead th {\n",
              "        text-align: right;\n",
              "    }\n",
              "</style>\n",
              "<table border=\"1\" class=\"dataframe\">\n",
              "  <thead>\n",
              "    <tr style=\"text-align: right;\">\n",
              "      <th></th>\n",
              "      <th>시점</th>\n",
              "      <th>가구주의 연령별</th>\n",
              "      <th>가구형태</th>\n",
              "      <th>가구수</th>\n",
              "    </tr>\n",
              "  </thead>\n",
              "  <tbody>\n",
              "    <tr>\n",
              "      <th>0</th>\n",
              "      <td>2018</td>\n",
              "      <td>15세미만</td>\n",
              "      <td>비친족가구</td>\n",
              "      <td>30.0</td>\n",
              "    </tr>\n",
              "    <tr>\n",
              "      <th>1</th>\n",
              "      <td>2018</td>\n",
              "      <td>15~19세</td>\n",
              "      <td>비친족가구</td>\n",
              "      <td>624.0</td>\n",
              "    </tr>\n",
              "    <tr>\n",
              "      <th>2</th>\n",
              "      <td>2018</td>\n",
              "      <td>20~24세</td>\n",
              "      <td>비친족가구</td>\n",
              "      <td>15014.0</td>\n",
              "    </tr>\n",
              "    <tr>\n",
              "      <th>3</th>\n",
              "      <td>2018</td>\n",
              "      <td>25~29세</td>\n",
              "      <td>비친족가구</td>\n",
              "      <td>44425.0</td>\n",
              "    </tr>\n",
              "    <tr>\n",
              "      <th>4</th>\n",
              "      <td>2018</td>\n",
              "      <td>30~34세</td>\n",
              "      <td>비친족가구</td>\n",
              "      <td>42596.0</td>\n",
              "    </tr>\n",
              "    <tr>\n",
              "      <th>...</th>\n",
              "      <td>...</td>\n",
              "      <td>...</td>\n",
              "      <td>...</td>\n",
              "      <td>...</td>\n",
              "    </tr>\n",
              "    <tr>\n",
              "      <th>75</th>\n",
              "      <td>2022</td>\n",
              "      <td>65~69세</td>\n",
              "      <td>비친족가구</td>\n",
              "      <td>20972.0</td>\n",
              "    </tr>\n",
              "    <tr>\n",
              "      <th>76</th>\n",
              "      <td>2022</td>\n",
              "      <td>70~74세</td>\n",
              "      <td>비친족가구</td>\n",
              "      <td>13876.0</td>\n",
              "    </tr>\n",
              "    <tr>\n",
              "      <th>77</th>\n",
              "      <td>2022</td>\n",
              "      <td>75~79세</td>\n",
              "      <td>비친족가구</td>\n",
              "      <td>9771.0</td>\n",
              "    </tr>\n",
              "    <tr>\n",
              "      <th>78</th>\n",
              "      <td>2022</td>\n",
              "      <td>80~84세</td>\n",
              "      <td>비친족가구</td>\n",
              "      <td>8276.0</td>\n",
              "    </tr>\n",
              "    <tr>\n",
              "      <th>79</th>\n",
              "      <td>2022</td>\n",
              "      <td>85세 이상</td>\n",
              "      <td>비친족가구</td>\n",
              "      <td>7112.0</td>\n",
              "    </tr>\n",
              "  </tbody>\n",
              "</table>\n",
              "<p>80 rows × 4 columns</p>\n",
              "</div>"
            ],
            "text/plain": [
              "      시점 가구주의 연령별   가구형태      가구수\n",
              "0   2018    15세미만  비친족가구     30.0\n",
              "1   2018   15~19세  비친족가구    624.0\n",
              "2   2018   20~24세  비친족가구  15014.0\n",
              "3   2018   25~29세  비친족가구  44425.0\n",
              "4   2018   30~34세  비친족가구  42596.0\n",
              "..   ...      ...    ...      ...\n",
              "75  2022   65~69세  비친족가구  20972.0\n",
              "76  2022   70~74세  비친족가구  13876.0\n",
              "77  2022   75~79세  비친족가구   9771.0\n",
              "78  2022   80~84세  비친족가구   8276.0\n",
              "79  2022   85세 이상  비친족가구   7112.0\n",
              "\n",
              "[80 rows x 4 columns]"
            ]
          },
          "execution_count": 31,
          "metadata": {},
          "output_type": "execute_result"
        }
      ],
      "source": [
        "# 비친족가구만 분리\n",
        "Age_Household_Type_nof = Age_Household_Type_melt[Age_Household_Type_inde_melt.가구형태 == '비친족가구']\n",
        "Age_Household_Type_nof"
      ]
    },
    {
      "cell_type": "code",
      "execution_count": 32,
      "metadata": {
        "id": "7Ckle1EXngzu"
      },
      "outputs": [
        {
          "name": "stderr",
          "output_type": "stream",
          "text": [
            "C:\\Users\\xlnt\\AppData\\Local\\Temp\\ipykernel_45904\\3936128202.py:1: FutureWarning: The provided callable <function mean at 0x0000024DAEF3D8B0> is currently using DataFrameGroupBy.mean. In a future version of pandas, the provided callable will be used directly. To keep current behavior pass the string \"mean\" instead.\n",
            "  Age_Household_Type_nof.pivot_table(index = '시점', columns = '가구주의 연령별', values='가구수', aggfunc = np.mean)\n"
          ]
        },
        {
          "data": {
            "text/html": [
              "<div>\n",
              "<style scoped>\n",
              "    .dataframe tbody tr th:only-of-type {\n",
              "        vertical-align: middle;\n",
              "    }\n",
              "\n",
              "    .dataframe tbody tr th {\n",
              "        vertical-align: top;\n",
              "    }\n",
              "\n",
              "    .dataframe thead th {\n",
              "        text-align: right;\n",
              "    }\n",
              "</style>\n",
              "<table border=\"1\" class=\"dataframe\">\n",
              "  <thead>\n",
              "    <tr style=\"text-align: right;\">\n",
              "      <th>가구주의 연령별</th>\n",
              "      <th>15~19세</th>\n",
              "      <th>15세미만</th>\n",
              "      <th>20~24세</th>\n",
              "      <th>25~29세</th>\n",
              "      <th>30~34세</th>\n",
              "      <th>35~39세</th>\n",
              "      <th>40~44세</th>\n",
              "      <th>45~49세</th>\n",
              "      <th>50~54세</th>\n",
              "      <th>55~59세</th>\n",
              "      <th>60~64세</th>\n",
              "      <th>65~69세</th>\n",
              "      <th>70~74세</th>\n",
              "      <th>75~79세</th>\n",
              "      <th>80~84세</th>\n",
              "      <th>85세 이상</th>\n",
              "    </tr>\n",
              "    <tr>\n",
              "      <th>시점</th>\n",
              "      <th></th>\n",
              "      <th></th>\n",
              "      <th></th>\n",
              "      <th></th>\n",
              "      <th></th>\n",
              "      <th></th>\n",
              "      <th></th>\n",
              "      <th></th>\n",
              "      <th></th>\n",
              "      <th></th>\n",
              "      <th></th>\n",
              "      <th></th>\n",
              "      <th></th>\n",
              "      <th></th>\n",
              "      <th></th>\n",
              "      <th></th>\n",
              "    </tr>\n",
              "  </thead>\n",
              "  <tbody>\n",
              "    <tr>\n",
              "      <th>2018</th>\n",
              "      <td>624.0</td>\n",
              "      <td>30.0</td>\n",
              "      <td>15014.0</td>\n",
              "      <td>44425.0</td>\n",
              "      <td>42596.0</td>\n",
              "      <td>35423.0</td>\n",
              "      <td>28262.0</td>\n",
              "      <td>32649.0</td>\n",
              "      <td>32595.0</td>\n",
              "      <td>38463.0</td>\n",
              "      <td>34339.0</td>\n",
              "      <td>10480.0</td>\n",
              "      <td>8026.0</td>\n",
              "      <td>7309.0</td>\n",
              "      <td>5477.0</td>\n",
              "      <td>4655.0</td>\n",
              "    </tr>\n",
              "    <tr>\n",
              "      <th>2019</th>\n",
              "      <td>663.0</td>\n",
              "      <td>36.0</td>\n",
              "      <td>15645.0</td>\n",
              "      <td>51427.0</td>\n",
              "      <td>48235.0</td>\n",
              "      <td>38468.0</td>\n",
              "      <td>30545.0</td>\n",
              "      <td>35209.0</td>\n",
              "      <td>37760.0</td>\n",
              "      <td>43295.0</td>\n",
              "      <td>41593.0</td>\n",
              "      <td>12810.0</td>\n",
              "      <td>9837.0</td>\n",
              "      <td>8478.0</td>\n",
              "      <td>6742.0</td>\n",
              "      <td>6225.0</td>\n",
              "    </tr>\n",
              "    <tr>\n",
              "      <th>2020</th>\n",
              "      <td>555.0</td>\n",
              "      <td>48.0</td>\n",
              "      <td>16890.0</td>\n",
              "      <td>58610.0</td>\n",
              "      <td>57985.0</td>\n",
              "      <td>42037.0</td>\n",
              "      <td>33284.0</td>\n",
              "      <td>36305.0</td>\n",
              "      <td>39930.0</td>\n",
              "      <td>44425.0</td>\n",
              "      <td>45219.0</td>\n",
              "      <td>15383.0</td>\n",
              "      <td>11010.0</td>\n",
              "      <td>8858.0</td>\n",
              "      <td>7033.0</td>\n",
              "      <td>5887.0</td>\n",
              "    </tr>\n",
              "    <tr>\n",
              "      <th>2021</th>\n",
              "      <td>581.0</td>\n",
              "      <td>56.0</td>\n",
              "      <td>18116.0</td>\n",
              "      <td>65658.0</td>\n",
              "      <td>71381.0</td>\n",
              "      <td>47223.0</td>\n",
              "      <td>38012.0</td>\n",
              "      <td>37152.0</td>\n",
              "      <td>43640.0</td>\n",
              "      <td>46393.0</td>\n",
              "      <td>50428.0</td>\n",
              "      <td>18499.0</td>\n",
              "      <td>12339.0</td>\n",
              "      <td>9256.0</td>\n",
              "      <td>7389.0</td>\n",
              "      <td>6537.0</td>\n",
              "    </tr>\n",
              "    <tr>\n",
              "      <th>2022</th>\n",
              "      <td>585.0</td>\n",
              "      <td>51.0</td>\n",
              "      <td>18731.0</td>\n",
              "      <td>69257.0</td>\n",
              "      <td>85510.0</td>\n",
              "      <td>52153.0</td>\n",
              "      <td>41552.0</td>\n",
              "      <td>38583.0</td>\n",
              "      <td>46416.0</td>\n",
              "      <td>47793.0</td>\n",
              "      <td>53251.0</td>\n",
              "      <td>20972.0</td>\n",
              "      <td>13876.0</td>\n",
              "      <td>9771.0</td>\n",
              "      <td>8276.0</td>\n",
              "      <td>7112.0</td>\n",
              "    </tr>\n",
              "  </tbody>\n",
              "</table>\n",
              "</div>"
            ],
            "text/plain": [
              "가구주의 연령별  15~19세  15세미만   20~24세   25~29세   30~34세   35~39세   40~44세   45~49세  \\\n",
              "시점                                                                              \n",
              "2018       624.0   30.0  15014.0  44425.0  42596.0  35423.0  28262.0  32649.0   \n",
              "2019       663.0   36.0  15645.0  51427.0  48235.0  38468.0  30545.0  35209.0   \n",
              "2020       555.0   48.0  16890.0  58610.0  57985.0  42037.0  33284.0  36305.0   \n",
              "2021       581.0   56.0  18116.0  65658.0  71381.0  47223.0  38012.0  37152.0   \n",
              "2022       585.0   51.0  18731.0  69257.0  85510.0  52153.0  41552.0  38583.0   \n",
              "\n",
              "가구주의 연령별   50~54세   55~59세   60~64세   65~69세   70~74세  75~79세  80~84세  85세 이상  \n",
              "시점                                                                             \n",
              "2018      32595.0  38463.0  34339.0  10480.0   8026.0  7309.0  5477.0  4655.0  \n",
              "2019      37760.0  43295.0  41593.0  12810.0   9837.0  8478.0  6742.0  6225.0  \n",
              "2020      39930.0  44425.0  45219.0  15383.0  11010.0  8858.0  7033.0  5887.0  \n",
              "2021      43640.0  46393.0  50428.0  18499.0  12339.0  9256.0  7389.0  6537.0  \n",
              "2022      46416.0  47793.0  53251.0  20972.0  13876.0  9771.0  8276.0  7112.0  "
            ]
          },
          "execution_count": 32,
          "metadata": {},
          "output_type": "execute_result"
        }
      ],
      "source": [
        "Age_Household_Type_nof.pivot_table(index = '시점', columns = '가구주의 연령별', values='가구수', aggfunc = np.mean)"
      ]
    },
    {
      "cell_type": "code",
      "execution_count": 33,
      "metadata": {
        "id": "Zcg0JKUCngtS"
      },
      "outputs": [
        {
          "data": {
            "text/html": [
              "<div>\n",
              "<style scoped>\n",
              "    .dataframe tbody tr th:only-of-type {\n",
              "        vertical-align: middle;\n",
              "    }\n",
              "\n",
              "    .dataframe tbody tr th {\n",
              "        vertical-align: top;\n",
              "    }\n",
              "\n",
              "    .dataframe thead th {\n",
              "        text-align: right;\n",
              "    }\n",
              "</style>\n",
              "<table border=\"1\" class=\"dataframe\">\n",
              "  <thead>\n",
              "    <tr style=\"text-align: right;\">\n",
              "      <th></th>\n",
              "      <th>시점</th>\n",
              "      <th>가구주의 연령별</th>\n",
              "      <th>가구형태</th>\n",
              "      <th>증감률</th>\n",
              "    </tr>\n",
              "  </thead>\n",
              "  <tbody>\n",
              "    <tr>\n",
              "      <th>0</th>\n",
              "      <td>2018</td>\n",
              "      <td>15세미만</td>\n",
              "      <td>비친족가구</td>\n",
              "      <td>200.0</td>\n",
              "    </tr>\n",
              "    <tr>\n",
              "      <th>1</th>\n",
              "      <td>2018</td>\n",
              "      <td>15~19세</td>\n",
              "      <td>비친족가구</td>\n",
              "      <td>13.5</td>\n",
              "    </tr>\n",
              "    <tr>\n",
              "      <th>2</th>\n",
              "      <td>2018</td>\n",
              "      <td>20~24세</td>\n",
              "      <td>비친족가구</td>\n",
              "      <td>3.1</td>\n",
              "    </tr>\n",
              "    <tr>\n",
              "      <th>3</th>\n",
              "      <td>2018</td>\n",
              "      <td>25~29세</td>\n",
              "      <td>비친족가구</td>\n",
              "      <td>12.7</td>\n",
              "    </tr>\n",
              "    <tr>\n",
              "      <th>4</th>\n",
              "      <td>2018</td>\n",
              "      <td>30~34세</td>\n",
              "      <td>비친족가구</td>\n",
              "      <td>8.2</td>\n",
              "    </tr>\n",
              "    <tr>\n",
              "      <th>...</th>\n",
              "      <td>...</td>\n",
              "      <td>...</td>\n",
              "      <td>...</td>\n",
              "      <td>...</td>\n",
              "    </tr>\n",
              "    <tr>\n",
              "      <th>75</th>\n",
              "      <td>2022</td>\n",
              "      <td>65~69세</td>\n",
              "      <td>비친족가구</td>\n",
              "      <td>134.3</td>\n",
              "    </tr>\n",
              "    <tr>\n",
              "      <th>76</th>\n",
              "      <td>2022</td>\n",
              "      <td>70~74세</td>\n",
              "      <td>비친족가구</td>\n",
              "      <td>104.3</td>\n",
              "    </tr>\n",
              "    <tr>\n",
              "      <th>77</th>\n",
              "      <td>2022</td>\n",
              "      <td>75~79세</td>\n",
              "      <td>비친족가구</td>\n",
              "      <td>51.7</td>\n",
              "    </tr>\n",
              "    <tr>\n",
              "      <th>78</th>\n",
              "      <td>2022</td>\n",
              "      <td>80~84세</td>\n",
              "      <td>비친족가구</td>\n",
              "      <td>72.0</td>\n",
              "    </tr>\n",
              "    <tr>\n",
              "      <th>79</th>\n",
              "      <td>2022</td>\n",
              "      <td>85세 이상</td>\n",
              "      <td>비친족가구</td>\n",
              "      <td>67.6</td>\n",
              "    </tr>\n",
              "  </tbody>\n",
              "</table>\n",
              "<p>80 rows × 4 columns</p>\n",
              "</div>"
            ],
            "text/plain": [
              "      시점 가구주의 연령별   가구형태    증감률\n",
              "0   2018    15세미만  비친족가구  200.0\n",
              "1   2018   15~19세  비친족가구   13.5\n",
              "2   2018   20~24세  비친족가구    3.1\n",
              "3   2018   25~29세  비친족가구   12.7\n",
              "4   2018   30~34세  비친족가구    8.2\n",
              "..   ...      ...    ...    ...\n",
              "75  2022   65~69세  비친족가구  134.3\n",
              "76  2022   70~74세  비친족가구  104.3\n",
              "77  2022   75~79세  비친족가구   51.7\n",
              "78  2022   80~84세  비친족가구   72.0\n",
              "79  2022   85세 이상  비친족가구   67.6\n",
              "\n",
              "[80 rows x 4 columns]"
            ]
          },
          "execution_count": 33,
          "metadata": {},
          "output_type": "execute_result"
        }
      ],
      "source": [
        "Age_Household_Type_inde_nof = Age_Household_Type_inde_melt[Age_Household_Type_inde_melt.가구형태 == '비친족가구']\n",
        "Age_Household_Type_inde_nof"
      ]
    },
    {
      "cell_type": "code",
      "execution_count": 34,
      "metadata": {
        "id": "tw19dolxk_g7"
      },
      "outputs": [
        {
          "name": "stderr",
          "output_type": "stream",
          "text": [
            "C:\\Users\\xlnt\\AppData\\Local\\Temp\\ipykernel_45904\\1156601402.py:1: FutureWarning: The provided callable <function mean at 0x0000024DAEF3D8B0> is currently using DataFrameGroupBy.mean. In a future version of pandas, the provided callable will be used directly. To keep current behavior pass the string \"mean\" instead.\n",
            "  Age_Household_Type_inde_nof.pivot_table(index = '시점', columns = '가구주의 연령별', values='증감률', aggfunc = np.mean)\n"
          ]
        },
        {
          "data": {
            "text/html": [
              "<div>\n",
              "<style scoped>\n",
              "    .dataframe tbody tr th:only-of-type {\n",
              "        vertical-align: middle;\n",
              "    }\n",
              "\n",
              "    .dataframe tbody tr th {\n",
              "        vertical-align: top;\n",
              "    }\n",
              "\n",
              "    .dataframe thead th {\n",
              "        text-align: right;\n",
              "    }\n",
              "</style>\n",
              "<table border=\"1\" class=\"dataframe\">\n",
              "  <thead>\n",
              "    <tr style=\"text-align: right;\">\n",
              "      <th>가구주의 연령별</th>\n",
              "      <th>15~19세</th>\n",
              "      <th>15세미만</th>\n",
              "      <th>20~24세</th>\n",
              "      <th>25~29세</th>\n",
              "      <th>30~34세</th>\n",
              "      <th>35~39세</th>\n",
              "      <th>40~44세</th>\n",
              "      <th>45~49세</th>\n",
              "      <th>50~54세</th>\n",
              "      <th>55~59세</th>\n",
              "      <th>60~64세</th>\n",
              "      <th>65~69세</th>\n",
              "      <th>70~74세</th>\n",
              "      <th>75~79세</th>\n",
              "      <th>80~84세</th>\n",
              "      <th>85세 이상</th>\n",
              "    </tr>\n",
              "    <tr>\n",
              "      <th>시점</th>\n",
              "      <th></th>\n",
              "      <th></th>\n",
              "      <th></th>\n",
              "      <th></th>\n",
              "      <th></th>\n",
              "      <th></th>\n",
              "      <th></th>\n",
              "      <th></th>\n",
              "      <th></th>\n",
              "      <th></th>\n",
              "      <th></th>\n",
              "      <th></th>\n",
              "      <th></th>\n",
              "      <th></th>\n",
              "      <th></th>\n",
              "      <th></th>\n",
              "    </tr>\n",
              "  </thead>\n",
              "  <tbody>\n",
              "    <tr>\n",
              "      <th>2018</th>\n",
              "      <td>13.5</td>\n",
              "      <td>200.0</td>\n",
              "      <td>3.1</td>\n",
              "      <td>12.7</td>\n",
              "      <td>8.2</td>\n",
              "      <td>12.2</td>\n",
              "      <td>5.5</td>\n",
              "      <td>7.7</td>\n",
              "      <td>9.1</td>\n",
              "      <td>8.1</td>\n",
              "      <td>16.9</td>\n",
              "      <td>17.1</td>\n",
              "      <td>18.2</td>\n",
              "      <td>13.5</td>\n",
              "      <td>13.8</td>\n",
              "      <td>9.7</td>\n",
              "    </tr>\n",
              "    <tr>\n",
              "      <th>2019</th>\n",
              "      <td>20.5</td>\n",
              "      <td>260.0</td>\n",
              "      <td>7.5</td>\n",
              "      <td>30.5</td>\n",
              "      <td>22.5</td>\n",
              "      <td>21.8</td>\n",
              "      <td>14.0</td>\n",
              "      <td>16.1</td>\n",
              "      <td>26.4</td>\n",
              "      <td>21.7</td>\n",
              "      <td>41.6</td>\n",
              "      <td>43.1</td>\n",
              "      <td>44.8</td>\n",
              "      <td>31.6</td>\n",
              "      <td>40.1</td>\n",
              "      <td>46.7</td>\n",
              "    </tr>\n",
              "    <tr>\n",
              "      <th>2020</th>\n",
              "      <td>0.9</td>\n",
              "      <td>380.0</td>\n",
              "      <td>16.0</td>\n",
              "      <td>48.7</td>\n",
              "      <td>47.3</td>\n",
              "      <td>33.1</td>\n",
              "      <td>24.2</td>\n",
              "      <td>19.7</td>\n",
              "      <td>33.7</td>\n",
              "      <td>24.9</td>\n",
              "      <td>54.0</td>\n",
              "      <td>71.9</td>\n",
              "      <td>62.1</td>\n",
              "      <td>37.5</td>\n",
              "      <td>46.2</td>\n",
              "      <td>38.7</td>\n",
              "    </tr>\n",
              "    <tr>\n",
              "      <th>2021</th>\n",
              "      <td>5.6</td>\n",
              "      <td>460.0</td>\n",
              "      <td>24.4</td>\n",
              "      <td>66.6</td>\n",
              "      <td>81.3</td>\n",
              "      <td>49.5</td>\n",
              "      <td>41.8</td>\n",
              "      <td>22.5</td>\n",
              "      <td>46.1</td>\n",
              "      <td>30.4</td>\n",
              "      <td>71.7</td>\n",
              "      <td>106.7</td>\n",
              "      <td>81.7</td>\n",
              "      <td>43.7</td>\n",
              "      <td>53.6</td>\n",
              "      <td>54.0</td>\n",
              "    </tr>\n",
              "    <tr>\n",
              "      <th>2022</th>\n",
              "      <td>6.4</td>\n",
              "      <td>410.0</td>\n",
              "      <td>28.7</td>\n",
              "      <td>75.7</td>\n",
              "      <td>117.2</td>\n",
              "      <td>65.1</td>\n",
              "      <td>55.0</td>\n",
              "      <td>27.2</td>\n",
              "      <td>55.4</td>\n",
              "      <td>34.4</td>\n",
              "      <td>81.3</td>\n",
              "      <td>134.3</td>\n",
              "      <td>104.3</td>\n",
              "      <td>51.7</td>\n",
              "      <td>72.0</td>\n",
              "      <td>67.6</td>\n",
              "    </tr>\n",
              "  </tbody>\n",
              "</table>\n",
              "</div>"
            ],
            "text/plain": [
              "가구주의 연령별  15~19세  15세미만  20~24세  25~29세  30~34세  35~39세  40~44세  45~49세  \\\n",
              "시점                                                                        \n",
              "2018        13.5  200.0     3.1    12.7     8.2    12.2     5.5     7.7   \n",
              "2019        20.5  260.0     7.5    30.5    22.5    21.8    14.0    16.1   \n",
              "2020         0.9  380.0    16.0    48.7    47.3    33.1    24.2    19.7   \n",
              "2021         5.6  460.0    24.4    66.6    81.3    49.5    41.8    22.5   \n",
              "2022         6.4  410.0    28.7    75.7   117.2    65.1    55.0    27.2   \n",
              "\n",
              "가구주의 연령별  50~54세  55~59세  60~64세  65~69세  70~74세  75~79세  80~84세  85세 이상  \n",
              "시점                                                                        \n",
              "2018         9.1     8.1    16.9    17.1    18.2    13.5    13.8     9.7  \n",
              "2019        26.4    21.7    41.6    43.1    44.8    31.6    40.1    46.7  \n",
              "2020        33.7    24.9    54.0    71.9    62.1    37.5    46.2    38.7  \n",
              "2021        46.1    30.4    71.7   106.7    81.7    43.7    53.6    54.0  \n",
              "2022        55.4    34.4    81.3   134.3   104.3    51.7    72.0    67.6  "
            ]
          },
          "execution_count": 34,
          "metadata": {},
          "output_type": "execute_result"
        }
      ],
      "source": [
        "Age_Household_Type_inde_nof.pivot_table(index = '시점', columns = '가구주의 연령별', values='증감률', aggfunc = np.mean)"
      ]
    },
    {
      "cell_type": "markdown",
      "metadata": {
        "id": "6dJMIx-nt565"
      },
      "source": [
        "- 25세에서 39세 사이에서 높은 증가율을 보여줌"
      ]
    },
    {
      "cell_type": "markdown",
      "metadata": {
        "id": "1UMS650omDRE"
      },
      "source": [
        "## 4) 2030이 가장 많이 소유 하고 있는 면적"
      ]
    },
    {
      "cell_type": "code",
      "execution_count": 35,
      "metadata": {
        "id": "IzuLV7kFl78G"
      },
      "outputs": [],
      "source": [
        "Age_House_Square_Footage = pd.read_excel('주택면적_연령대별_주택소유자수.xlsx')"
      ]
    },
    {
      "cell_type": "code",
      "execution_count": 36,
      "metadata": {
        "id": "uETasQmL_qYq"
      },
      "outputs": [],
      "source": [
        "# category_mapping = {\n",
        "#     \"시점\" : \"시점\",\n",
        "#     \"연령대별\" : \"연령대별\",\n",
        "#     \"12평 이하\" : \"12평 이하\",\n",
        "#     \"12평 초과 18평 이하\" : \"12평 초과 18평 이하\",\n",
        "#     \"18평 초과 30평 이하\": \"18평 초과\",\n",
        "#     \"30평 초과 50평 이하\": \"18평 초과\",\n",
        "#     \"50평 초과\": \"18평 초과\"\n",
        "# }\n",
        "\n",
        "# Age_House_Square_Footage = Age_House_Square_Footage.rename(columns=category_mapping)"
      ]
    },
    {
      "cell_type": "code",
      "execution_count": 37,
      "metadata": {
        "id": "zvSUIq0o-Wsa"
      },
      "outputs": [],
      "source": [
        "#  '연령대별' 칼럼에서 '29세이하', '30~39세' 값의 행 추출\n",
        "Age_House_Square_Footage_2030 = Age_House_Square_Footage[Age_House_Square_Footage['연령대별'].isin(['29세이하', '30~39세'])]"
      ]
    },
    {
      "cell_type": "code",
      "execution_count": 38,
      "metadata": {
        "id": "3NL3666hvPVH"
      },
      "outputs": [
        {
          "name": "stdout",
          "output_type": "stream",
          "text": [
            "<class 'pandas.core.frame.DataFrame'>\n",
            "Index: 14 entries, 0 to 43\n",
            "Data columns (total 7 columns):\n",
            " #   Column         Non-Null Count  Dtype \n",
            "---  ------         --------------  ----- \n",
            " 0   시점             14 non-null     int64 \n",
            " 1   연령대별           14 non-null     object\n",
            " 2   12평 이하         14 non-null     int64 \n",
            " 3   12평 초과 18평 이하  14 non-null     int64 \n",
            " 4   18평 초과 30평 이하  14 non-null     int64 \n",
            " 5   30평 초과 50평 이하  14 non-null     int64 \n",
            " 6   50평 초과         14 non-null     int64 \n",
            "dtypes: int64(6), object(1)\n",
            "memory usage: 896.0+ bytes\n"
          ]
        }
      ],
      "source": [
        "Age_House_Square_Footage_2030.info()"
      ]
    },
    {
      "cell_type": "code",
      "execution_count": 39,
      "metadata": {
        "id": "WgkQJMnUAw5A"
      },
      "outputs": [],
      "source": [
        "# Age_House_Square_Footage['test'] = np.sum(Age_House_Square_Footage.iloc[:,4:], axis = 1)"
      ]
    },
    {
      "cell_type": "code",
      "execution_count": 40,
      "metadata": {
        "id": "JR-45cCGl75Z"
      },
      "outputs": [],
      "source": [
        "Age_House_Square_Footage_2030 = Age_House_Square_Footage_2030[Age_House_Square_Footage_2030.시점 > 2017]"
      ]
    },
    {
      "cell_type": "code",
      "execution_count": 41,
      "metadata": {
        "id": "YCQYbN2q_JhA"
      },
      "outputs": [
        {
          "data": {
            "text/html": [
              "<div>\n",
              "<style scoped>\n",
              "    .dataframe tbody tr th:only-of-type {\n",
              "        vertical-align: middle;\n",
              "    }\n",
              "\n",
              "    .dataframe tbody tr th {\n",
              "        vertical-align: top;\n",
              "    }\n",
              "\n",
              "    .dataframe thead th {\n",
              "        text-align: right;\n",
              "    }\n",
              "</style>\n",
              "<table border=\"1\" class=\"dataframe\">\n",
              "  <thead>\n",
              "    <tr style=\"text-align: right;\">\n",
              "      <th></th>\n",
              "      <th>시점</th>\n",
              "      <th>연령대별</th>\n",
              "      <th>12평 이하</th>\n",
              "      <th>12평 초과 18평 이하</th>\n",
              "      <th>18평 초과 30평 이하</th>\n",
              "      <th>30평 초과 50평 이하</th>\n",
              "      <th>50평 초과</th>\n",
              "    </tr>\n",
              "  </thead>\n",
              "  <tbody>\n",
              "    <tr>\n",
              "      <th>14</th>\n",
              "      <td>2018</td>\n",
              "      <td>29세이하</td>\n",
              "      <td>31985</td>\n",
              "      <td>102392</td>\n",
              "      <td>95191</td>\n",
              "      <td>19453</td>\n",
              "      <td>8271</td>\n",
              "    </tr>\n",
              "    <tr>\n",
              "      <th>21</th>\n",
              "      <td>2019</td>\n",
              "      <td>29세이하</td>\n",
              "      <td>30386</td>\n",
              "      <td>96411</td>\n",
              "      <td>96293</td>\n",
              "      <td>19017</td>\n",
              "      <td>8255</td>\n",
              "    </tr>\n",
              "    <tr>\n",
              "      <th>28</th>\n",
              "      <td>2020</td>\n",
              "      <td>29세이하</td>\n",
              "      <td>32534</td>\n",
              "      <td>100910</td>\n",
              "      <td>102367</td>\n",
              "      <td>20842</td>\n",
              "      <td>8659</td>\n",
              "    </tr>\n",
              "    <tr>\n",
              "      <th>35</th>\n",
              "      <td>2021</td>\n",
              "      <td>29세이하</td>\n",
              "      <td>37630</td>\n",
              "      <td>111693</td>\n",
              "      <td>110663</td>\n",
              "      <td>22459</td>\n",
              "      <td>9051</td>\n",
              "    </tr>\n",
              "    <tr>\n",
              "      <th>42</th>\n",
              "      <td>2022</td>\n",
              "      <td>29세이하</td>\n",
              "      <td>37936</td>\n",
              "      <td>103627</td>\n",
              "      <td>102233</td>\n",
              "      <td>21296</td>\n",
              "      <td>8970</td>\n",
              "    </tr>\n",
              "    <tr>\n",
              "      <th>15</th>\n",
              "      <td>2018</td>\n",
              "      <td>30~39세</td>\n",
              "      <td>103545</td>\n",
              "      <td>601730</td>\n",
              "      <td>900738</td>\n",
              "      <td>151259</td>\n",
              "      <td>44378</td>\n",
              "    </tr>\n",
              "    <tr>\n",
              "      <th>22</th>\n",
              "      <td>2019</td>\n",
              "      <td>30~39세</td>\n",
              "      <td>95369</td>\n",
              "      <td>562212</td>\n",
              "      <td>902732</td>\n",
              "      <td>139913</td>\n",
              "      <td>41323</td>\n",
              "    </tr>\n",
              "    <tr>\n",
              "      <th>29</th>\n",
              "      <td>2020</td>\n",
              "      <td>30~39세</td>\n",
              "      <td>88644</td>\n",
              "      <td>524633</td>\n",
              "      <td>889437</td>\n",
              "      <td>139119</td>\n",
              "      <td>38551</td>\n",
              "    </tr>\n",
              "    <tr>\n",
              "      <th>36</th>\n",
              "      <td>2021</td>\n",
              "      <td>30~39세</td>\n",
              "      <td>85904</td>\n",
              "      <td>508698</td>\n",
              "      <td>877589</td>\n",
              "      <td>137801</td>\n",
              "      <td>36745</td>\n",
              "    </tr>\n",
              "    <tr>\n",
              "      <th>43</th>\n",
              "      <td>2022</td>\n",
              "      <td>30~39세</td>\n",
              "      <td>84560</td>\n",
              "      <td>483270</td>\n",
              "      <td>815004</td>\n",
              "      <td>124163</td>\n",
              "      <td>34375</td>\n",
              "    </tr>\n",
              "  </tbody>\n",
              "</table>\n",
              "</div>"
            ],
            "text/plain": [
              "      시점    연령대별  12평 이하  12평 초과 18평 이하  18평 초과 30평 이하  30평 초과 50평 이하  50평 초과\n",
              "14  2018   29세이하   31985         102392          95191          19453    8271\n",
              "21  2019   29세이하   30386          96411          96293          19017    8255\n",
              "28  2020   29세이하   32534         100910         102367          20842    8659\n",
              "35  2021   29세이하   37630         111693         110663          22459    9051\n",
              "42  2022   29세이하   37936         103627         102233          21296    8970\n",
              "15  2018  30~39세  103545         601730         900738         151259   44378\n",
              "22  2019  30~39세   95369         562212         902732         139913   41323\n",
              "29  2020  30~39세   88644         524633         889437         139119   38551\n",
              "36  2021  30~39세   85904         508698         877589         137801   36745\n",
              "43  2022  30~39세   84560         483270         815004         124163   34375"
            ]
          },
          "execution_count": 41,
          "metadata": {},
          "output_type": "execute_result"
        }
      ],
      "source": [
        "Age_House_Square_Footage_2030.sort_values(by = '연령대별')"
      ]
    },
    {
      "cell_type": "markdown",
      "metadata": {
        "id": "mxJWh340CN0t"
      },
      "source": [
        "20대는 12 ~ 30평, 30대는 18 ~ 30평 사이의 집을 선호함"
      ]
    },
    {
      "cell_type": "markdown",
      "metadata": {
        "id": "bZMhcelBDRZO"
      },
      "source": [
        "- 주택종류 : 아파트\n",
        "- 면적 : 18평 초과\n",
        "- 아파트 연식 : 2년~4년\n",
        "- 타겟층 : 4060"
      ]
    },
    {
      "cell_type": "markdown",
      "metadata": {
        "id": "bpuSj90t2UoR"
      },
      "source": [
        "2월과 3월에 전입 인구가 가장 많음"
      ]
    },
    {
      "cell_type": "markdown",
      "metadata": {
        "id": "QzU9-_wo5M8I"
      },
      "source": [
        "## 5) 주거선택 이유"
      ]
    },
    {
      "cell_type": "code",
      "execution_count": 42,
      "metadata": {
        "id": "kEQiAMmh5RRG"
      },
      "outputs": [],
      "source": [
        "Reasons_residence = pd.read_excel('현재_거주_중인_주택_선택_이유.xlsx')"
      ]
    },
    {
      "cell_type": "code",
      "execution_count": 43,
      "metadata": {
        "id": "oNCotIQW5RPK"
      },
      "outputs": [
        {
          "data": {
            "text/html": [
              "<div>\n",
              "<style scoped>\n",
              "    .dataframe tbody tr th:only-of-type {\n",
              "        vertical-align: middle;\n",
              "    }\n",
              "\n",
              "    .dataframe tbody tr th {\n",
              "        vertical-align: top;\n",
              "    }\n",
              "\n",
              "    .dataframe thead th {\n",
              "        text-align: right;\n",
              "    }\n",
              "</style>\n",
              "<table border=\"1\" class=\"dataframe\">\n",
              "  <thead>\n",
              "    <tr style=\"text-align: right;\">\n",
              "      <th></th>\n",
              "      <th>연령별</th>\n",
              "      <th>주거비용(매매가격, 전월세가격 등)</th>\n",
              "      <th>주택유형(아파트, 다세대/빌라, 원룸(다가구), 오피스텔 등)</th>\n",
              "      <th>주택상태(주택규모, 노후도, 방의 개수, 인테리어 등)</th>\n",
              "      <th>주택위치(직장/학교와의 거리, 부모님 집과의 거리)</th>\n",
              "      <th>주거환경(의료/문화/상업시설/도시공원 및 녹지 접근성, 교통, 교육환경 등)</th>\n",
              "      <th>향후 주택 가격 변화(미래 자산가치 상승 기대)</th>\n",
              "      <th>기타</th>\n",
              "    </tr>\n",
              "  </thead>\n",
              "  <tbody>\n",
              "    <tr>\n",
              "      <th>1</th>\n",
              "      <td>만25-29세</td>\n",
              "      <td>25.5</td>\n",
              "      <td>16.5</td>\n",
              "      <td>5.4</td>\n",
              "      <td>35.8</td>\n",
              "      <td>12.9</td>\n",
              "      <td>2.8</td>\n",
              "      <td>1.1</td>\n",
              "    </tr>\n",
              "    <tr>\n",
              "      <th>2</th>\n",
              "      <td>만30-34세</td>\n",
              "      <td>31.1</td>\n",
              "      <td>17.7</td>\n",
              "      <td>4.8</td>\n",
              "      <td>29.9</td>\n",
              "      <td>11.9</td>\n",
              "      <td>3.3</td>\n",
              "      <td>1.3</td>\n",
              "    </tr>\n",
              "  </tbody>\n",
              "</table>\n",
              "</div>"
            ],
            "text/plain": [
              "       연령별  주거비용(매매가격, 전월세가격 등)  주택유형(아파트, 다세대/빌라, 원룸(다가구), 오피스텔 등)  \\\n",
              "1  만25-29세                 25.5                                16.5   \n",
              "2  만30-34세                 31.1                                17.7   \n",
              "\n",
              "   주택상태(주택규모, 노후도, 방의 개수, 인테리어 등)  주택위치(직장/학교와의 거리, 부모님 집과의 거리)  \\\n",
              "1                             5.4                          35.8   \n",
              "2                             4.8                          29.9   \n",
              "\n",
              "   주거환경(의료/문화/상업시설/도시공원 및 녹지 접근성, 교통, 교육환경 등)  향후 주택 가격 변화(미래 자산가치 상승 기대)   기타  \n",
              "1                                        12.9                         2.8  1.1  \n",
              "2                                        11.9                         3.3  1.3  "
            ]
          },
          "execution_count": 43,
          "metadata": {},
          "output_type": "execute_result"
        }
      ],
      "source": [
        "Reasons_residence.iloc[1:, :]"
      ]
    },
    {
      "cell_type": "markdown",
      "metadata": {
        "id": "ua7DGBwN6Dhr"
      },
      "source": [
        "2020년 조사 결과 이들은 주택위치, 주거비용 순으로 주택을 선택함  -> 인테리어 관심도가 낮음(?)"
      ]
    },
    {
      "cell_type": "markdown",
      "metadata": {
        "id": "-Sfamgk2hbzX"
      },
      "source": [
        "## 6) 건축 연도 및 **평수**"
      ]
    },
    {
      "cell_type": "code",
      "execution_count": 44,
      "metadata": {
        "id": "iuecJGUPhnlS"
      },
      "outputs": [],
      "source": [
        "year_construction = pd.read_excel('노후건물/주택의_종류__연면적_및_건축연도별_주택.xlsx')"
      ]
    },
    {
      "cell_type": "code",
      "execution_count": 45,
      "metadata": {
        "id": "pBwtQ3Ua9g-4"
      },
      "outputs": [
        {
          "data": {
            "text/plain": [
              "array(['합계', '20㎡ 이하', '20㎡ ~ 40㎡', '40㎡ ~ 60㎡', '60㎡ ~ 85㎡',\n",
              "       '85㎡ ~ 100㎡', '100㎡ ~ 130㎡', '130㎡ ~ 165㎡', '165㎡ ~ 230㎡',\n",
              "       '230㎡ 초과'], dtype=object)"
            ]
          },
          "execution_count": 45,
          "metadata": {},
          "output_type": "execute_result"
        }
      ],
      "source": [
        "year_construction.연면적별.unique()"
      ]
    },
    {
      "cell_type": "code",
      "execution_count": 46,
      "metadata": {
        "id": "rQ200CH_oY7N"
      },
      "outputs": [],
      "source": [
        "category_mapping = {\n",
        "    \"합계\": \"합계\",\n",
        "    \"20㎡ 이하\": \"12평 이하\",\n",
        "    \"20㎡ ~ 40㎡\": \"12평 이하\",\n",
        "    \"40㎡ ~ 60㎡\": \"12평 초과 18평 이하\",\n",
        "    \"60㎡ ~ 85㎡\": \"18평 초과\",\n",
        "    \"85㎡ ~ 100㎡\": \"18평 초과\",\n",
        "    \"100㎡ ~ 130㎡\": \"18평 초과\",\n",
        "    \"130㎡ ~ 165㎡\": \"18평 초과\",\n",
        "    \"165㎡ ~ 230㎡\": \"18평 초과\",\n",
        "    \"230㎡ 초과\": \"18평 초과\"\n",
        "}\n",
        "\n",
        "year_construction['연면적별'] = year_construction['연면적별'].map(category_mapping)"
      ]
    },
    {
      "cell_type": "code",
      "execution_count": 47,
      "metadata": {
        "id": "w8xPOK3vzL1A"
      },
      "outputs": [
        {
          "data": {
            "text/html": [
              "<div>\n",
              "<style scoped>\n",
              "    .dataframe tbody tr th:only-of-type {\n",
              "        vertical-align: middle;\n",
              "    }\n",
              "\n",
              "    .dataframe tbody tr th {\n",
              "        vertical-align: top;\n",
              "    }\n",
              "\n",
              "    .dataframe thead th {\n",
              "        text-align: right;\n",
              "    }\n",
              "</style>\n",
              "<table border=\"1\" class=\"dataframe\">\n",
              "  <thead>\n",
              "    <tr style=\"text-align: right;\">\n",
              "      <th></th>\n",
              "      <th>시점</th>\n",
              "      <th>연면적별</th>\n",
              "      <th>건축연도</th>\n",
              "      <th>단독주택</th>\n",
              "      <th>아파트</th>\n",
              "      <th>연립주택</th>\n",
              "      <th>다세대주택</th>\n",
              "    </tr>\n",
              "  </thead>\n",
              "  <tbody>\n",
              "    <tr>\n",
              "      <th>0</th>\n",
              "      <td>2018</td>\n",
              "      <td>합계</td>\n",
              "      <td>None</td>\n",
              "      <td>3948984</td>\n",
              "      <td>10826044.0</td>\n",
              "      <td>508664.0</td>\n",
              "      <td>2139885.0</td>\n",
              "    </tr>\n",
              "    <tr>\n",
              "      <th>1</th>\n",
              "      <td>2018</td>\n",
              "      <td>합계</td>\n",
              "      <td>2010년대</td>\n",
              "      <td>48037</td>\n",
              "      <td>358266.0</td>\n",
              "      <td>10104.0</td>\n",
              "      <td>62718.0</td>\n",
              "    </tr>\n",
              "    <tr>\n",
              "      <th>2</th>\n",
              "      <td>2018</td>\n",
              "      <td>합계</td>\n",
              "      <td>2010년대</td>\n",
              "      <td>63564</td>\n",
              "      <td>391072.0</td>\n",
              "      <td>16369.0</td>\n",
              "      <td>92959.0</td>\n",
              "    </tr>\n",
              "    <tr>\n",
              "      <th>3</th>\n",
              "      <td>2018</td>\n",
              "      <td>합계</td>\n",
              "      <td>2010년대</td>\n",
              "      <td>64804</td>\n",
              "      <td>334863.0</td>\n",
              "      <td>14227.0</td>\n",
              "      <td>113383.0</td>\n",
              "    </tr>\n",
              "    <tr>\n",
              "      <th>4</th>\n",
              "      <td>2018</td>\n",
              "      <td>합계</td>\n",
              "      <td>2010년대</td>\n",
              "      <td>60977</td>\n",
              "      <td>313371.0</td>\n",
              "      <td>11601.0</td>\n",
              "      <td>98238.0</td>\n",
              "    </tr>\n",
              "  </tbody>\n",
              "</table>\n",
              "</div>"
            ],
            "text/plain": [
              "     시점 연면적별    건축연도     단독주택         아파트      연립주택      다세대주택\n",
              "0  2018   합계    None  3948984  10826044.0  508664.0  2139885.0\n",
              "1  2018   합계  2010년대    48037    358266.0   10104.0    62718.0\n",
              "2  2018   합계  2010년대    63564    391072.0   16369.0    92959.0\n",
              "3  2018   합계  2010년대    64804    334863.0   14227.0   113383.0\n",
              "4  2018   합계  2010년대    60977    313371.0   11601.0    98238.0"
            ]
          },
          "execution_count": 47,
          "metadata": {},
          "output_type": "execute_result"
        }
      ],
      "source": [
        "# Define the mapping for decades\n",
        "decade_mapping = {\n",
        "    '주택_계': None,\n",
        "    2010.0: '2010년대', 2011.0: '2010년대', 2012.0: '2010년대', 2013.0: '2010년대', 2014.0: '2010년대',\n",
        "    2015.0: '2010년대', 2016.0: '2010년대', 2017.0: '2010년대', 2018.0: '2010년대', 2019.0: '2010년대',\n",
        "    2020.0: '2020년대', 2021.0: '2020년대', 2022.0: '2020년대',\n",
        "    ' 2005~2009': '2000년대', ' 2000~2004': '2000년대',\n",
        "    ' 1990~1999': '1990년대',\n",
        "    ' 1980~1989': '1980년대',\n",
        "    ' 1979 이전': '1979년 이전'\n",
        "}\n",
        "year_construction_2 = year_construction.copy()\n",
        "# Apply the mapping to the '건축연도' column\n",
        "year_construction_2['건축연도'] = year_construction['건축연도'].map(decade_mapping)\n",
        "\n",
        "# Display the modified data\n",
        "year_construction_2.head()"
      ]
    },
    {
      "cell_type": "code",
      "execution_count": 48,
      "metadata": {
        "id": "qnmFBUz9u05T"
      },
      "outputs": [],
      "source": [
        "year_construction_22 = year_construction_2[year_construction['시점'] == 2022]\n",
        "year_construction_22 = year_construction_22[year_construction_22.연면적별 == '12평 초과 18평 이하'].drop(717, axis = 0)\n",
        "year_construction_22['총주택수'] = year_construction_22['단독주택'] + year_construction_22['아파트'] + year_construction_22['연립주택'] + year_construction_22['다세대주택']"
      ]
    },
    {
      "cell_type": "code",
      "execution_count": 49,
      "metadata": {
        "id": "uLcvZBaxwIa_"
      },
      "outputs": [
        {
          "data": {
            "text/html": [
              "<div>\n",
              "<style scoped>\n",
              "    .dataframe tbody tr th:only-of-type {\n",
              "        vertical-align: middle;\n",
              "    }\n",
              "\n",
              "    .dataframe tbody tr th {\n",
              "        vertical-align: top;\n",
              "    }\n",
              "\n",
              "    .dataframe thead th {\n",
              "        text-align: right;\n",
              "    }\n",
              "</style>\n",
              "<table border=\"1\" class=\"dataframe\">\n",
              "  <thead>\n",
              "    <tr style=\"text-align: right;\">\n",
              "      <th></th>\n",
              "      <th>총주택수</th>\n",
              "    </tr>\n",
              "    <tr>\n",
              "      <th>건축연도</th>\n",
              "      <th></th>\n",
              "    </tr>\n",
              "  </thead>\n",
              "  <tbody>\n",
              "    <tr>\n",
              "      <th>1990년대</th>\n",
              "      <td>1946797.0</td>\n",
              "    </tr>\n",
              "    <tr>\n",
              "      <th>2000년대</th>\n",
              "      <td>1144207.0</td>\n",
              "    </tr>\n",
              "    <tr>\n",
              "      <th>2010년대</th>\n",
              "      <td>1036956.0</td>\n",
              "    </tr>\n",
              "    <tr>\n",
              "      <th>1980년대</th>\n",
              "      <td>597552.0</td>\n",
              "    </tr>\n",
              "    <tr>\n",
              "      <th>1979년 이전</th>\n",
              "      <td>438653.0</td>\n",
              "    </tr>\n",
              "    <tr>\n",
              "      <th>2020년대</th>\n",
              "      <td>287228.0</td>\n",
              "    </tr>\n",
              "  </tbody>\n",
              "</table>\n",
              "</div>"
            ],
            "text/plain": [
              "               총주택수\n",
              "건축연도               \n",
              "1990년대    1946797.0\n",
              "2000년대    1144207.0\n",
              "2010년대    1036956.0\n",
              "1980년대     597552.0\n",
              "1979년 이전   438653.0\n",
              "2020년대     287228.0"
            ]
          },
          "execution_count": 49,
          "metadata": {},
          "output_type": "execute_result"
        }
      ],
      "source": [
        "year_construction_22_gb = pd.DataFrame(year_construction_22.groupby('건축연도')['총주택수'].sum())\n",
        "year_construction_22_gb.sort_values(by = '총주택수', ascending=False)"
      ]
    },
    {
      "cell_type": "markdown",
      "metadata": {
        "id": "xN1rdMrMqv6U"
      },
      "source": [
        "주거 선택 이유를 살펴봤을 때, 2030세대는 1990년대 낡은 건물을 선택할 확률이 높음"
      ]
    },
    {
      "cell_type": "code",
      "execution_count": 50,
      "metadata": {
        "id": "TtOOyz7vw01E"
      },
      "outputs": [],
      "source": [
        "# # Filter the data for '12평 이하' apartments and exclude rows where '건축연도' is None\n",
        "# filtered_small_apartments = year_construction_2[(year_construction_2['연면적별'] == '12평 이하') & (year_construction_2['건축연도'] != None)]\n",
        "\n",
        "# # Group the filtered data by '시점' and '건축연도', then sum up the '아파트' column\n",
        "# grouped_small_apartments = filtered_small_apartments.groupby(['시점', '건축연도'])['아파트'].sum().unstack(fill_value=0)\n",
        "\n",
        "# # Display the grouped data\n",
        "# grouped_small_apartments.head()"
      ]
    },
    {
      "cell_type": "code",
      "execution_count": 51,
      "metadata": {
        "id": "C0PbYdbm1AbQ"
      },
      "outputs": [],
      "source": [
        "# # Calculate the year-over-year growth rate\n",
        "# grouped_small_apartments_rate = grouped_small_apartments.pct_change() * 100\n",
        "\n",
        "# # Display the result\n",
        "# grouped_small_apartments_rate.head()\n",
        "# # 12평 이하 아파트의 수요가 많이 늘어났음"
      ]
    },
    {
      "cell_type": "markdown",
      "metadata": {
        "id": "x5UCgvHWv9Gm"
      },
      "source": [
        "# 타겟분석"
      ]
    },
    {
      "cell_type": "markdown",
      "metadata": {
        "id": "8FMpeNX00yvh"
      },
      "source": [
        "## 1) 타겟 재산과 부채"
      ]
    },
    {
      "cell_type": "code",
      "execution_count": 52,
      "metadata": {
        "id": "ujGK-oHuysO2"
      },
      "outputs": [],
      "source": [
        "finance = pd.read_excel('연령별_자산_부채_상환액.xlsx')"
      ]
    },
    {
      "cell_type": "code",
      "execution_count": 53,
      "metadata": {
        "id": "tezUUNQrysMp"
      },
      "outputs": [
        {
          "data": {
            "text/html": [
              "<div>\n",
              "<style scoped>\n",
              "    .dataframe tbody tr th:only-of-type {\n",
              "        vertical-align: middle;\n",
              "    }\n",
              "\n",
              "    .dataframe tbody tr th {\n",
              "        vertical-align: top;\n",
              "    }\n",
              "\n",
              "    .dataframe thead th {\n",
              "        text-align: right;\n",
              "    }\n",
              "</style>\n",
              "<table border=\"1\" class=\"dataframe\">\n",
              "  <thead>\n",
              "    <tr style=\"text-align: right;\">\n",
              "      <th></th>\n",
              "      <th>시점</th>\n",
              "      <th>분류</th>\n",
              "      <th>29세 이하</th>\n",
              "      <th>30~39세</th>\n",
              "    </tr>\n",
              "  </thead>\n",
              "  <tbody>\n",
              "    <tr>\n",
              "      <th>0</th>\n",
              "      <td>2017</td>\n",
              "      <td>자산 (만원)</td>\n",
              "      <td>9882</td>\n",
              "      <td>28824</td>\n",
              "    </tr>\n",
              "    <tr>\n",
              "      <th>1</th>\n",
              "      <td>2017</td>\n",
              "      <td>부채 (만원)</td>\n",
              "      <td>2393</td>\n",
              "      <td>6920</td>\n",
              "    </tr>\n",
              "    <tr>\n",
              "      <th>3</th>\n",
              "      <td>2018</td>\n",
              "      <td>자산 (만원)</td>\n",
              "      <td>9892</td>\n",
              "      <td>31503</td>\n",
              "    </tr>\n",
              "    <tr>\n",
              "      <th>4</th>\n",
              "      <td>2018</td>\n",
              "      <td>부채 (만원)</td>\n",
              "      <td>2591</td>\n",
              "      <td>8088</td>\n",
              "    </tr>\n",
              "    <tr>\n",
              "      <th>6</th>\n",
              "      <td>2019</td>\n",
              "      <td>자산 (만원)</td>\n",
              "      <td>10994</td>\n",
              "      <td>32638</td>\n",
              "    </tr>\n",
              "    <tr>\n",
              "      <th>7</th>\n",
              "      <td>2019</td>\n",
              "      <td>부채 (만원)</td>\n",
              "      <td>3197</td>\n",
              "      <td>8915</td>\n",
              "    </tr>\n",
              "    <tr>\n",
              "      <th>9</th>\n",
              "      <td>2020</td>\n",
              "      <td>자산 (만원)</td>\n",
              "      <td>10720</td>\n",
              "      <td>35467</td>\n",
              "    </tr>\n",
              "    <tr>\n",
              "      <th>10</th>\n",
              "      <td>2020</td>\n",
              "      <td>부채 (만원)</td>\n",
              "      <td>3479</td>\n",
              "      <td>10082</td>\n",
              "    </tr>\n",
              "    <tr>\n",
              "      <th>12</th>\n",
              "      <td>2021</td>\n",
              "      <td>자산 (만원)</td>\n",
              "      <td>12140</td>\n",
              "      <td>40017</td>\n",
              "    </tr>\n",
              "    <tr>\n",
              "      <th>13</th>\n",
              "      <td>2021</td>\n",
              "      <td>부채 (만원)</td>\n",
              "      <td>3550</td>\n",
              "      <td>11190</td>\n",
              "    </tr>\n",
              "    <tr>\n",
              "      <th>15</th>\n",
              "      <td>2022</td>\n",
              "      <td>자산 (만원)</td>\n",
              "      <td>13498</td>\n",
              "      <td>41246</td>\n",
              "    </tr>\n",
              "    <tr>\n",
              "      <th>16</th>\n",
              "      <td>2022</td>\n",
              "      <td>부채 (만원)</td>\n",
              "      <td>5014</td>\n",
              "      <td>11307</td>\n",
              "    </tr>\n",
              "  </tbody>\n",
              "</table>\n",
              "</div>"
            ],
            "text/plain": [
              "      시점       분류  29세 이하  30~39세\n",
              "0   2017  자산 (만원)    9882   28824\n",
              "1   2017  부채 (만원)    2393    6920\n",
              "3   2018  자산 (만원)    9892   31503\n",
              "4   2018  부채 (만원)    2591    8088\n",
              "6   2019  자산 (만원)   10994   32638\n",
              "7   2019  부채 (만원)    3197    8915\n",
              "9   2020  자산 (만원)   10720   35467\n",
              "10  2020  부채 (만원)    3479   10082\n",
              "12  2021  자산 (만원)   12140   40017\n",
              "13  2021  부채 (만원)    3550   11190\n",
              "15  2022  자산 (만원)   13498   41246\n",
              "16  2022  부채 (만원)    5014   11307"
            ]
          },
          "execution_count": 53,
          "metadata": {},
          "output_type": "execute_result"
        }
      ],
      "source": [
        "finance_2030 = finance[finance.분류.isin(['자산 (만원)', '부채 (만원)'])].iloc[:, :4]\n",
        "finance_2030"
      ]
    },
    {
      "cell_type": "code",
      "execution_count": 54,
      "metadata": {
        "id": "jPDHIgs8ysKY"
      },
      "outputs": [],
      "source": [
        "assets = finance_2030[finance_2030['분류'].str.contains('자산')].reset_index()\n",
        "debts = finance_2030[finance_2030['분류'].str.contains('부채')].reset_index()"
      ]
    },
    {
      "cell_type": "code",
      "execution_count": 55,
      "metadata": {
        "id": "b-WF6FARysIF"
      },
      "outputs": [],
      "source": [
        "assets = assets.fillna(0)\n",
        "debts = debts.fillna(0)\n",
        "\n",
        "# Calculate the debt-to-assets ratio\n",
        "debts_per = debts.iloc[:, 3:] / assets.iloc[:, 3:] * 100"
      ]
    },
    {
      "cell_type": "code",
      "execution_count": 56,
      "metadata": {
        "id": "BtxPGtmY7VuW"
      },
      "outputs": [
        {
          "data": {
            "text/html": [
              "<div>\n",
              "<style scoped>\n",
              "    .dataframe tbody tr th:only-of-type {\n",
              "        vertical-align: middle;\n",
              "    }\n",
              "\n",
              "    .dataframe tbody tr th {\n",
              "        vertical-align: top;\n",
              "    }\n",
              "\n",
              "    .dataframe thead th {\n",
              "        text-align: right;\n",
              "    }\n",
              "</style>\n",
              "<table border=\"1\" class=\"dataframe\">\n",
              "  <thead>\n",
              "    <tr style=\"text-align: right;\">\n",
              "      <th></th>\n",
              "      <th>29세 이하</th>\n",
              "      <th>30~39세</th>\n",
              "    </tr>\n",
              "  </thead>\n",
              "  <tbody>\n",
              "    <tr>\n",
              "      <th>0</th>\n",
              "      <td>24.2</td>\n",
              "      <td>24.0</td>\n",
              "    </tr>\n",
              "    <tr>\n",
              "      <th>1</th>\n",
              "      <td>26.2</td>\n",
              "      <td>25.7</td>\n",
              "    </tr>\n",
              "    <tr>\n",
              "      <th>2</th>\n",
              "      <td>29.1</td>\n",
              "      <td>27.3</td>\n",
              "    </tr>\n",
              "    <tr>\n",
              "      <th>3</th>\n",
              "      <td>32.5</td>\n",
              "      <td>28.4</td>\n",
              "    </tr>\n",
              "    <tr>\n",
              "      <th>4</th>\n",
              "      <td>29.2</td>\n",
              "      <td>28.0</td>\n",
              "    </tr>\n",
              "    <tr>\n",
              "      <th>5</th>\n",
              "      <td>37.1</td>\n",
              "      <td>27.4</td>\n",
              "    </tr>\n",
              "  </tbody>\n",
              "</table>\n",
              "</div>"
            ],
            "text/plain": [
              "   29세 이하  30~39세\n",
              "0    24.2    24.0\n",
              "1    26.2    25.7\n",
              "2    29.1    27.3\n",
              "3    32.5    28.4\n",
              "4    29.2    28.0\n",
              "5    37.1    27.4"
            ]
          },
          "execution_count": 56,
          "metadata": {},
          "output_type": "execute_result"
        }
      ],
      "source": [
        "debts_per.round(1)"
      ]
    },
    {
      "cell_type": "markdown",
      "metadata": {
        "id": "R_PBUKsI7tuN"
      },
      "source": [
        "자산 대비 부채 비율이 높아지면서 주거 비용을 줄이고자 새로운 가구 형태를 선택했다고 봄"
      ]
    },
    {
      "cell_type": "markdown",
      "metadata": {
        "id": "RXZXor8505qB"
      },
      "source": [
        "## 2) 소비 분석"
      ]
    },
    {
      "cell_type": "code",
      "execution_count": 57,
      "metadata": {
        "id": "bvPexYE62AuL"
      },
      "outputs": [
        {
          "name": "stderr",
          "output_type": "stream",
          "text": [
            "c:\\Users\\xlnt\\anaconda3\\lib\\site-packages\\openpyxl\\styles\\stylesheet.py:226: UserWarning: Workbook contains no default style, apply openpyxl's default\n",
            "  warn(\"Workbook contains no default style, apply openpyxl's default\")\n"
          ]
        }
      ],
      "source": [
        "Consumption_expenditure_amount = pd.read_excel('타겟분석/가구특성별_소비지출구간별_가구분포.xlsx', engine='openpyxl')"
      ]
    },
    {
      "cell_type": "code",
      "execution_count": 58,
      "metadata": {
        "id": "gR7t4u6Z2GmI"
      },
      "outputs": [
        {
          "data": {
            "text/plain": [
              "array(['전체', '(가구주 연령) 29세 이하', '(가구주 연령) 30-39세', '(가구원수) 2인'],\n",
              "      dtype=object)"
            ]
          },
          "execution_count": 58,
          "metadata": {},
          "output_type": "execute_result"
        }
      ],
      "source": [
        "Consumption_expenditure_amount.가구특성별.unique()"
      ]
    },
    {
      "cell_type": "code",
      "execution_count": 59,
      "metadata": {
        "id": "FUnEZw-VnUeE"
      },
      "outputs": [
        {
          "data": {
            "text/html": [
              "<div>\n",
              "<style scoped>\n",
              "    .dataframe tbody tr th:only-of-type {\n",
              "        vertical-align: middle;\n",
              "    }\n",
              "\n",
              "    .dataframe tbody tr th {\n",
              "        vertical-align: top;\n",
              "    }\n",
              "\n",
              "    .dataframe thead th {\n",
              "        text-align: right;\n",
              "    }\n",
              "</style>\n",
              "<table border=\"1\" class=\"dataframe\">\n",
              "  <thead>\n",
              "    <tr style=\"text-align: right;\">\n",
              "      <th></th>\n",
              "      <th>가구특성별</th>\n",
              "      <th>시점</th>\n",
              "      <th>전체</th>\n",
              "      <th>500만원 미만</th>\n",
              "      <th>500~1,000만원 미만</th>\n",
              "      <th>1,000~1,500만원 미만</th>\n",
              "      <th>1,500~2,000만원 미만</th>\n",
              "      <th>2,000~3,000만원 미만</th>\n",
              "      <th>3,000~5,000만원 미만</th>\n",
              "      <th>5,000만원 이상</th>\n",
              "    </tr>\n",
              "  </thead>\n",
              "  <tbody>\n",
              "    <tr>\n",
              "      <th>6</th>\n",
              "      <td>(가구주 연령) 29세 이하</td>\n",
              "      <td>2017</td>\n",
              "      <td>100</td>\n",
              "      <td>3.5</td>\n",
              "      <td>12.8</td>\n",
              "      <td>30.5</td>\n",
              "      <td>26.6</td>\n",
              "      <td>21.7</td>\n",
              "      <td>4.8</td>\n",
              "      <td>0.2</td>\n",
              "    </tr>\n",
              "    <tr>\n",
              "      <th>7</th>\n",
              "      <td>(가구주 연령) 29세 이하</td>\n",
              "      <td>2018</td>\n",
              "      <td>100</td>\n",
              "      <td>0.6</td>\n",
              "      <td>12.8</td>\n",
              "      <td>24.4</td>\n",
              "      <td>25.3</td>\n",
              "      <td>29.0</td>\n",
              "      <td>7.2</td>\n",
              "      <td>0.8</td>\n",
              "    </tr>\n",
              "    <tr>\n",
              "      <th>8</th>\n",
              "      <td>(가구주 연령) 29세 이하</td>\n",
              "      <td>2019</td>\n",
              "      <td>100</td>\n",
              "      <td>0.7</td>\n",
              "      <td>7.7</td>\n",
              "      <td>23.4</td>\n",
              "      <td>27.6</td>\n",
              "      <td>27.6</td>\n",
              "      <td>12.2</td>\n",
              "      <td>0.8</td>\n",
              "    </tr>\n",
              "    <tr>\n",
              "      <th>9</th>\n",
              "      <td>(가구주 연령) 29세 이하</td>\n",
              "      <td>2020</td>\n",
              "      <td>100</td>\n",
              "      <td>0.4</td>\n",
              "      <td>8.0</td>\n",
              "      <td>23.1</td>\n",
              "      <td>28.4</td>\n",
              "      <td>29.4</td>\n",
              "      <td>9.6</td>\n",
              "      <td>1.0</td>\n",
              "    </tr>\n",
              "    <tr>\n",
              "      <th>10</th>\n",
              "      <td>(가구주 연령) 29세 이하</td>\n",
              "      <td>2021</td>\n",
              "      <td>100</td>\n",
              "      <td>0.8</td>\n",
              "      <td>6.1</td>\n",
              "      <td>23.6</td>\n",
              "      <td>26.8</td>\n",
              "      <td>32.2</td>\n",
              "      <td>9.7</td>\n",
              "      <td>0.9</td>\n",
              "    </tr>\n",
              "    <tr>\n",
              "      <th>11</th>\n",
              "      <td>(가구주 연령) 29세 이하</td>\n",
              "      <td>2022</td>\n",
              "      <td>100</td>\n",
              "      <td>0.2</td>\n",
              "      <td>8.2</td>\n",
              "      <td>23.6</td>\n",
              "      <td>27.6</td>\n",
              "      <td>28.5</td>\n",
              "      <td>11.0</td>\n",
              "      <td>0.9</td>\n",
              "    </tr>\n",
              "  </tbody>\n",
              "</table>\n",
              "</div>"
            ],
            "text/plain": [
              "              가구특성별    시점   전체  500만원 미만  500~1,000만원 미만  1,000~1,500만원 미만  \\\n",
              "6   (가구주 연령) 29세 이하  2017  100       3.5            12.8              30.5   \n",
              "7   (가구주 연령) 29세 이하  2018  100       0.6            12.8              24.4   \n",
              "8   (가구주 연령) 29세 이하  2019  100       0.7             7.7              23.4   \n",
              "9   (가구주 연령) 29세 이하  2020  100       0.4             8.0              23.1   \n",
              "10  (가구주 연령) 29세 이하  2021  100       0.8             6.1              23.6   \n",
              "11  (가구주 연령) 29세 이하  2022  100       0.2             8.2              23.6   \n",
              "\n",
              "    1,500~2,000만원 미만  2,000~3,000만원 미만  3,000~5,000만원 미만  5,000만원 이상  \n",
              "6               26.6              21.7               4.8         0.2  \n",
              "7               25.3              29.0               7.2         0.8  \n",
              "8               27.6              27.6              12.2         0.8  \n",
              "9               28.4              29.4               9.6         1.0  \n",
              "10              26.8              32.2               9.7         0.9  \n",
              "11              27.6              28.5              11.0         0.9  "
            ]
          },
          "execution_count": 59,
          "metadata": {},
          "output_type": "execute_result"
        }
      ],
      "source": [
        "Consumption_expenditure_amount[Consumption_expenditure_amount.가구특성별.str.contains('29')]"
      ]
    },
    {
      "cell_type": "code",
      "execution_count": 60,
      "metadata": {
        "id": "9S9HAKw52Ap0"
      },
      "outputs": [
        {
          "data": {
            "text/html": [
              "<div>\n",
              "<style scoped>\n",
              "    .dataframe tbody tr th:only-of-type {\n",
              "        vertical-align: middle;\n",
              "    }\n",
              "\n",
              "    .dataframe tbody tr th {\n",
              "        vertical-align: top;\n",
              "    }\n",
              "\n",
              "    .dataframe thead th {\n",
              "        text-align: right;\n",
              "    }\n",
              "</style>\n",
              "<table border=\"1\" class=\"dataframe\">\n",
              "  <thead>\n",
              "    <tr style=\"text-align: right;\">\n",
              "      <th></th>\n",
              "      <th>가구특성별</th>\n",
              "      <th>시점</th>\n",
              "      <th>전체</th>\n",
              "      <th>500만원 미만</th>\n",
              "      <th>500~1,000만원 미만</th>\n",
              "      <th>1,000~1,500만원 미만</th>\n",
              "      <th>1,500~2,000만원 미만</th>\n",
              "      <th>2,000~3,000만원 미만</th>\n",
              "      <th>3,000~5,000만원 미만</th>\n",
              "      <th>5,000만원 이상</th>\n",
              "    </tr>\n",
              "  </thead>\n",
              "  <tbody>\n",
              "    <tr>\n",
              "      <th>12</th>\n",
              "      <td>(가구주 연령) 30-39세</td>\n",
              "      <td>2017</td>\n",
              "      <td>100</td>\n",
              "      <td>0.8</td>\n",
              "      <td>4.4</td>\n",
              "      <td>13.4</td>\n",
              "      <td>17.8</td>\n",
              "      <td>34.9</td>\n",
              "      <td>25.0</td>\n",
              "      <td>3.7</td>\n",
              "    </tr>\n",
              "    <tr>\n",
              "      <th>13</th>\n",
              "      <td>(가구주 연령) 30-39세</td>\n",
              "      <td>2018</td>\n",
              "      <td>100</td>\n",
              "      <td>0.5</td>\n",
              "      <td>3.5</td>\n",
              "      <td>11.4</td>\n",
              "      <td>15.6</td>\n",
              "      <td>36.6</td>\n",
              "      <td>27.6</td>\n",
              "      <td>4.9</td>\n",
              "    </tr>\n",
              "    <tr>\n",
              "      <th>14</th>\n",
              "      <td>(가구주 연령) 30-39세</td>\n",
              "      <td>2019</td>\n",
              "      <td>100</td>\n",
              "      <td>0.2</td>\n",
              "      <td>3.0</td>\n",
              "      <td>8.6</td>\n",
              "      <td>16.2</td>\n",
              "      <td>35.3</td>\n",
              "      <td>30.8</td>\n",
              "      <td>6.0</td>\n",
              "    </tr>\n",
              "    <tr>\n",
              "      <th>15</th>\n",
              "      <td>(가구주 연령) 30-39세</td>\n",
              "      <td>2020</td>\n",
              "      <td>100</td>\n",
              "      <td>0.1</td>\n",
              "      <td>1.9</td>\n",
              "      <td>8.3</td>\n",
              "      <td>14.9</td>\n",
              "      <td>33.7</td>\n",
              "      <td>34.1</td>\n",
              "      <td>6.9</td>\n",
              "    </tr>\n",
              "    <tr>\n",
              "      <th>16</th>\n",
              "      <td>(가구주 연령) 30-39세</td>\n",
              "      <td>2021</td>\n",
              "      <td>100</td>\n",
              "      <td>0.1</td>\n",
              "      <td>2.4</td>\n",
              "      <td>8.3</td>\n",
              "      <td>15.2</td>\n",
              "      <td>33.5</td>\n",
              "      <td>33.3</td>\n",
              "      <td>7.2</td>\n",
              "    </tr>\n",
              "    <tr>\n",
              "      <th>17</th>\n",
              "      <td>(가구주 연령) 30-39세</td>\n",
              "      <td>2022</td>\n",
              "      <td>100</td>\n",
              "      <td>0.2</td>\n",
              "      <td>2.2</td>\n",
              "      <td>9.8</td>\n",
              "      <td>15.2</td>\n",
              "      <td>32.2</td>\n",
              "      <td>32.6</td>\n",
              "      <td>7.7</td>\n",
              "    </tr>\n",
              "  </tbody>\n",
              "</table>\n",
              "</div>"
            ],
            "text/plain": [
              "              가구특성별    시점   전체  500만원 미만  500~1,000만원 미만  1,000~1,500만원 미만  \\\n",
              "12  (가구주 연령) 30-39세  2017  100       0.8             4.4              13.4   \n",
              "13  (가구주 연령) 30-39세  2018  100       0.5             3.5              11.4   \n",
              "14  (가구주 연령) 30-39세  2019  100       0.2             3.0               8.6   \n",
              "15  (가구주 연령) 30-39세  2020  100       0.1             1.9               8.3   \n",
              "16  (가구주 연령) 30-39세  2021  100       0.1             2.4               8.3   \n",
              "17  (가구주 연령) 30-39세  2022  100       0.2             2.2               9.8   \n",
              "\n",
              "    1,500~2,000만원 미만  2,000~3,000만원 미만  3,000~5,000만원 미만  5,000만원 이상  \n",
              "12              17.8              34.9              25.0         3.7  \n",
              "13              15.6              36.6              27.6         4.9  \n",
              "14              16.2              35.3              30.8         6.0  \n",
              "15              14.9              33.7              34.1         6.9  \n",
              "16              15.2              33.5              33.3         7.2  \n",
              "17              15.2              32.2              32.6         7.7  "
            ]
          },
          "execution_count": 60,
          "metadata": {},
          "output_type": "execute_result"
        }
      ],
      "source": [
        "Consumption_expenditure_amount[Consumption_expenditure_amount.가구특성별.str.contains('39')]"
      ]
    },
    {
      "cell_type": "code",
      "execution_count": 61,
      "metadata": {
        "id": "1FrmWEiMysDw"
      },
      "outputs": [
        {
          "data": {
            "text/html": [
              "<div>\n",
              "<style scoped>\n",
              "    .dataframe tbody tr th:only-of-type {\n",
              "        vertical-align: middle;\n",
              "    }\n",
              "\n",
              "    .dataframe tbody tr th {\n",
              "        vertical-align: top;\n",
              "    }\n",
              "\n",
              "    .dataframe thead th {\n",
              "        text-align: right;\n",
              "    }\n",
              "</style>\n",
              "<table border=\"1\" class=\"dataframe\">\n",
              "  <thead>\n",
              "    <tr style=\"text-align: right;\">\n",
              "      <th></th>\n",
              "      <th>가구특성별</th>\n",
              "      <th>시점</th>\n",
              "      <th>전체</th>\n",
              "      <th>500만원 미만</th>\n",
              "      <th>500~1,000만원 미만</th>\n",
              "      <th>1,000~1,500만원 미만</th>\n",
              "      <th>1,500~2,000만원 미만</th>\n",
              "      <th>2,000~3,000만원 미만</th>\n",
              "      <th>3,000~5,000만원 미만</th>\n",
              "      <th>5,000만원 이상</th>\n",
              "    </tr>\n",
              "  </thead>\n",
              "  <tbody>\n",
              "    <tr>\n",
              "      <th>18</th>\n",
              "      <td>(가구원수) 2인</td>\n",
              "      <td>2017</td>\n",
              "      <td>100</td>\n",
              "      <td>4.0</td>\n",
              "      <td>19.6</td>\n",
              "      <td>26.2</td>\n",
              "      <td>19.7</td>\n",
              "      <td>20.6</td>\n",
              "      <td>8.2</td>\n",
              "      <td>1.7</td>\n",
              "    </tr>\n",
              "    <tr>\n",
              "      <th>19</th>\n",
              "      <td>(가구원수) 2인</td>\n",
              "      <td>2018</td>\n",
              "      <td>100</td>\n",
              "      <td>2.0</td>\n",
              "      <td>17.1</td>\n",
              "      <td>25.7</td>\n",
              "      <td>20.2</td>\n",
              "      <td>22.7</td>\n",
              "      <td>10.1</td>\n",
              "      <td>2.1</td>\n",
              "    </tr>\n",
              "    <tr>\n",
              "      <th>20</th>\n",
              "      <td>(가구원수) 2인</td>\n",
              "      <td>2019</td>\n",
              "      <td>100</td>\n",
              "      <td>1.1</td>\n",
              "      <td>14.7</td>\n",
              "      <td>22.8</td>\n",
              "      <td>21.8</td>\n",
              "      <td>25.3</td>\n",
              "      <td>11.9</td>\n",
              "      <td>2.3</td>\n",
              "    </tr>\n",
              "    <tr>\n",
              "      <th>21</th>\n",
              "      <td>(가구원수) 2인</td>\n",
              "      <td>2020</td>\n",
              "      <td>100</td>\n",
              "      <td>0.6</td>\n",
              "      <td>12.5</td>\n",
              "      <td>23.1</td>\n",
              "      <td>22.5</td>\n",
              "      <td>25.5</td>\n",
              "      <td>13.1</td>\n",
              "      <td>2.6</td>\n",
              "    </tr>\n",
              "    <tr>\n",
              "      <th>22</th>\n",
              "      <td>(가구원수) 2인</td>\n",
              "      <td>2021</td>\n",
              "      <td>100</td>\n",
              "      <td>0.4</td>\n",
              "      <td>9.3</td>\n",
              "      <td>22.1</td>\n",
              "      <td>22.9</td>\n",
              "      <td>28.8</td>\n",
              "      <td>14.0</td>\n",
              "      <td>2.5</td>\n",
              "    </tr>\n",
              "    <tr>\n",
              "      <th>23</th>\n",
              "      <td>(가구원수) 2인</td>\n",
              "      <td>2022</td>\n",
              "      <td>100</td>\n",
              "      <td>0.3</td>\n",
              "      <td>8.4</td>\n",
              "      <td>19.0</td>\n",
              "      <td>21.3</td>\n",
              "      <td>31.5</td>\n",
              "      <td>16.6</td>\n",
              "      <td>2.9</td>\n",
              "    </tr>\n",
              "  </tbody>\n",
              "</table>\n",
              "</div>"
            ],
            "text/plain": [
              "        가구특성별    시점   전체  500만원 미만  500~1,000만원 미만  1,000~1,500만원 미만  \\\n",
              "18  (가구원수) 2인  2017  100       4.0            19.6              26.2   \n",
              "19  (가구원수) 2인  2018  100       2.0            17.1              25.7   \n",
              "20  (가구원수) 2인  2019  100       1.1            14.7              22.8   \n",
              "21  (가구원수) 2인  2020  100       0.6            12.5              23.1   \n",
              "22  (가구원수) 2인  2021  100       0.4             9.3              22.1   \n",
              "23  (가구원수) 2인  2022  100       0.3             8.4              19.0   \n",
              "\n",
              "    1,500~2,000만원 미만  2,000~3,000만원 미만  3,000~5,000만원 미만  5,000만원 이상  \n",
              "18              19.7              20.6               8.2         1.7  \n",
              "19              20.2              22.7              10.1         2.1  \n",
              "20              21.8              25.3              11.9         2.3  \n",
              "21              22.5              25.5              13.1         2.6  \n",
              "22              22.9              28.8              14.0         2.5  \n",
              "23              21.3              31.5              16.6         2.9  "
            ]
          },
          "execution_count": 61,
          "metadata": {},
          "output_type": "execute_result"
        }
      ],
      "source": [
        "Consumption_expenditure_amount[Consumption_expenditure_amount.가구특성별.str.contains('2인')]"
      ]
    },
    {
      "cell_type": "markdown",
      "metadata": {
        "id": "4v4ZSy362zhi"
      },
      "source": []
    },
    {
      "cell_type": "code",
      "execution_count": 62,
      "metadata": {
        "id": "Z7F_D67508nN"
      },
      "outputs": [
        {
          "name": "stderr",
          "output_type": "stream",
          "text": [
            "c:\\Users\\xlnt\\anaconda3\\lib\\site-packages\\openpyxl\\styles\\stylesheet.py:226: UserWarning: Workbook contains no default style, apply openpyxl's default\n",
            "  warn(\"Workbook contains no default style, apply openpyxl's default\")\n"
          ]
        }
      ],
      "source": [
        "Age_specific_per_household_average_household_balance = pd.read_excel('타겟분석/가구주_연령별_가구당_월평균_가계수지_전국_2인이상.xlsx', engine='openpyxl')"
      ]
    },
    {
      "cell_type": "code",
      "execution_count": 63,
      "metadata": {
        "id": "gO0_juS608hL"
      },
      "outputs": [
        {
          "data": {
            "text/html": [
              "<div>\n",
              "<style scoped>\n",
              "    .dataframe tbody tr th:only-of-type {\n",
              "        vertical-align: middle;\n",
              "    }\n",
              "\n",
              "    .dataframe tbody tr th {\n",
              "        vertical-align: top;\n",
              "    }\n",
              "\n",
              "    .dataframe thead th {\n",
              "        text-align: right;\n",
              "    }\n",
              "</style>\n",
              "<table border=\"1\" class=\"dataframe\">\n",
              "  <thead>\n",
              "    <tr style=\"text-align: right;\">\n",
              "      <th></th>\n",
              "      <th>가구주연령별</th>\n",
              "      <th>시점</th>\n",
              "      <th>가계수지항목별</th>\n",
              "      <th>전체가구</th>\n",
              "    </tr>\n",
              "  </thead>\n",
              "  <tbody>\n",
              "    <tr>\n",
              "      <th>72</th>\n",
              "      <td>39세이하가구</td>\n",
              "      <td>2019</td>\n",
              "      <td>가구원수 (명)</td>\n",
              "      <td>3.22</td>\n",
              "    </tr>\n",
              "    <tr>\n",
              "      <th>73</th>\n",
              "      <td>39세이하가구</td>\n",
              "      <td>2019</td>\n",
              "      <td>가구주연령 (세)</td>\n",
              "      <td>34.56</td>\n",
              "    </tr>\n",
              "    <tr>\n",
              "      <th>74</th>\n",
              "      <td>39세이하가구</td>\n",
              "      <td>2019</td>\n",
              "      <td>가구분포 (%)</td>\n",
              "      <td>18.78</td>\n",
              "    </tr>\n",
              "    <tr>\n",
              "      <th>75</th>\n",
              "      <td>39세이하가구</td>\n",
              "      <td>2019</td>\n",
              "      <td>가계지출</td>\n",
              "      <td>4014008.00</td>\n",
              "    </tr>\n",
              "    <tr>\n",
              "      <th>76</th>\n",
              "      <td>39세이하가구</td>\n",
              "      <td>2019</td>\n",
              "      <td>소비지출</td>\n",
              "      <td>3039814.00</td>\n",
              "    </tr>\n",
              "  </tbody>\n",
              "</table>\n",
              "</div>"
            ],
            "text/plain": [
              "     가구주연령별    시점    가계수지항목별        전체가구\n",
              "72  39세이하가구  2019   가구원수 (명)        3.22\n",
              "73  39세이하가구  2019  가구주연령 (세)       34.56\n",
              "74  39세이하가구  2019   가구분포 (%)       18.78\n",
              "75  39세이하가구  2019       가계지출  4014008.00\n",
              "76  39세이하가구  2019       소비지출  3039814.00"
            ]
          },
          "execution_count": 63,
          "metadata": {},
          "output_type": "execute_result"
        }
      ],
      "source": [
        "Age_specific_per_household_average_household_balance_39 = Age_specific_per_household_average_household_balance[Age_specific_per_household_average_household_balance.가구주연령별.str.contains('39세')]\n",
        "Age_specific_per_household_average_household_balance_39.head()"
      ]
    },
    {
      "cell_type": "code",
      "execution_count": 64,
      "metadata": {
        "id": "uqTpsRycq7UH"
      },
      "outputs": [
        {
          "name": "stderr",
          "output_type": "stream",
          "text": [
            "c:\\Users\\xlnt\\anaconda3\\lib\\site-packages\\openpyxl\\styles\\stylesheet.py:226: UserWarning: Workbook contains no default style, apply openpyxl's default\n",
            "  warn(\"Workbook contains no default style, apply openpyxl's default\")\n",
            "C:\\Users\\xlnt\\AppData\\Local\\Temp\\ipykernel_45904\\3434226092.py:8: FutureWarning: The provided callable <function sum at 0x0000024DAEF37940> is currently using DataFrameGroupBy.sum. In a future version of pandas, the provided callable will be used directly. To keep current behavior pass the string \"sum\" instead.\n",
            "  Age_specific_per_household_average_household_balance_39_top10_pivot = Age_specific_per_household_average_household_balance_39_top10.pivot_table(index = '시점', columns = '가계수지항목별', values='전체가구', aggfunc = np.sum)\n"
          ]
        }
      ],
      "source": [
        "Age_specific_per_household_average_household_balance = pd.read_excel('타겟분석/가구주_연령별_가구당_월평균_가계수지_전국_2인이상.xlsx', engine='openpyxl')\n",
        "Age_specific_per_household_average_household_balance_39 = Age_specific_per_household_average_household_balance[Age_specific_per_household_average_household_balance.가구주연령별.str.contains('39세')]\n",
        "Age_specific_per_household_average_household_balance_cos = Age_specific_per_household_average_household_balance_39[Age_specific_per_household_average_household_balance_39.가계수지항목별 == '소비지출']\n",
        "Age_specific_per_household_average_household_balance_39_top10 = Age_specific_per_household_average_household_balance_39[\n",
        "    Age_specific_per_household_average_household_balance_39['가계수지항목별'].str.contains('0') |\n",
        "    Age_specific_per_household_average_household_balance_39['가계수지항목별'].str.contains('1')\n",
        "]\n",
        "Age_specific_per_household_average_household_balance_39_top10_pivot = Age_specific_per_household_average_household_balance_39_top10.pivot_table(index = '시점', columns = '가계수지항목별', values='전체가구', aggfunc = np.sum)\n",
        "\n",
        "\n",
        "# 품목별 소비자 물가지수\n",
        "Consumer_Price_Index= pd.read_excel('타겟분석/지출목적별_소비자물가지수.xlsx', engine='openpyxl')\n",
        "Consumer_Price_Index = Consumer_Price_Index.iloc[1:, :]\n",
        "Consumer_Price_Index.set_index('시점', inplace=True)\n",
        "columns_name = Age_specific_per_household_average_household_balance_39_top10_pivot.columns\n",
        "columns_name = list(columns_name)\n",
        "Consumer_Price_Index.columns = columns_name\n"
      ]
    },
    {
      "cell_type": "code",
      "execution_count": 65,
      "metadata": {
        "id": "Q8xUPHFM5NR8"
      },
      "outputs": [
        {
          "data": {
            "text/html": [
              "<div>\n",
              "<style scoped>\n",
              "    .dataframe tbody tr th:only-of-type {\n",
              "        vertical-align: middle;\n",
              "    }\n",
              "\n",
              "    .dataframe tbody tr th {\n",
              "        vertical-align: top;\n",
              "    }\n",
              "\n",
              "    .dataframe thead th {\n",
              "        text-align: right;\n",
              "    }\n",
              "</style>\n",
              "<table border=\"1\" class=\"dataframe\">\n",
              "  <thead>\n",
              "    <tr style=\"text-align: right;\">\n",
              "      <th></th>\n",
              "      <th>가구주연령별</th>\n",
              "      <th>시점</th>\n",
              "      <th>가계수지항목별</th>\n",
              "      <th>전체가구</th>\n",
              "    </tr>\n",
              "  </thead>\n",
              "  <tbody>\n",
              "    <tr>\n",
              "      <th>76</th>\n",
              "      <td>39세이하가구</td>\n",
              "      <td>2019</td>\n",
              "      <td>소비지출</td>\n",
              "      <td>3039814.0</td>\n",
              "    </tr>\n",
              "    <tr>\n",
              "      <th>94</th>\n",
              "      <td>39세이하가구</td>\n",
              "      <td>2020</td>\n",
              "      <td>소비지출</td>\n",
              "      <td>3047327.0</td>\n",
              "    </tr>\n",
              "    <tr>\n",
              "      <th>112</th>\n",
              "      <td>39세이하가구</td>\n",
              "      <td>2021</td>\n",
              "      <td>소비지출</td>\n",
              "      <td>3139773.0</td>\n",
              "    </tr>\n",
              "    <tr>\n",
              "      <th>130</th>\n",
              "      <td>39세이하가구</td>\n",
              "      <td>2022</td>\n",
              "      <td>소비지출</td>\n",
              "      <td>3309957.0</td>\n",
              "    </tr>\n",
              "  </tbody>\n",
              "</table>\n",
              "</div>"
            ],
            "text/plain": [
              "      가구주연령별    시점 가계수지항목별       전체가구\n",
              "76   39세이하가구  2019    소비지출  3039814.0\n",
              "94   39세이하가구  2020    소비지출  3047327.0\n",
              "112  39세이하가구  2021    소비지출  3139773.0\n",
              "130  39세이하가구  2022    소비지출  3309957.0"
            ]
          },
          "execution_count": 65,
          "metadata": {},
          "output_type": "execute_result"
        }
      ],
      "source": [
        "Age_specific_per_household_average_household_balance_cos = Age_specific_per_household_average_household_balance_39[Age_specific_per_household_average_household_balance_39.가계수지항목별 == '소비지출']\n",
        "Age_specific_per_household_average_household_balance_cos"
      ]
    },
    {
      "cell_type": "code",
      "execution_count": 66,
      "metadata": {
        "id": "K0W6nayz08ce"
      },
      "outputs": [],
      "source": [
        "Age_specific_per_household_average_household_balance_39_top10 = Age_specific_per_household_average_household_balance_39[\n",
        "    Age_specific_per_household_average_household_balance_39['가계수지항목별'].str.contains('0') |\n",
        "    Age_specific_per_household_average_household_balance_39['가계수지항목별'].str.contains('1')\n",
        "]"
      ]
    },
    {
      "cell_type": "code",
      "execution_count": 67,
      "metadata": {
        "id": "F1JsyVsV9q19"
      },
      "outputs": [
        {
          "name": "stderr",
          "output_type": "stream",
          "text": [
            "C:\\Users\\xlnt\\AppData\\Local\\Temp\\ipykernel_45904\\4038576012.py:1: FutureWarning: The provided callable <function sum at 0x0000024DAEF37940> is currently using DataFrameGroupBy.sum. In a future version of pandas, the provided callable will be used directly. To keep current behavior pass the string \"sum\" instead.\n",
            "  Age_specific_per_household_average_household_balance_39_top10_pivot = Age_specific_per_household_average_household_balance_39_top10.pivot_table(index = '시점', columns = '가계수지항목별', values='전체가구', aggfunc = np.sum)\n"
          ]
        },
        {
          "data": {
            "text/html": [
              "<div>\n",
              "<style scoped>\n",
              "    .dataframe tbody tr th:only-of-type {\n",
              "        vertical-align: middle;\n",
              "    }\n",
              "\n",
              "    .dataframe tbody tr th {\n",
              "        vertical-align: top;\n",
              "    }\n",
              "\n",
              "    .dataframe thead th {\n",
              "        text-align: right;\n",
              "    }\n",
              "</style>\n",
              "<table border=\"1\" class=\"dataframe\">\n",
              "  <thead>\n",
              "    <tr style=\"text-align: right;\">\n",
              "      <th>가계수지항목별</th>\n",
              "      <th>01.식료품 · 비주류음료</th>\n",
              "      <th>02.주류 · 담배</th>\n",
              "      <th>03.의류 · 신발</th>\n",
              "      <th>04.주거 · 수도 · 광열</th>\n",
              "      <th>05.가정용품 · 가사서비스</th>\n",
              "      <th>06.보건</th>\n",
              "      <th>07.교통</th>\n",
              "      <th>08.통신</th>\n",
              "      <th>09.오락 · 문화</th>\n",
              "      <th>10.교육</th>\n",
              "      <th>11.음식 · 숙박</th>\n",
              "      <th>12.기타상품 · 서비스</th>\n",
              "    </tr>\n",
              "    <tr>\n",
              "      <th>시점</th>\n",
              "      <th></th>\n",
              "      <th></th>\n",
              "      <th></th>\n",
              "      <th></th>\n",
              "      <th></th>\n",
              "      <th></th>\n",
              "      <th></th>\n",
              "      <th></th>\n",
              "      <th></th>\n",
              "      <th></th>\n",
              "      <th></th>\n",
              "      <th></th>\n",
              "    </tr>\n",
              "  </thead>\n",
              "  <tbody>\n",
              "    <tr>\n",
              "      <th>2019</th>\n",
              "      <td>370057.0</td>\n",
              "      <td>42390.0</td>\n",
              "      <td>191478.0</td>\n",
              "      <td>291888.0</td>\n",
              "      <td>179688.0</td>\n",
              "      <td>202476.0</td>\n",
              "      <td>420708.0</td>\n",
              "      <td>148469.0</td>\n",
              "      <td>242650.0</td>\n",
              "      <td>201128.0</td>\n",
              "      <td>464994.0</td>\n",
              "      <td>283888.0</td>\n",
              "    </tr>\n",
              "    <tr>\n",
              "      <th>2020</th>\n",
              "      <td>427619.0</td>\n",
              "      <td>45496.0</td>\n",
              "      <td>172443.0</td>\n",
              "      <td>309385.0</td>\n",
              "      <td>202897.0</td>\n",
              "      <td>213134.0</td>\n",
              "      <td>437146.0</td>\n",
              "      <td>151208.0</td>\n",
              "      <td>214540.0</td>\n",
              "      <td>169764.0</td>\n",
              "      <td>433580.0</td>\n",
              "      <td>270116.0</td>\n",
              "    </tr>\n",
              "    <tr>\n",
              "      <th>2021</th>\n",
              "      <td>429815.0</td>\n",
              "      <td>46405.0</td>\n",
              "      <td>191547.0</td>\n",
              "      <td>303362.0</td>\n",
              "      <td>198512.0</td>\n",
              "      <td>240678.0</td>\n",
              "      <td>404959.0</td>\n",
              "      <td>162116.0</td>\n",
              "      <td>220727.0</td>\n",
              "      <td>198789.0</td>\n",
              "      <td>462520.0</td>\n",
              "      <td>280342.0</td>\n",
              "    </tr>\n",
              "    <tr>\n",
              "      <th>2022</th>\n",
              "      <td>411757.0</td>\n",
              "      <td>45575.0</td>\n",
              "      <td>201114.0</td>\n",
              "      <td>311837.0</td>\n",
              "      <td>181256.0</td>\n",
              "      <td>231612.0</td>\n",
              "      <td>465082.0</td>\n",
              "      <td>164540.0</td>\n",
              "      <td>256407.0</td>\n",
              "      <td>231842.0</td>\n",
              "      <td>532411.0</td>\n",
              "      <td>276524.0</td>\n",
              "    </tr>\n",
              "  </tbody>\n",
              "</table>\n",
              "</div>"
            ],
            "text/plain": [
              "가계수지항목별  01.식료품 · 비주류음료  02.주류 · 담배  03.의류 · 신발  04.주거 · 수도 · 광열  \\\n",
              "시점                                                                 \n",
              "2019           370057.0     42390.0    191478.0         291888.0   \n",
              "2020           427619.0     45496.0    172443.0         309385.0   \n",
              "2021           429815.0     46405.0    191547.0         303362.0   \n",
              "2022           411757.0     45575.0    201114.0         311837.0   \n",
              "\n",
              "가계수지항목별  05.가정용품 · 가사서비스     06.보건     07.교통     08.통신  09.오락 · 문화     10.교육  \\\n",
              "시점                                                                             \n",
              "2019            179688.0  202476.0  420708.0  148469.0    242650.0  201128.0   \n",
              "2020            202897.0  213134.0  437146.0  151208.0    214540.0  169764.0   \n",
              "2021            198512.0  240678.0  404959.0  162116.0    220727.0  198789.0   \n",
              "2022            181256.0  231612.0  465082.0  164540.0    256407.0  231842.0   \n",
              "\n",
              "가계수지항목별  11.음식 · 숙박  12.기타상품 · 서비스  \n",
              "시점                                  \n",
              "2019       464994.0       283888.0  \n",
              "2020       433580.0       270116.0  \n",
              "2021       462520.0       280342.0  \n",
              "2022       532411.0       276524.0  "
            ]
          },
          "execution_count": 67,
          "metadata": {},
          "output_type": "execute_result"
        }
      ],
      "source": [
        "Age_specific_per_household_average_household_balance_39_top10_pivot = Age_specific_per_household_average_household_balance_39_top10.pivot_table(index = '시점', columns = '가계수지항목별', values='전체가구', aggfunc = np.sum)\n",
        "Age_specific_per_household_average_household_balance_39_top10_pivot"
      ]
    },
    {
      "cell_type": "code",
      "execution_count": 68,
      "metadata": {
        "id": "WgH9O_jNnUeI"
      },
      "outputs": [],
      "source": [
        "# 품목별 소비자 물가지수\n",
        "Consumer_Price_Index= pd.read_excel('타겟분석/지출목적별_소비자물가지수.xlsx', engine='openpyxl')"
      ]
    },
    {
      "cell_type": "code",
      "execution_count": 69,
      "metadata": {
        "id": "53kSdusbnUeI"
      },
      "outputs": [],
      "source": [
        "Consumer_Price_Index = Consumer_Price_Index.iloc[1:, :]\n",
        "Consumer_Price_Index.set_index('시점', inplace=True)"
      ]
    },
    {
      "cell_type": "code",
      "execution_count": 70,
      "metadata": {
        "id": "CJRdtBTPnUeJ"
      },
      "outputs": [],
      "source": [
        "columns_name = Age_specific_per_household_average_household_balance_39_top10_pivot.columns\n",
        "columns_name = list(columns_name)\n",
        "Consumer_Price_Index.columns = columns_name"
      ]
    },
    {
      "cell_type": "code",
      "execution_count": 71,
      "metadata": {
        "id": "UnOswmf4pwZ2"
      },
      "outputs": [
        {
          "data": {
            "text/plain": [
              "list"
            ]
          },
          "execution_count": 71,
          "metadata": {},
          "output_type": "execute_result"
        }
      ],
      "source": [
        "type(columns_name)"
      ]
    },
    {
      "cell_type": "code",
      "execution_count": 72,
      "metadata": {
        "id": "jvIzYxajpUk6"
      },
      "outputs": [
        {
          "data": {
            "text/html": [
              "<div>\n",
              "<style scoped>\n",
              "    .dataframe tbody tr th:only-of-type {\n",
              "        vertical-align: middle;\n",
              "    }\n",
              "\n",
              "    .dataframe tbody tr th {\n",
              "        vertical-align: top;\n",
              "    }\n",
              "\n",
              "    .dataframe thead th {\n",
              "        text-align: right;\n",
              "    }\n",
              "</style>\n",
              "<table border=\"1\" class=\"dataframe\">\n",
              "  <thead>\n",
              "    <tr style=\"text-align: right;\">\n",
              "      <th></th>\n",
              "      <th>01.식료품 · 비주류음료</th>\n",
              "      <th>02.주류 · 담배</th>\n",
              "      <th>03.의류 · 신발</th>\n",
              "      <th>04.주거 · 수도 · 광열</th>\n",
              "      <th>05.가정용품 · 가사서비스</th>\n",
              "      <th>06.보건</th>\n",
              "      <th>07.교통</th>\n",
              "      <th>08.통신</th>\n",
              "      <th>09.오락 · 문화</th>\n",
              "      <th>10.교육</th>\n",
              "      <th>11.음식 · 숙박</th>\n",
              "      <th>12.기타상품 · 서비스</th>\n",
              "    </tr>\n",
              "    <tr>\n",
              "      <th>시점</th>\n",
              "      <th></th>\n",
              "      <th></th>\n",
              "      <th></th>\n",
              "      <th></th>\n",
              "      <th></th>\n",
              "      <th></th>\n",
              "      <th></th>\n",
              "      <th></th>\n",
              "      <th></th>\n",
              "      <th></th>\n",
              "      <th></th>\n",
              "      <th></th>\n",
              "    </tr>\n",
              "  </thead>\n",
              "  <tbody>\n",
              "    <tr>\n",
              "      <th>2019</th>\n",
              "      <td>95.762</td>\n",
              "      <td>99.682</td>\n",
              "      <td>99.27</td>\n",
              "      <td>99.488</td>\n",
              "      <td>99.967</td>\n",
              "      <td>98.516</td>\n",
              "      <td>101.867</td>\n",
              "      <td>102.112</td>\n",
              "      <td>101.023</td>\n",
              "      <td>102.178</td>\n",
              "      <td>99.061</td>\n",
              "      <td>98.082</td>\n",
              "    </tr>\n",
              "    <tr>\n",
              "      <th>2020</th>\n",
              "      <td>100.000</td>\n",
              "      <td>100.000</td>\n",
              "      <td>100.00</td>\n",
              "      <td>100.000</td>\n",
              "      <td>100.000</td>\n",
              "      <td>100.000</td>\n",
              "      <td>100.000</td>\n",
              "      <td>100.000</td>\n",
              "      <td>100.000</td>\n",
              "      <td>100.000</td>\n",
              "      <td>100.000</td>\n",
              "      <td>100.000</td>\n",
              "    </tr>\n",
              "    <tr>\n",
              "      <th>2021</th>\n",
              "      <td>105.890</td>\n",
              "      <td>100.430</td>\n",
              "      <td>100.56</td>\n",
              "      <td>101.630</td>\n",
              "      <td>101.870</td>\n",
              "      <td>99.920</td>\n",
              "      <td>106.330</td>\n",
              "      <td>99.100</td>\n",
              "      <td>100.430</td>\n",
              "      <td>100.870</td>\n",
              "      <td>102.730</td>\n",
              "      <td>102.000</td>\n",
              "    </tr>\n",
              "    <tr>\n",
              "      <th>2022</th>\n",
              "      <td>112.150</td>\n",
              "      <td>102.620</td>\n",
              "      <td>103.71</td>\n",
              "      <td>107.190</td>\n",
              "      <td>106.780</td>\n",
              "      <td>100.760</td>\n",
              "      <td>116.680</td>\n",
              "      <td>100.020</td>\n",
              "      <td>103.290</td>\n",
              "      <td>102.230</td>\n",
              "      <td>110.530</td>\n",
              "      <td>108.270</td>\n",
              "    </tr>\n",
              "  </tbody>\n",
              "</table>\n",
              "</div>"
            ],
            "text/plain": [
              "      01.식료품 · 비주류음료  02.주류 · 담배  03.의류 · 신발  04.주거 · 수도 · 광열  \\\n",
              "시점                                                              \n",
              "2019          95.762      99.682       99.27           99.488   \n",
              "2020         100.000     100.000      100.00          100.000   \n",
              "2021         105.890     100.430      100.56          101.630   \n",
              "2022         112.150     102.620      103.71          107.190   \n",
              "\n",
              "      05.가정용품 · 가사서비스    06.보건    07.교통    08.통신  09.오락 · 문화    10.교육  \\\n",
              "시점                                                                      \n",
              "2019           99.967   98.516  101.867  102.112     101.023  102.178   \n",
              "2020          100.000  100.000  100.000  100.000     100.000  100.000   \n",
              "2021          101.870   99.920  106.330   99.100     100.430  100.870   \n",
              "2022          106.780  100.760  116.680  100.020     103.290  102.230   \n",
              "\n",
              "      11.음식 · 숙박  12.기타상품 · 서비스  \n",
              "시점                               \n",
              "2019      99.061         98.082  \n",
              "2020     100.000        100.000  \n",
              "2021     102.730        102.000  \n",
              "2022     110.530        108.270  "
            ]
          },
          "execution_count": 72,
          "metadata": {},
          "output_type": "execute_result"
        }
      ],
      "source": [
        "Consumer_Price_Index"
      ]
    },
    {
      "cell_type": "code",
      "execution_count": 73,
      "metadata": {
        "id": "SooKko91nUeJ"
      },
      "outputs": [
        {
          "data": {
            "text/html": [
              "<div>\n",
              "<style scoped>\n",
              "    .dataframe tbody tr th:only-of-type {\n",
              "        vertical-align: middle;\n",
              "    }\n",
              "\n",
              "    .dataframe tbody tr th {\n",
              "        vertical-align: top;\n",
              "    }\n",
              "\n",
              "    .dataframe thead th {\n",
              "        text-align: right;\n",
              "    }\n",
              "</style>\n",
              "<table border=\"1\" class=\"dataframe\">\n",
              "  <thead>\n",
              "    <tr style=\"text-align: right;\">\n",
              "      <th>가계수지항목별</th>\n",
              "      <th>01.식료품 · 비주류음료</th>\n",
              "      <th>02.주류 · 담배</th>\n",
              "      <th>03.의류 · 신발</th>\n",
              "      <th>04.주거 · 수도 · 광열</th>\n",
              "      <th>05.가정용품 · 가사서비스</th>\n",
              "      <th>06.보건</th>\n",
              "      <th>07.교통</th>\n",
              "      <th>08.통신</th>\n",
              "      <th>09.오락 · 문화</th>\n",
              "      <th>10.교육</th>\n",
              "      <th>11.음식 · 숙박</th>\n",
              "      <th>12.기타상품 · 서비스</th>\n",
              "    </tr>\n",
              "    <tr>\n",
              "      <th>시점</th>\n",
              "      <th></th>\n",
              "      <th></th>\n",
              "      <th></th>\n",
              "      <th></th>\n",
              "      <th></th>\n",
              "      <th></th>\n",
              "      <th></th>\n",
              "      <th></th>\n",
              "      <th></th>\n",
              "      <th></th>\n",
              "      <th></th>\n",
              "      <th></th>\n",
              "    </tr>\n",
              "  </thead>\n",
              "  <tbody>\n",
              "    <tr>\n",
              "      <th>2020</th>\n",
              "      <td>10.657684</td>\n",
              "      <td>6.985899</td>\n",
              "      <td>-10.598520</td>\n",
              "      <td>5.451731</td>\n",
              "      <td>12.879015</td>\n",
              "      <td>3.701718</td>\n",
              "      <td>5.847171</td>\n",
              "      <td>3.995792</td>\n",
              "      <td>-10.680097</td>\n",
              "      <td>-13.755688</td>\n",
              "      <td>-7.631349</td>\n",
              "      <td>-6.676163</td>\n",
              "    </tr>\n",
              "    <tr>\n",
              "      <th>2021</th>\n",
              "      <td>-5.077400</td>\n",
              "      <td>1.561264</td>\n",
              "      <td>10.459868</td>\n",
              "      <td>-3.519399</td>\n",
              "      <td>-3.957196</td>\n",
              "      <td>13.013736</td>\n",
              "      <td>-12.877820</td>\n",
              "      <td>8.187592</td>\n",
              "      <td>2.443338</td>\n",
              "      <td>16.087305</td>\n",
              "      <td>3.839835</td>\n",
              "      <td>1.750766</td>\n",
              "    </tr>\n",
              "    <tr>\n",
              "      <th>2022</th>\n",
              "      <td>-9.548642</td>\n",
              "      <td>-3.884517</td>\n",
              "      <td>1.805579</td>\n",
              "      <td>-2.538269</td>\n",
              "      <td>-12.891203</td>\n",
              "      <td>-4.569120</td>\n",
              "      <td>4.659311</td>\n",
              "      <td>0.561656</td>\n",
              "      <td>12.948275</td>\n",
              "      <td>15.075647</td>\n",
              "      <td>6.987643</td>\n",
              "      <td>-7.074117</td>\n",
              "    </tr>\n",
              "  </tbody>\n",
              "</table>\n",
              "</div>"
            ],
            "text/plain": [
              "가계수지항목별  01.식료품 · 비주류음료  02.주류 · 담배  03.의류 · 신발  04.주거 · 수도 · 광열  \\\n",
              "시점                                                                 \n",
              "2020          10.657684    6.985899  -10.598520         5.451731   \n",
              "2021          -5.077400    1.561264   10.459868        -3.519399   \n",
              "2022          -9.548642   -3.884517    1.805579        -2.538269   \n",
              "\n",
              "가계수지항목별  05.가정용품 · 가사서비스      06.보건      07.교통     08.통신  09.오락 · 문화  \\\n",
              "시점                                                                     \n",
              "2020           12.879015   3.701718   5.847171  3.995792  -10.680097   \n",
              "2021           -3.957196  13.013736 -12.877820  8.187592    2.443338   \n",
              "2022          -12.891203  -4.569120   4.659311  0.561656   12.948275   \n",
              "\n",
              "가계수지항목별      10.교육  11.음식 · 숙박  12.기타상품 · 서비스  \n",
              "시점                                             \n",
              "2020    -13.755688   -7.631349      -6.676163  \n",
              "2021     16.087305    3.839835       1.750766  \n",
              "2022     15.075647    6.987643      -7.074117  "
            ]
          },
          "execution_count": 73,
          "metadata": {},
          "output_type": "execute_result"
        }
      ],
      "source": [
        "# 물가 조정된 가계 지출 데이터 계산\n",
        "# 각 연도별로 소비자 물가지수를 사용하여 가계 지출 데이터를 물가로 조정\n",
        "price_adjusted_expenses = Age_specific_per_household_average_household_balance_39_top10_pivot.copy()\n",
        "for year in price_adjusted_expenses.index:\n",
        "    price_index = Consumer_Price_Index.loc[year]\n",
        "    price_adjusted_expenses.loc[year] = price_adjusted_expenses.loc[year] / price_index * 100\n",
        "\n",
        "# 연도별 증감률 계산\n",
        "growth_rate = price_adjusted_expenses.pct_change() * 100\n",
        "\n",
        "# 결과 출력\n",
        "growth_rate.dropna(inplace=True)  # 첫 번째 행(증감률을 계산할 수 없는 행) 제거\n",
        "growth_rate"
      ]
    },
    {
      "cell_type": "code",
      "execution_count": 74,
      "metadata": {
        "id": "XNqMDRfKnUeK"
      },
      "outputs": [
        {
          "data": {
            "text/html": [
              "<div>\n",
              "<style scoped>\n",
              "    .dataframe tbody tr th:only-of-type {\n",
              "        vertical-align: middle;\n",
              "    }\n",
              "\n",
              "    .dataframe tbody tr th {\n",
              "        vertical-align: top;\n",
              "    }\n",
              "\n",
              "    .dataframe thead th {\n",
              "        text-align: right;\n",
              "    }\n",
              "</style>\n",
              "<table border=\"1\" class=\"dataframe\">\n",
              "  <thead>\n",
              "    <tr style=\"text-align: right;\">\n",
              "      <th>가계수지항목별</th>\n",
              "      <th>01.식료품 · 비주류음료</th>\n",
              "      <th>02.주류 · 담배</th>\n",
              "      <th>03.의류 · 신발</th>\n",
              "      <th>04.주거 · 수도 · 광열</th>\n",
              "      <th>05.가정용품 · 가사서비스</th>\n",
              "      <th>06.보건</th>\n",
              "      <th>07.교통</th>\n",
              "      <th>08.통신</th>\n",
              "      <th>09.오락 · 문화</th>\n",
              "      <th>10.교육</th>\n",
              "      <th>11.음식 · 숙박</th>\n",
              "      <th>12.기타상품 · 서비스</th>\n",
              "    </tr>\n",
              "    <tr>\n",
              "      <th>시점</th>\n",
              "      <th></th>\n",
              "      <th></th>\n",
              "      <th></th>\n",
              "      <th></th>\n",
              "      <th></th>\n",
              "      <th></th>\n",
              "      <th></th>\n",
              "      <th></th>\n",
              "      <th></th>\n",
              "      <th></th>\n",
              "      <th></th>\n",
              "      <th></th>\n",
              "    </tr>\n",
              "  </thead>\n",
              "  <tbody>\n",
              "    <tr>\n",
              "      <th>2019</th>\n",
              "      <td>0.000000</td>\n",
              "      <td>0.000000</td>\n",
              "      <td>0.000000</td>\n",
              "      <td>0.000000</td>\n",
              "      <td>0.000000</td>\n",
              "      <td>0.000000</td>\n",
              "      <td>0.000000</td>\n",
              "      <td>0.000000</td>\n",
              "      <td>0.000000</td>\n",
              "      <td>0.000000</td>\n",
              "      <td>0.000000</td>\n",
              "      <td>0.000000</td>\n",
              "    </tr>\n",
              "    <tr>\n",
              "      <th>2020</th>\n",
              "      <td>10.657684</td>\n",
              "      <td>6.985899</td>\n",
              "      <td>-10.598520</td>\n",
              "      <td>5.451731</td>\n",
              "      <td>12.879015</td>\n",
              "      <td>3.701718</td>\n",
              "      <td>5.847171</td>\n",
              "      <td>3.995792</td>\n",
              "      <td>-10.680097</td>\n",
              "      <td>-13.755688</td>\n",
              "      <td>-7.631349</td>\n",
              "      <td>-6.676163</td>\n",
              "    </tr>\n",
              "    <tr>\n",
              "      <th>2021</th>\n",
              "      <td>5.039151</td>\n",
              "      <td>8.656232</td>\n",
              "      <td>-1.247243</td>\n",
              "      <td>1.740464</td>\n",
              "      <td>8.412171</td>\n",
              "      <td>17.197187</td>\n",
              "      <td>-7.783638</td>\n",
              "      <td>12.510544</td>\n",
              "      <td>-8.497710</td>\n",
              "      <td>0.118697</td>\n",
              "      <td>-4.084546</td>\n",
              "      <td>-5.042281</td>\n",
              "    </tr>\n",
              "    <tr>\n",
              "      <th>2022</th>\n",
              "      <td>-4.990661</td>\n",
              "      <td>4.435462</td>\n",
              "      <td>0.535816</td>\n",
              "      <td>-0.841983</td>\n",
              "      <td>-5.563462</td>\n",
              "      <td>11.842307</td>\n",
              "      <td>-3.486991</td>\n",
              "      <td>13.142466</td>\n",
              "      <td>3.350258</td>\n",
              "      <td>15.212239</td>\n",
              "      <td>2.617684</td>\n",
              "      <td>-11.759701</td>\n",
              "    </tr>\n",
              "  </tbody>\n",
              "</table>\n",
              "</div>"
            ],
            "text/plain": [
              "가계수지항목별  01.식료품 · 비주류음료  02.주류 · 담배  03.의류 · 신발  04.주거 · 수도 · 광열  \\\n",
              "시점                                                                 \n",
              "2019           0.000000    0.000000    0.000000         0.000000   \n",
              "2020          10.657684    6.985899  -10.598520         5.451731   \n",
              "2021           5.039151    8.656232   -1.247243         1.740464   \n",
              "2022          -4.990661    4.435462    0.535816        -0.841983   \n",
              "\n",
              "가계수지항목별  05.가정용품 · 가사서비스      06.보건     07.교통      08.통신  09.오락 · 문화  \\\n",
              "시점                                                                     \n",
              "2019            0.000000   0.000000  0.000000   0.000000    0.000000   \n",
              "2020           12.879015   3.701718  5.847171   3.995792  -10.680097   \n",
              "2021            8.412171  17.197187 -7.783638  12.510544   -8.497710   \n",
              "2022           -5.563462  11.842307 -3.486991  13.142466    3.350258   \n",
              "\n",
              "가계수지항목별      10.교육  11.음식 · 숙박  12.기타상품 · 서비스  \n",
              "시점                                             \n",
              "2019      0.000000    0.000000       0.000000  \n",
              "2020    -13.755688   -7.631349      -6.676163  \n",
              "2021      0.118697   -4.084546      -5.042281  \n",
              "2022     15.212239    2.617684     -11.759701  "
            ]
          },
          "execution_count": 74,
          "metadata": {},
          "output_type": "execute_result"
        }
      ],
      "source": [
        "# 물가 조정된 가계 지출 데이터 계산\n",
        "price_adjusted_expenses = Age_specific_per_household_average_household_balance_39_top10_pivot.copy()\n",
        "for year in price_adjusted_expenses.index:\n",
        "    price_index = Consumer_Price_Index.loc[year]\n",
        "    price_adjusted_expenses.loc[year] = price_adjusted_expenses.loc[year] / price_index * 100\n",
        "\n",
        "# 2019년 대비 증감률 계산\n",
        "base_year = 2019\n",
        "growth_rate_since_2019 = (price_adjusted_expenses.loc[base_year:] / price_adjusted_expenses.loc[base_year] - 1) * 100\n",
        "\n",
        "# 결과 출력\n",
        "growth_rate_since_2019.dropna(inplace=True)  # 필요한 경우 NaN 값 제거\n",
        "growth_rate_since_2019"
      ]
    },
    {
      "cell_type": "markdown",
      "metadata": {
        "id": "pF7Bymhjvnwi"
      },
      "source": [
        "1. **인테리어 관련 품목의 변화**:\n",
        "   - '주거, 수도, 광열': 2020년(5.45% 증가), 2021년(1.74% 증가), 2022년(0.84% 감소)\n",
        "   - '가정용품 및 가사서비스': 2020년(12.88% 증가), 2021년(8.41% 증가), 2022년(5.56% 감소)\n",
        "   - '기타 상품 및 서비스': 2020년(6.68% 감소), 2021년(5.04% 감소), 2022년(11.76% 감소)\n",
        "\n",
        "2. **나머지 품목들의 변화**:\n",
        "   - '식료품 및 비주류음료': 2020년(10.66% 증가), 2021년(5.04% 증가), 2022년(4.99% 감소)\n",
        "   - '주류 및 담배': 2020년(6.99% 증가), 2021년(8.66% 증가), 2022년(4.44% 증가)\n",
        "   - '의류 및 신발': 2020년(10.60% 감소), 2021년(1.25% 감소), 2022년(0.54% 증가)\n",
        "   - '보건': 2020년(3.70% 증가), 2021년(17.20% 증가), 2022년(11.84% 증가)\n",
        "   - '교통': 2020년(5.85% 증가), 2021년(7.78% 감소), 2022년(3.49% 감소)\n",
        "   - '통신': 2020년(3.99% 증가), 2021년(12.51% 증가), 2022년(13.14% 증가)\n",
        "   - '오락 및 문화': 2020년(10.68% 감소), 2021년(8.50% 감소), 2022년(3.35% 증가)\n",
        "   - '교육': 2020년(13.76% 감소), 2021년(0.12% 증가), 2022년(15.21% 증가)\n",
        "   - '음식 및 숙박': 2020년(7.63% 감소), 2021년(4.08% 감소), 2022년(2.62% 증가)\n",
        "\n",
        "3. **그룹 간 차이의 인사이트**:\n",
        "   - 인테리어 관련 품목들은 팬데믹 기간 동안 초기에 증가한 후 점차 감소하는 추세를 보였습니다. 이는 집에 머무는 시간이 증가하면서 초기에는 주거 공간에 대한\n",
        "\n",
        " 투자가 증가했으나, 시간이 지나면서 감소한 것으로 해석됩니다.\n",
        "   - 나머지 품목들은 각각 다양한 추세를 보였습니다. 식료품 및 비주류음료는 초기에 증가한 후 감소했고, 의류 및 신발은 시간이 지남에 따라 회복세를 보였습니다. 보건과 통신은 지속적으로 증가하는 경향을 보였습니다.\n",
        "\n",
        "이러한 분석을 통해 인테리어 업체는 현재 시장의 소비 트렌드와 변화하는 고객의 필요를 이해할 수 있으며, 이를 바탕으로 보다 효과적인 마케팅 전략과 제품 개발을 할 수 있을 것입니다."
      ]
    },
    {
      "cell_type": "markdown",
      "metadata": {
        "id": "rnXxdJSXwgwz"
      },
      "source": [
        "1. **인테리어 관련 품목의 증감률**:\n",
        "   - '주거, 수도, 광열': 2020년(5.45% 증가), 2021년(1.74% 증가), 2022년(0.84% 감소)\n",
        "   - '가정용품 및 가사서비스': 2020년(12.88% 증가), 2021년(8.41% 증가), 2022년(5.56% 감소)\n",
        "   - '기타 상품 및 서비스': 2020년(6.68% 감소), 2021년(5.04% 감소), 2022년(11.76% 감소)\n",
        "\n",
        "2. **인테리어 비관련 품목의 증감률**:\n",
        "   - '식료품 및 비주류음료': 2020년(10.66% 증가), 2021년(5.04% 증가), 2022년(4.99% 감소)\n",
        "   - '주류 및 담배': 2020년(6.99% 증가), 2021년(8.66% 증가), 2022년(4.44% 증가)\n",
        "   - '의류 및 신발': 2020년(10.60% 감소), 2021년(1.25% 감소), 2022년(0.54% 증가)\n",
        "\n",
        "3. **분석 및 인사이트**:\n",
        "   - **인테리어 관련 품목**:\n",
        "     - 팬데믹 기간 동안 '가정용품 및 가사서비스' 지출이 크게 증가했으며, 이는 집에서 보내는 시간이 증가함에 따라 가정 내 환경을 개선하려는 수요가 반영된 결과로 해석됩니다.\n",
        "     - '주거, 수도, 광열' 분야도 증가세를 보였으나, '가정용품 및 가사서비스'보다는 상대적으로 낮은 증가율을 보였습니다. 이는 주거 관련 기본적인 지출이 다소 안정적인 경향을 보임을 나타냅니다.\n",
        "     - '기타 상품 및 서비스'는 감소 추세를 보였는데, 이는 팬데믹 기간 동안 필수적이지 않은 서비스나 상품에 대한 지출이 줄었음을 의미할 수 있습니다.\n",
        "\n",
        "   - **인테리어 비관련 품목**:\n",
        "     - '식료품 및 비주류음료'와 '주류 및 담배'는 팬데믹 기간 동안 증가세를 보였으며, 이는 집에서의 식사 증가와 함께 집에서 보내는 시간이 많아진 것과 관련이 있을 수 있습니다.\n",
        "     - '의류 및 신발'은 감소한 후 점차 회복세를 보였는데, 이는 팬데믹 초기에 외출 감소로 인한 영향과 점차적인 일상 회복에 따른 소비 회복을 나타냅니다.\n",
        "\n",
        "이러한 분석을 통해 인테리어 관련 업체는 팬데믹 기간 동안 가정용품과 관련 서비스에 대한 수요 증가를 인지하고, 이에 맞춘 제품 개발 및 마케팅 전략을 수립할 수 있습니다. 반면, 기타 상품 및 서비스에 대한 감소 추세는 시장 전략을 재조정할 필요성을 시사합니다."
      ]
    },
    {
      "cell_type": "code",
      "execution_count": 75,
      "metadata": {
        "id": "JgJ-Bdr0wgNC"
      },
      "outputs": [
        {
          "data": {
            "image/png": "[encoded data removed]",
            "text/plain": [
              "<Figure size 1400x800 with 1 Axes>"
            ]
          },
          "metadata": {},
          "output_type": "display_data"
        }
      ],
      "source": [
        "# 인테리어 관련 품목과 비관련 품목의 증감률 데이터 준비\n",
        "interior_related = growth_rate_since_2019[['04.주거 · 수도 · 광열', '05.가정용품 · 가사서비스', '12.기타상품 · 서비스']]\n",
        "non_interior_related = growth_rate_since_2019[['01.식료품 · 비주류음료', '02.주류 · 담배', '03.의류 · 신발', '06.보건', '07.교통', '08.통신', '09.오락 · 문화', '10.교육', '11.음식 · 숙박']]\n",
        "\n",
        "# 시각화\n",
        "plt.figure(figsize=(14, 8))\n",
        "\n",
        "# 인테리어 관련 품목 시각화\n",
        "for column in interior_related.columns:\n",
        "    plt.plot(interior_related.index, interior_related[column], marker='o', label=column)\n",
        "\n",
        "# 비관련 품목 시각화\n",
        "for column in non_interior_related.columns:\n",
        "    plt.plot(non_interior_related.index, non_interior_related[column], marker='x', linestyle='--', label=column)\n",
        "\n",
        "plt.title('인테리어 관련 품목 및 비관련 품목의 증감률 비교 (2019년 대비)')\n",
        "plt.xlabel('연도')\n",
        "plt.ylabel('증감률 (%)')\n",
        "plt.legend(loc='upper left')\n",
        "plt.grid(True)\n",
        "plt.show()\n"
      ]
    },
    {
      "cell_type": "markdown",
      "metadata": {
        "id": "Jw-vxadpxywR"
      },
      "source": [
        "- 펜데믹 이후 인테리어 관련 품목 소비 감소"
      ]
    },
    {
      "cell_type": "markdown",
      "metadata": {
        "id": "HTjaQWdsnUeK"
      },
      "source": [
        "---"
      ]
    }
  ],
  "metadata": {
    "colab": {
      "collapsed_sections": [
        "rRxJoJCteHnL",
        "XNKlFUJSZfrH"
      ],
      "private_outputs": true,
      "provenance": []
    },
    "kernelspec": {
      "display_name": "Python 3",
      "name": "python3"
    },
    "language_info": {
      "codemirror_mode": {
        "name": "ipython",
        "version": 3
      },
      "file_extension": ".py",
      "mimetype": "text/x-python",
      "name": "python",
      "nbconvert_exporter": "python",
      "pygments_lexer": "ipython3",
      "version": "3.9.18"
    },
    "vp": {
      "vp_note_display": false,
      "vp_note_width": 0,
      "vp_position": {
        "width": 278
      },
      "vp_section_display": false
    }
  },
  "nbformat": 4,
  "nbformat_minor": 0
}
