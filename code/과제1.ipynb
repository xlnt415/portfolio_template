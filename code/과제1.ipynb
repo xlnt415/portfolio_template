{
  "nbformat": 4,
  "nbformat_minor": 0,
  "metadata": {
    "colab": {
      "private_outputs": true,
      "provenance": [],
      "mount_file_id": "https://github.com/xlnt415/xlnt_portfolio.github.io/blob/main/code/%EA%B3%BC%EC%A0%9C1.ipynb",
      "authorship_tag": "ABX9TyOtyn3HAkkSPy3Zw7JcwkVQ",
      "include_colab_link": true
    },
    "kernelspec": {
      "name": "python3",
      "display_name": "Python 3"
    },
    "language_info": {
      "name": "python"
    },
    "vp": {
      "vp_note_display": false,
      "vp_note_width": 0,
      "vp_section_display": true,
      "vp_position": {
        "width": 278
      }
    }
  },
  "cells": [
    {
      "cell_type": "markdown",
      "metadata": {
        "id": "view-in-github",
        "colab_type": "text"
      },
      "source": [
        "<a href=\"https://colab.research.google.com/github/xlnt415/xlnt_portfolio.github.io/blob/main/code/%EA%B3%BC%EC%A0%9C1.ipynb\" target=\"_parent\"><img src=\"https://colab.research.google.com/assets/colab-badge.svg\" alt=\"Open In Colab\"/></a>"
      ]
    },
    {
      "cell_type": "code",
      "execution_count": null,
      "metadata": {
        "id": "O5yAuYNM1XS_"
      },
      "outputs": [],
      "source": [
        "import pandas as pd\n",
        "import matplotlib.pyplot as plt\n",
        "import numpy as np\n",
        "import scipy.stats as stats"
      ]
    },
    {
      "cell_type": "code",
      "source": [
        "from sklearn.impute import KNNImputer\n",
        "\n",
        "from scipy.stats import shapiro, levene, mannwhitneyu"
      ],
      "metadata": {
        "id": "BtWFyZgaRIWP"
      },
      "execution_count": null,
      "outputs": []
    },
    {
      "cell_type": "code",
      "source": [
        "fb_ads = pd.read_excel('/content/drive/MyDrive/취업준비/MMM/fb_ad/ad_campaign_data_modified.xlsx')"
      ],
      "metadata": {
        "id": "DtxrBnro13y6"
      },
      "execution_count": null,
      "outputs": []
    },
    {
      "cell_type": "code",
      "source": [
        "fb_ads.info()"
      ],
      "metadata": {
        "id": "IG22f1ApYOuJ"
      },
      "execution_count": null,
      "outputs": []
    },
    {
      "cell_type": "code",
      "source": [
        "fb_ads.Campaign.value_counts()"
      ],
      "metadata": {
        "id": "iUV5mVwlClGt"
      },
      "execution_count": null,
      "outputs": []
    },
    {
      "cell_type": "markdown",
      "source": [
        "## 전처리"
      ],
      "metadata": {
        "id": "Tu3sD2EzXMyW"
      }
    },
    {
      "cell_type": "code",
      "source": [
        "fb_ads[\"Clicks\"].replace(0, np.nan, inplace=True)\n",
        "\n",
        "imputer = KNNImputer(n_neighbors=2)\n",
        "fb_ads_imputed = pd.DataFrame(imputer.fit_transform(fb_ads.drop(columns=[\"ad_id\", \"Campaign\"])))"
      ],
      "metadata": {
        "id": "gTCiyKUQXPmt"
      },
      "execution_count": null,
      "outputs": []
    },
    {
      "cell_type": "code",
      "source": [
        "fb_ads.isnull().sum()"
      ],
      "metadata": {
        "id": "mvm0m4AaXmvs"
      },
      "execution_count": null,
      "outputs": []
    },
    {
      "cell_type": "code",
      "source": [
        "sns.histplot(data=fb_ads, x=\"Spent\", bins=50)"
      ],
      "metadata": {
        "id": "f2BhwpUrYA9a"
      },
      "execution_count": null,
      "outputs": []
    },
    {
      "cell_type": "code",
      "source": [
        "# Shapiro-Wilk 정규성 검정\n",
        "columns_to_test = ['Impressions', 'Clicks', 'Spent', 'Conversion', 'Sales']\n",
        "shapiro_results = {column: shapiro(fb_ads[column]) for column in columns_to_test}"
      ],
      "metadata": {
        "id": "9MrQdMuhbCdZ"
      },
      "execution_count": null,
      "outputs": []
    },
    {
      "cell_type": "code",
      "source": [
        "# 정규성 검정 결과를 저장할 딕셔너리\n",
        "normality_test_results = {}\n",
        "\n",
        "# 변수들에 대해 Shapiro-Wilk 정규성 검정 수행\n",
        "variables = ['Impressions', 'Clicks', 'Spent', 'Conversion', 'Sales']\n",
        "for var in variables:\n",
        "    stat, p = shapiro(fb_ads[var])\n",
        "    normality_test_results[var] = {'Statistic': stat, 'p-value': p}"
      ],
      "metadata": {
        "id": "T3a590qca1m1"
      },
      "execution_count": null,
      "outputs": []
    },
    {
      "cell_type": "code",
      "source": [
        "# 정규성 검정 결과 시각화\n",
        "plt.figure(figsize=(10, 5))\n",
        "plt.suptitle('Shapiro-Wilk Normality Test Results', fontsize=16)\n",
        "for i, (var, result) in enumerate(normality_test_results.items()):\n",
        "    plt.subplot(2, 3, i+1)\n",
        "    plt.hist(fb_ads[var], bins=20, color='skyblue', edgecolor='black')\n",
        "    plt.title(f'{var}\\np-value: {result[\"p-value\"]:.4f}')\n",
        "\n",
        "plt.tight_layout(rect=[0, 0.03, 1, 0.95])"
      ],
      "metadata": {
        "id": "nliTyJZJcJrz"
      },
      "execution_count": null,
      "outputs": []
    },
    {
      "cell_type": "code",
      "source": [
        "# 상관분석 수행\n",
        "correlation_matrix = fb_ads[variables].corr()"
      ],
      "metadata": {
        "id": "32ibEDGLcYZs"
      },
      "execution_count": null,
      "outputs": []
    },
    {
      "cell_type": "code",
      "source": [
        "# 상관분석 결과 시각화\n",
        "plt.figure(figsize=(8, 6))\n",
        "sns.heatmap(correlation_matrix, annot=True, cmap='coolwarm', fmt=\".2f\")\n",
        "plt.title('Correlation Matrix')\n",
        "\n",
        "plt.show(), normality_test_results"
      ],
      "metadata": {
        "id": "Jzsz-w2_cZG4"
      },
      "execution_count": null,
      "outputs": []
    },
    {
      "cell_type": "markdown",
      "source": [
        "## 광고 지표"
      ],
      "metadata": {
        "id": "5R4hJEK6UFlm"
      }
    },
    {
      "cell_type": "markdown",
      "source": [
        "### 캠페인 전후 비교"
      ],
      "metadata": {
        "id": "2VUklOCF8Fg4"
      }
    },
    {
      "cell_type": "code",
      "source": [
        "before_promotion = fb_ads[fb_ads['Campaign'] == 'before']\n",
        "coupon_promotion = fb_ads[fb_ads['Campaign'] == 'coupon']\n",
        "no_coupon_promotion = fb_ads[fb_ads['Campaign'] == 'no_coupon']"
      ],
      "metadata": {
        "id": "LNNMA2d48cRE"
      },
      "execution_count": null,
      "outputs": []
    },
    {
      "cell_type": "code",
      "source": [
        "def calculate_metrics(df):\n",
        "    metrics = {\n",
        "        'CTR': (df['Clicks'] / df['Impressions']).mean() * 100,\n",
        "        'Conversion Rate': (df['Conversion'] / df['Clicks']).mean() * 100,\n",
        "        'ROAS': (df['Sales'] / df['Spent']).mean(),\n",
        "        'CPM': (df['Spent'] / (df['Impressions'] / 1000)).mean()\n",
        "    }\n",
        "    return metrics"
      ],
      "metadata": {
        "id": "VOv-Aie6C9ci"
      },
      "execution_count": null,
      "outputs": []
    },
    {
      "cell_type": "code",
      "source": [
        "# Combining 'coupon' and 'no_coupon' data as 'after_promotion'\n",
        "after_promotion = pd.concat([coupon_promotion, no_coupon_promotion])\n",
        "\n",
        "# Calculating metrics for 'after_promotion'\n",
        "metrics_before = calculate_metrics(before_promotion)\n",
        "metrics_after = calculate_metrics(after_promotion)\n",
        "\n",
        "# Preparing a DataFrame to compare 'before' and 'after' metrics\n",
        "comparison_metrics = pd.DataFrame({'Before Promotion': metrics_before, 'After Promotion': metrics_after})\n",
        "\n",
        "comparison_metrics"
      ],
      "metadata": {
        "id": "NLxkDishCdEi"
      },
      "execution_count": null,
      "outputs": []
    },
    {
      "cell_type": "code",
      "source": [
        "bs = before_promotion.Sales.sum()\n",
        "af = after_promotion.Sales.sum()\n",
        "print({'Before Sales': bs, 'After Sales': af})"
      ],
      "metadata": {
        "id": "6MFaxpIQKtRs"
      },
      "execution_count": null,
      "outputs": []
    },
    {
      "cell_type": "code",
      "source": [
        "# 막대 그래프 생성\n",
        "labels = ['Before Promotion', 'After Promotion']\n",
        "values = [bs, af]\n",
        "\n",
        "plt.bar(labels, values, color=['blue', 'orange'])\n",
        "plt.xlabel('Before Promotion/After Promotion')\n",
        "plt.ylabel('Total Sales')\n",
        "plt.title('Comparison of Total Sales Before and After Promotion')\n",
        "\n",
        "for i, v in enumerate(values):\n",
        "    plt.text(i, v, str(v), ha='center', va='bottom', fontsize=12)\n",
        "# 그래프 표시\n",
        "plt.show()"
      ],
      "metadata": {
        "id": "WH-MwJ1LLl8m"
      },
      "execution_count": null,
      "outputs": []
    },
    {
      "cell_type": "code",
      "source": [
        "# Re-defining the metrics and their values for plotting\n",
        "metrics = ['CTR', 'Conversion Rate', 'ROAS', 'CPM']\n",
        "metrics_before_values = [comparison_metrics.iloc[0,0], comparison_metrics.iloc[1,0], comparison_metrics.iloc[2,0], comparison_metrics.iloc[3,0]]  # Values from the revised calculation\n",
        "metrics_after_values = [comparison_metrics.iloc[0,1], comparison_metrics.iloc[1,1], comparison_metrics.iloc[2,1], comparison_metrics.iloc[3,1]]  # Values from the revised calculation\n",
        "\n",
        "# Creating subplots\n",
        "fig, axes = plt.subplots(nrows=1, ncols=4, figsize=(18, 5))\n",
        "\n",
        "# Plotting each metric\n",
        "for i, metric in enumerate(metrics):\n",
        "    axes[i].bar('Before', metrics_before_values[i], color='blue')\n",
        "    axes[i].bar('After', metrics_after_values[i], color='orange')\n",
        "    axes[i].set_title(metric)\n",
        "    axes[i].set_ylabel('Value')\n",
        "\n",
        "# Enhancing layout\n",
        "plt.tight_layout()\n",
        "\n",
        "plt.show();"
      ],
      "metadata": {
        "id": "IctqyPjQ2qQy"
      },
      "execution_count": null,
      "outputs": []
    },
    {
      "cell_type": "markdown",
      "source": [
        "### 쿠폰 발급 유무"
      ],
      "metadata": {
        "id": "-p78z9iuMYF-"
      }
    },
    {
      "cell_type": "code",
      "source": [
        "cp = coupon_promotion.Sales.sum()\n",
        "nc = no_coupon_promotion.Sales.sum()\n",
        "print({'coupon_promotion': cp, 'no_coupon_promotion': nc})"
      ],
      "metadata": {
        "id": "fArwRtiUM8UQ"
      },
      "execution_count": null,
      "outputs": []
    },
    {
      "cell_type": "code",
      "source": [
        "# 막대 그래프 생성\n",
        "labels = ['coupon', 'no_coupon']\n",
        "values = [cp, nc]\n",
        "\n",
        "plt.bar(labels, values, color=['green', 'yellow'])\n",
        "plt.xlabel('Before Promotion/After Promotion')\n",
        "plt.ylabel('Total Sales')\n",
        "plt.title('Comparison of Total Sales Before and After Promotion')\n",
        "\n",
        "for i, v in enumerate(values):\n",
        "    plt.text(i, v, str(v), ha='center', va='bottom', fontsize=12)\n",
        "# 그래프 표시\n",
        "plt.show()"
      ],
      "metadata": {
        "id": "BgiVThPrQgX8"
      },
      "execution_count": null,
      "outputs": []
    },
    {
      "cell_type": "code",
      "source": [
        "# Calculating metrics for 'after_promotion'\n",
        "metrics_coupon = calculate_metrics(coupon_promotion)\n",
        "metrics_no = calculate_metrics(no_coupon_promotion)\n",
        "# Preparing a DataFrame to compare 'before' and 'after' metrics\n",
        "coupon_metrics = pd.DataFrame({'Coupon': metrics_coupon, 'No Coupon': metrics_no})\n",
        "\n",
        "coupon_metrics"
      ],
      "metadata": {
        "id": "wy6DOmfp-pHC"
      },
      "execution_count": null,
      "outputs": []
    },
    {
      "cell_type": "code",
      "source": [
        "# Re-defining the metrics and their values for plotting\n",
        "metrics = ['CTR', 'Conversion Rate', 'ROAS', 'CPM']\n",
        "metrics_before_values = [comparison_metrics.iloc[0,0], comparison_metrics.iloc[1,0], comparison_metrics.iloc[2,0], comparison_metrics.iloc[3,0]]  # Values from the revised calculation\n",
        "metrics_after_values = [comparison_metrics.iloc[0,1], comparison_metrics.iloc[1,1], comparison_metrics.iloc[2,1], comparison_metrics.iloc[3,1]]  # Values from the revised calculation\n",
        "\n",
        "# Creating subplots\n",
        "fig, axes = plt.subplots(nrows=1, ncols=4, figsize=(18, 5))\n",
        "\n",
        "# Plotting each metric\n",
        "for i, metric in enumerate(metrics):\n",
        "    axes[i].bar('Before', metrics_before_values[i], color='green')\n",
        "    axes[i].bar('After', metrics_after_values[i], color='yellow')\n",
        "    axes[i].set_title(metric)\n",
        "    axes[i].set_ylabel('Value')\n",
        "\n",
        "# Enhancing layout\n",
        "plt.tight_layout()\n",
        "\n",
        "plt.show();"
      ],
      "metadata": {
        "id": "ZY5abs6PQaDo"
      },
      "execution_count": null,
      "outputs": []
    },
    {
      "cell_type": "code",
      "source": [
        "combined_coupon_data = fb_ads[fb_ads['Campaign'] != 'before']\n",
        "\n",
        "# 'Campaign' 열을 숫자 값으로 변환하여 상관 분석을 위해 'coupon'을 1로, 'no_coupon'을 0으로 할당\n",
        "combined_coupon_data['Campaign_numeric'] = combined_coupon_data['Campaign'].apply(lambda x: 1 if x == 'coupon' else 0)"
      ],
      "metadata": {
        "id": "G8IEqeAvMV0T"
      },
      "execution_count": null,
      "outputs": []
    },
    {
      "cell_type": "code",
      "source": [
        "variables = ['Campaign_numeric', 'Impressions', 'Clicks', 'Spent', 'Conversion', 'Sales']"
      ],
      "metadata": {
        "id": "3lIIIAmFibMs"
      },
      "execution_count": null,
      "outputs": []
    },
    {
      "cell_type": "code",
      "source": [
        "# 상관분석 수행\n",
        "correlation_matrix = combined_coupon_data[variables].corr()\n",
        "\n",
        "# 상관분석 결과 시각화\n",
        "plt.figure(figsize=(8, 6))\n",
        "sns.heatmap(correlation_matrix, annot=True, cmap='coolwarm', fmt=\".2f\")\n",
        "plt.title('Correlation Matrix')\n",
        "\n",
        "plt.show(), normality_test_results"
      ],
      "metadata": {
        "id": "hUmH8GighV9r"
      },
      "execution_count": null,
      "outputs": []
    },
    {
      "cell_type": "code",
      "source": [
        "# 'before'와 'coupon' 그룹으로 데이터 분리\n",
        "sales_before = fb_ads[fb_ads['Campaign'] == 'no_coupon']['Sales']\n",
        "sales_coupon = fb_ads[fb_ads['Campaign'] == 'coupon']['Sales']\n",
        "\n",
        "# Mann-Whitney U 검정 수행\n",
        "stat, p = mannwhitneyu(sales_before, sales_coupon)\n",
        "\n",
        "# 검정 결과 시각화\n",
        "plt.figure(figsize=(10, 6))\n",
        "sns.boxplot(x='Campaign', y='Sales', data=fb_ads[fb_ads['Campaign'].isin(['no_coupon', 'coupon'])])\n",
        "plt.title('Sales Before and After Coupon Distribution')\n",
        "plt.xlabel('Campaign')\n",
        "plt.ylabel('Sales')\n",
        "\n",
        "plt.show(), {'Mann-Whitney U Test Statistic': stat, 'p-value': p}"
      ],
      "metadata": {
        "id": "GmljtzPbfhFZ"
      },
      "execution_count": null,
      "outputs": []
    }
  ]
}