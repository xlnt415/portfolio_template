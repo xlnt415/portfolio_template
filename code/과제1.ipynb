{
  "nbformat": 4,
  "nbformat_minor": 0,
  "metadata": {
    "colab": {
      "private_outputs": true,
      "provenance": [],
      "mount_file_id": "https://github.com/xlnt415/xlnt_portfolio.github.io/blob/main/code/%EA%B3%BC%EC%A0%9C1.ipynb",
      "authorship_tag": "ABX9TyNTjB5mnMTCFwvUDl6a0AEX",
      "include_colab_link": true
    },
    "kernelspec": {
      "name": "python3",
      "display_name": "Python 3"
    },
    "language_info": {
      "name": "python"
    },
    "vp": {
      "vp_note_display": false,
      "vp_note_width": 0,
      "vp_section_display": true,
      "vp_position": {
        "width": 278
      }
    }
  },
  "cells": [
    {
      "cell_type": "markdown",
      "metadata": {
        "id": "view-in-github",
        "colab_type": "text"
      },
      "source": [
        "<a href=\"https://colab.research.google.com/github/xlnt415/xlnt_portfolio.github.io/blob/main/code/%EA%B3%BC%EC%A0%9C1.ipynb\" target=\"_parent\"><img src=\"https://colab.research.google.com/assets/colab-badge.svg\" alt=\"Open In Colab\"/></a>"
      ]
    },
    {
      "cell_type": "code",
      "execution_count": null,
      "metadata": {
        "id": "O5yAuYNM1XS_"
      },
      "outputs": [],
      "source": [
        "import pandas as pd\n",
        "import matplotlib.pyplot as plt"
      ]
    },
    {
      "cell_type": "code",
      "source": [
        " fb_ads = pd.read_csv('/content/drive/MyDrive/취업준비/MMM/fb_ad/facebook_ads.csv')"
      ],
      "metadata": {
        "id": "DtxrBnro13y6"
      },
      "execution_count": null,
      "outputs": []
    },
    {
      "cell_type": "code",
      "source": [
        "fb_ads.info()"
      ],
      "metadata": {
        "id": "IG22f1ApYOuJ"
      },
      "execution_count": null,
      "outputs": []
    },
    {
      "cell_type": "markdown",
      "source": [
        "## 광고 지표"
      ],
      "metadata": {
        "id": "5R4hJEK6UFlm"
      }
    },
    {
      "cell_type": "markdown",
      "source": [
        "### 캠페인 전후 비교"
      ],
      "metadata": {
        "id": "2VUklOCF8Fg4"
      }
    },
    {
      "cell_type": "code",
      "source": [
        "before_promotion = fb_ads[fb_ads['Campain'] == 'before']\n",
        "coupon_promotion = fb_ads[fb_ads['Campain'] == 'coupon']\n",
        "no_coupon_promotion = fb_ads[fb_ads['Campain'] == 'no_coupon']"
      ],
      "metadata": {
        "id": "LNNMA2d48cRE"
      },
      "execution_count": null,
      "outputs": []
    },
    {
      "cell_type": "code",
      "source": [
        "def calculate_metrics(df):\n",
        "    metrics = {\n",
        "        'CTR': (df['Clicks'] / df['Impressions']).mean() * 100,\n",
        "        'Conversion Rate': (df['Orders'] / df['Clicks']).mean() * 100,\n",
        "        'ROAS': (df['Sales'] / df['Spend']).mean(),\n",
        "        'ROI': ((df['Sales'] - df['Spend']) / df['Spend']).mean() * 100,\n",
        "        'CPM': (df['Spend'] / (df['Impressions'] / 1000)).mean()\n",
        "    }\n",
        "    return metrics"
      ],
      "metadata": {
        "id": "VOv-Aie6C9ci"
      },
      "execution_count": null,
      "outputs": []
    },
    {
      "cell_type": "code",
      "source": [
        "# impressions = [before_promotion['Impressions'].sum(), coupon_promotion['Impressions'].sum(), no_coupon_promotion['Impressions'].sum()]\n",
        "# sales = [before_promotion['Sales'].sum(), coupon_promotion['Sales'].sum(), no_coupon_promotion['Sales'].sum()]\n",
        "# users = [before_promotion['ASIN/SKU Alias'].nunique(), coupon_promotion['ASIN/SKU Alias'].nunique(), no_coupon_promotion['ASIN/SKU Alias'].nunique()]\n",
        "# ctr = [metrics_before['CTR'], metrics_coupon['CTR'], metrics_no_coupon['CTR']]\n",
        "# conversion_rate = [metrics_before['Conversion Rate'], metrics_coupon['Conversion Rate'], metrics_no_coupon['Conversion Rate']]\n",
        "# roas = [metrics_before['ROAS'], metrics_coupon['ROAS'], metrics_no_coupon['ROAS']]\n",
        "# roi = [metrics_before['ROI'], metrics_coupon['ROI'], metrics_no_coupon['ROI']]\n",
        "# cpm = [metrics_before['CPM'], metrics_coupon['CPM'], metrics_no_coupon['CPM']]"
      ],
      "metadata": {
        "id": "fiXxBVJmCvgq"
      },
      "execution_count": null,
      "outputs": []
    },
    {
      "cell_type": "code",
      "source": [
        "bs = before_promotion.Sales.sum()\n",
        "af = after_promotion.Sales.sum()\n",
        "print({'Before Sales': bs, 'After Sales': af})"
      ],
      "metadata": {
        "id": "6MFaxpIQKtRs"
      },
      "execution_count": null,
      "outputs": []
    },
    {
      "cell_type": "code",
      "source": [
        "# 막대 그래프 생성\n",
        "labels = ['Before Promotion', 'After Promotion']\n",
        "values = [bs, af]\n",
        "\n",
        "plt.bar(labels, values, color=['blue', 'orange'])\n",
        "plt.xlabel('Before Promotion/After Promotion')\n",
        "plt.ylabel('Total Sales')\n",
        "plt.title('Comparison of Total Sales Before and After Promotion')\n",
        "\n",
        "for i, v in enumerate(values):\n",
        "    plt.text(i, v, str(v), ha='center', va='bottom', fontsize=12)\n",
        "# 그래프 표시\n",
        "plt.show()"
      ],
      "metadata": {
        "id": "WH-MwJ1LLl8m"
      },
      "execution_count": null,
      "outputs": []
    },
    {
      "cell_type": "code",
      "source": [
        "# Combining 'coupon' and 'no_coupon' data as 'after_promotion'\n",
        "after_promotion = pd.concat([coupon_promotion, no_coupon_promotion])\n",
        "\n",
        "# Calculating metrics for 'after_promotion'\n",
        "metrics_after = calculate_metrics(after_promotion)\n",
        "\n",
        "# Preparing a DataFrame to compare 'before' and 'after' metrics\n",
        "comparison_metrics = pd.DataFrame({'Before Promotion': metrics_before, 'After Promotion': metrics_after})\n",
        "\n",
        "comparison_metrics"
      ],
      "metadata": {
        "id": "NLxkDishCdEi"
      },
      "execution_count": null,
      "outputs": []
    },
    {
      "cell_type": "code",
      "source": [
        "# Re-defining the metrics and their values for plotting\n",
        "metrics = ['CTR', 'Conversion Rate', 'ROAS', 'ROI', 'CPM']\n",
        "metrics_before_values = [18.069051, 28.010319, 11.759594, 1075.959445, 176.768045]  # Values from the revised calculation\n",
        "metrics_after_values = [17.665647, 28.829892, 15.155446, 1415.544578, 172.163641]  # Values from the revised calculation\n",
        "\n",
        "# Creating subplots\n",
        "fig, axes = plt.subplots(nrows=1, ncols=5, figsize=(18, 5))\n",
        "\n",
        "# Plotting each metric\n",
        "for i, metric in enumerate(metrics):\n",
        "    axes[i].bar('Before', metrics_before_values[i], color='blue')\n",
        "    axes[i].bar('After', metrics_after_values[i], color='orange')\n",
        "    axes[i].set_title(metric)\n",
        "    axes[i].set_ylabel('Value')\n",
        "\n",
        "# Enhancing layout\n",
        "plt.tight_layout()\n",
        "\n",
        "plt.show();"
      ],
      "metadata": {
        "id": "IctqyPjQ2qQy"
      },
      "execution_count": null,
      "outputs": []
    },
    {
      "cell_type": "markdown",
      "source": [
        "### 쿠폰 발급 유무"
      ],
      "metadata": {
        "id": "-p78z9iuMYF-"
      }
    },
    {
      "cell_type": "code",
      "source": [
        "cp = coupon_promotion.Sales.sum()\n",
        "nc = no_coupon_promotion.Sales.sum()\n",
        "print({'coupon_promotion': cp, 'no_coupon_promotion': nc})"
      ],
      "metadata": {
        "id": "fArwRtiUM8UQ"
      },
      "execution_count": null,
      "outputs": []
    },
    {
      "cell_type": "code",
      "source": [
        "# 막대 그래프 생성\n",
        "labels = ['coupon', 'no_coupon']\n",
        "values = [cp, nc]\n",
        "\n",
        "plt.bar(labels, values, color=['green', 'yellow'])\n",
        "plt.xlabel('Before Promotion/After Promotion')\n",
        "plt.ylabel('Total Sales')\n",
        "plt.title('Comparison of Total Sales Before and After Promotion')\n",
        "\n",
        "for i, v in enumerate(values):\n",
        "    plt.text(i, v, str(v), ha='center', va='bottom', fontsize=12)\n",
        "# 그래프 표시\n",
        "plt.show()"
      ],
      "metadata": {
        "id": "BgiVThPrQgX8"
      },
      "execution_count": null,
      "outputs": []
    },
    {
      "cell_type": "code",
      "source": [],
      "metadata": {
        "id": "bIVuAN0JWaiN"
      },
      "execution_count": null,
      "outputs": []
    },
    {
      "cell_type": "code",
      "source": [
        "# Calculating metrics for 'after_promotion'\n",
        "metrics_coupon = calculate_metrics(coupon_promotion)\n",
        "metrics_no = calculate_metrics(no_coupon_promotion)\n",
        "# Preparing a DataFrame to compare 'before' and 'after' metrics\n",
        "coupon_metrics = pd.DataFrame({'Coupon': metrics_coupon, 'No Coupon': metrics_no})\n",
        "\n",
        "coupon_metrics"
      ],
      "metadata": {
        "id": "wy6DOmfp-pHC"
      },
      "execution_count": null,
      "outputs": []
    },
    {
      "cell_type": "code",
      "source": [
        "combined_coupon_data = fb_ads[fb_ads['Campain'] != 'before']\n",
        "\n",
        "# Converting 'Campain' column to numerical values for correlation analysis\n",
        "# Assigning 'coupon' as 1 and 'no_coupon' as 0\n",
        "combined_coupon_data['Campain_numeric'] = combined_coupon_data['Campain'].apply(lambda x: 1 if x == 'coupon' else 0)\n",
        "\n",
        "# Calculating Spearman's rank correlation coefficient between 'Campain_numeric' and 'Sales'\n",
        "spearman_correlation = stats.spearmanr(combined_coupon_data['Campain_numeric'], combined_coupon_data['Sales'])\n",
        "\n",
        "spearman_correlation"
      ],
      "metadata": {
        "id": "G8IEqeAvMV0T"
      },
      "execution_count": null,
      "outputs": []
    },
    {
      "cell_type": "code",
      "source": [],
      "metadata": {
        "id": "tjF5NKJSMVx3"
      },
      "execution_count": null,
      "outputs": []
    },
    {
      "cell_type": "code",
      "source": [],
      "metadata": {
        "id": "GrGHUeTBMVvD"
      },
      "execution_count": null,
      "outputs": []
    },
    {
      "cell_type": "code",
      "source": [],
      "metadata": {
        "id": "Zr_kiUXeMVsU"
      },
      "execution_count": null,
      "outputs": []
    }
  ]
}